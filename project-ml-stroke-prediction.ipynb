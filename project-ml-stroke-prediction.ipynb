{
 "cells": [
  {
   "cell_type": "markdown",
   "id": "dbd7a47e",
   "metadata": {},
   "source": [
    "# 1. Data Preparation"
   ]
  },
  {
   "cell_type": "markdown",
   "id": "4e2b69c9",
   "metadata": {},
   "source": [
    "## 1.1 Load Library"
   ]
  },
  {
   "cell_type": "code",
   "execution_count": 1,
   "id": "3b84b5d7",
   "metadata": {},
   "outputs": [],
   "source": [
    "import pandas as pd\n",
    "import numpy as np\n",
    "from sklearn.model_selection import train_test_split\n",
    "import seaborn as sns\n",
    "import matplotlib.pyplot as plt"
   ]
  },
  {
   "cell_type": "markdown",
   "id": "d54dc91a",
   "metadata": {},
   "source": [
    "## 1.2 Load Dataset"
   ]
  },
  {
   "cell_type": "code",
   "execution_count": 2,
   "id": "43182005",
   "metadata": {},
   "outputs": [
    {
     "data": {
      "text/html": [
       "<div>\n",
       "<style scoped>\n",
       "    .dataframe tbody tr th:only-of-type {\n",
       "        vertical-align: middle;\n",
       "    }\n",
       "\n",
       "    .dataframe tbody tr th {\n",
       "        vertical-align: top;\n",
       "    }\n",
       "\n",
       "    .dataframe thead th {\n",
       "        text-align: right;\n",
       "    }\n",
       "</style>\n",
       "<table border=\"1\" class=\"dataframe\">\n",
       "  <thead>\n",
       "    <tr style=\"text-align: right;\">\n",
       "      <th></th>\n",
       "      <th>id</th>\n",
       "      <th>gender</th>\n",
       "      <th>age</th>\n",
       "      <th>hypertension</th>\n",
       "      <th>heart_disease</th>\n",
       "      <th>ever_married</th>\n",
       "      <th>work_type</th>\n",
       "      <th>Residence_type</th>\n",
       "      <th>avg_glucose_level</th>\n",
       "      <th>bmi</th>\n",
       "      <th>smoking_status</th>\n",
       "      <th>stroke</th>\n",
       "    </tr>\n",
       "  </thead>\n",
       "  <tbody>\n",
       "    <tr>\n",
       "      <th>0</th>\n",
       "      <td>9046</td>\n",
       "      <td>Male</td>\n",
       "      <td>67.0</td>\n",
       "      <td>0</td>\n",
       "      <td>1</td>\n",
       "      <td>Yes</td>\n",
       "      <td>Private</td>\n",
       "      <td>Urban</td>\n",
       "      <td>228.69</td>\n",
       "      <td>36.6</td>\n",
       "      <td>formerly smoked</td>\n",
       "      <td>1</td>\n",
       "    </tr>\n",
       "    <tr>\n",
       "      <th>1</th>\n",
       "      <td>51676</td>\n",
       "      <td>Female</td>\n",
       "      <td>61.0</td>\n",
       "      <td>0</td>\n",
       "      <td>0</td>\n",
       "      <td>Yes</td>\n",
       "      <td>Self-employed</td>\n",
       "      <td>Rural</td>\n",
       "      <td>202.21</td>\n",
       "      <td>NaN</td>\n",
       "      <td>never smoked</td>\n",
       "      <td>1</td>\n",
       "    </tr>\n",
       "    <tr>\n",
       "      <th>2</th>\n",
       "      <td>31112</td>\n",
       "      <td>Male</td>\n",
       "      <td>80.0</td>\n",
       "      <td>0</td>\n",
       "      <td>1</td>\n",
       "      <td>Yes</td>\n",
       "      <td>Private</td>\n",
       "      <td>Rural</td>\n",
       "      <td>105.92</td>\n",
       "      <td>32.5</td>\n",
       "      <td>never smoked</td>\n",
       "      <td>1</td>\n",
       "    </tr>\n",
       "    <tr>\n",
       "      <th>3</th>\n",
       "      <td>60182</td>\n",
       "      <td>Female</td>\n",
       "      <td>49.0</td>\n",
       "      <td>0</td>\n",
       "      <td>0</td>\n",
       "      <td>Yes</td>\n",
       "      <td>Private</td>\n",
       "      <td>Urban</td>\n",
       "      <td>171.23</td>\n",
       "      <td>34.4</td>\n",
       "      <td>smokes</td>\n",
       "      <td>1</td>\n",
       "    </tr>\n",
       "    <tr>\n",
       "      <th>4</th>\n",
       "      <td>1665</td>\n",
       "      <td>Female</td>\n",
       "      <td>79.0</td>\n",
       "      <td>1</td>\n",
       "      <td>0</td>\n",
       "      <td>Yes</td>\n",
       "      <td>Self-employed</td>\n",
       "      <td>Rural</td>\n",
       "      <td>174.12</td>\n",
       "      <td>24.0</td>\n",
       "      <td>never smoked</td>\n",
       "      <td>1</td>\n",
       "    </tr>\n",
       "  </tbody>\n",
       "</table>\n",
       "</div>"
      ],
      "text/plain": [
       "      id  gender   age  hypertension  heart_disease ever_married  \\\n",
       "0   9046    Male  67.0             0              1          Yes   \n",
       "1  51676  Female  61.0             0              0          Yes   \n",
       "2  31112    Male  80.0             0              1          Yes   \n",
       "3  60182  Female  49.0             0              0          Yes   \n",
       "4   1665  Female  79.0             1              0          Yes   \n",
       "\n",
       "       work_type Residence_type  avg_glucose_level   bmi   smoking_status  \\\n",
       "0        Private          Urban             228.69  36.6  formerly smoked   \n",
       "1  Self-employed          Rural             202.21   NaN     never smoked   \n",
       "2        Private          Rural             105.92  32.5     never smoked   \n",
       "3        Private          Urban             171.23  34.4           smokes   \n",
       "4  Self-employed          Rural             174.12  24.0     never smoked   \n",
       "\n",
       "   stroke  \n",
       "0       1  \n",
       "1       1  \n",
       "2       1  \n",
       "3       1  \n",
       "4       1  "
      ]
     },
     "execution_count": 2,
     "metadata": {},
     "output_type": "execute_result"
    }
   ],
   "source": [
    "dataset = pd.read_csv(\"Dataset/healthcare-dataset-stroke-data.csv\")\n",
    "dataset.head()"
   ]
  },
  {
   "cell_type": "markdown",
   "id": "97121e25",
   "metadata": {},
   "source": [
    "## 1.3 Data Validation"
   ]
  },
  {
   "cell_type": "code",
   "execution_count": 3,
   "id": "f03205c7",
   "metadata": {},
   "outputs": [
    {
     "data": {
      "text/plain": [
       "id                     0\n",
       "gender                 0\n",
       "age                    0\n",
       "hypertension           0\n",
       "heart_disease          0\n",
       "ever_married           0\n",
       "work_type              0\n",
       "Residence_type         0\n",
       "avg_glucose_level      0\n",
       "bmi                  201\n",
       "smoking_status         0\n",
       "stroke                 0\n",
       "dtype: int64"
      ]
     },
     "execution_count": 3,
     "metadata": {},
     "output_type": "execute_result"
    }
   ],
   "source": [
    "dataset.isnull().sum()"
   ]
  },
  {
   "cell_type": "markdown",
   "id": "cd5d777d",
   "metadata": {},
   "source": [
    "Diketahui ada data null (kosong) di kolom `bmi`"
   ]
  },
  {
   "cell_type": "code",
   "execution_count": 4,
   "id": "f3b1a17f",
   "metadata": {},
   "outputs": [
    {
     "name": "stdout",
     "output_type": "stream",
     "text": [
      "<class 'pandas.core.frame.DataFrame'>\n",
      "RangeIndex: 5110 entries, 0 to 5109\n",
      "Data columns (total 12 columns):\n",
      " #   Column             Non-Null Count  Dtype  \n",
      "---  ------             --------------  -----  \n",
      " 0   id                 5110 non-null   int64  \n",
      " 1   gender             5110 non-null   object \n",
      " 2   age                5110 non-null   float64\n",
      " 3   hypertension       5110 non-null   int64  \n",
      " 4   heart_disease      5110 non-null   int64  \n",
      " 5   ever_married       5110 non-null   object \n",
      " 6   work_type          5110 non-null   object \n",
      " 7   Residence_type     5110 non-null   object \n",
      " 8   avg_glucose_level  5110 non-null   float64\n",
      " 9   bmi                4909 non-null   float64\n",
      " 10  smoking_status     5110 non-null   object \n",
      " 11  stroke             5110 non-null   int64  \n",
      "dtypes: float64(3), int64(4), object(5)\n",
      "memory usage: 479.2+ KB\n"
     ]
    }
   ],
   "source": [
    "dataset.info()"
   ]
  },
  {
   "cell_type": "code",
   "execution_count": 5,
   "id": "40487711",
   "metadata": {},
   "outputs": [
    {
     "data": {
      "text/html": [
       "<div>\n",
       "<style scoped>\n",
       "    .dataframe tbody tr th:only-of-type {\n",
       "        vertical-align: middle;\n",
       "    }\n",
       "\n",
       "    .dataframe tbody tr th {\n",
       "        vertical-align: top;\n",
       "    }\n",
       "\n",
       "    .dataframe thead th {\n",
       "        text-align: right;\n",
       "    }\n",
       "</style>\n",
       "<table border=\"1\" class=\"dataframe\">\n",
       "  <thead>\n",
       "    <tr style=\"text-align: right;\">\n",
       "      <th></th>\n",
       "      <th>id</th>\n",
       "      <th>age</th>\n",
       "      <th>hypertension</th>\n",
       "      <th>heart_disease</th>\n",
       "      <th>avg_glucose_level</th>\n",
       "      <th>bmi</th>\n",
       "      <th>stroke</th>\n",
       "    </tr>\n",
       "  </thead>\n",
       "  <tbody>\n",
       "    <tr>\n",
       "      <th>count</th>\n",
       "      <td>5110.00</td>\n",
       "      <td>5110.00</td>\n",
       "      <td>5110.0</td>\n",
       "      <td>5110.00</td>\n",
       "      <td>5110.00</td>\n",
       "      <td>4909.00</td>\n",
       "      <td>5110.00</td>\n",
       "    </tr>\n",
       "    <tr>\n",
       "      <th>mean</th>\n",
       "      <td>36517.83</td>\n",
       "      <td>43.23</td>\n",
       "      <td>0.1</td>\n",
       "      <td>0.05</td>\n",
       "      <td>106.15</td>\n",
       "      <td>28.89</td>\n",
       "      <td>0.05</td>\n",
       "    </tr>\n",
       "    <tr>\n",
       "      <th>std</th>\n",
       "      <td>21161.72</td>\n",
       "      <td>22.61</td>\n",
       "      <td>0.3</td>\n",
       "      <td>0.23</td>\n",
       "      <td>45.28</td>\n",
       "      <td>7.85</td>\n",
       "      <td>0.22</td>\n",
       "    </tr>\n",
       "    <tr>\n",
       "      <th>min</th>\n",
       "      <td>67.00</td>\n",
       "      <td>0.08</td>\n",
       "      <td>0.0</td>\n",
       "      <td>0.00</td>\n",
       "      <td>55.12</td>\n",
       "      <td>10.30</td>\n",
       "      <td>0.00</td>\n",
       "    </tr>\n",
       "    <tr>\n",
       "      <th>25%</th>\n",
       "      <td>17741.25</td>\n",
       "      <td>25.00</td>\n",
       "      <td>0.0</td>\n",
       "      <td>0.00</td>\n",
       "      <td>77.24</td>\n",
       "      <td>23.50</td>\n",
       "      <td>0.00</td>\n",
       "    </tr>\n",
       "    <tr>\n",
       "      <th>50%</th>\n",
       "      <td>36932.00</td>\n",
       "      <td>45.00</td>\n",
       "      <td>0.0</td>\n",
       "      <td>0.00</td>\n",
       "      <td>91.88</td>\n",
       "      <td>28.10</td>\n",
       "      <td>0.00</td>\n",
       "    </tr>\n",
       "    <tr>\n",
       "      <th>75%</th>\n",
       "      <td>54682.00</td>\n",
       "      <td>61.00</td>\n",
       "      <td>0.0</td>\n",
       "      <td>0.00</td>\n",
       "      <td>114.09</td>\n",
       "      <td>33.10</td>\n",
       "      <td>0.00</td>\n",
       "    </tr>\n",
       "    <tr>\n",
       "      <th>max</th>\n",
       "      <td>72940.00</td>\n",
       "      <td>82.00</td>\n",
       "      <td>1.0</td>\n",
       "      <td>1.00</td>\n",
       "      <td>271.74</td>\n",
       "      <td>97.60</td>\n",
       "      <td>1.00</td>\n",
       "    </tr>\n",
       "  </tbody>\n",
       "</table>\n",
       "</div>"
      ],
      "text/plain": [
       "             id      age  hypertension  heart_disease  avg_glucose_level  \\\n",
       "count   5110.00  5110.00        5110.0        5110.00            5110.00   \n",
       "mean   36517.83    43.23           0.1           0.05             106.15   \n",
       "std    21161.72    22.61           0.3           0.23              45.28   \n",
       "min       67.00     0.08           0.0           0.00              55.12   \n",
       "25%    17741.25    25.00           0.0           0.00              77.24   \n",
       "50%    36932.00    45.00           0.0           0.00              91.88   \n",
       "75%    54682.00    61.00           0.0           0.00             114.09   \n",
       "max    72940.00    82.00           1.0           1.00             271.74   \n",
       "\n",
       "           bmi   stroke  \n",
       "count  4909.00  5110.00  \n",
       "mean     28.89     0.05  \n",
       "std       7.85     0.22  \n",
       "min      10.30     0.00  \n",
       "25%      23.50     0.00  \n",
       "50%      28.10     0.00  \n",
       "75%      33.10     0.00  \n",
       "max      97.60     1.00  "
      ]
     },
     "execution_count": 5,
     "metadata": {},
     "output_type": "execute_result"
    }
   ],
   "source": [
    "round((dataset.describe()),2)"
   ]
  },
  {
   "cell_type": "markdown",
   "id": "e3e11e87",
   "metadata": {},
   "source": [
    "Diketahui kolom `age` nilai minimum 0.08 akan kita cek pada saat **EDA**"
   ]
  },
  {
   "cell_type": "code",
   "execution_count": 6,
   "id": "d1c83ba0",
   "metadata": {},
   "outputs": [
    {
     "data": {
      "text/plain": [
       "(5110, 12)"
      ]
     },
     "execution_count": 6,
     "metadata": {},
     "output_type": "execute_result"
    }
   ],
   "source": [
    "dataset.shape"
   ]
  },
  {
   "cell_type": "markdown",
   "id": "39b8aaeb",
   "metadata": {},
   "source": [
    "## 1.4 Data Splitting"
   ]
  },
  {
   "cell_type": "markdown",
   "id": "3e32e7d0",
   "metadata": {},
   "source": [
    "### 1. Drop Column yang tidak digunakan untuk modelling"
   ]
  },
  {
   "cell_type": "code",
   "execution_count": 7,
   "id": "e4853bab",
   "metadata": {},
   "outputs": [
    {
     "data": {
      "text/html": [
       "<div>\n",
       "<style scoped>\n",
       "    .dataframe tbody tr th:only-of-type {\n",
       "        vertical-align: middle;\n",
       "    }\n",
       "\n",
       "    .dataframe tbody tr th {\n",
       "        vertical-align: top;\n",
       "    }\n",
       "\n",
       "    .dataframe thead th {\n",
       "        text-align: right;\n",
       "    }\n",
       "</style>\n",
       "<table border=\"1\" class=\"dataframe\">\n",
       "  <thead>\n",
       "    <tr style=\"text-align: right;\">\n",
       "      <th></th>\n",
       "      <th>gender</th>\n",
       "      <th>age</th>\n",
       "      <th>hypertension</th>\n",
       "      <th>heart_disease</th>\n",
       "      <th>ever_married</th>\n",
       "      <th>work_type</th>\n",
       "      <th>Residence_type</th>\n",
       "      <th>avg_glucose_level</th>\n",
       "      <th>bmi</th>\n",
       "      <th>smoking_status</th>\n",
       "      <th>stroke</th>\n",
       "    </tr>\n",
       "  </thead>\n",
       "  <tbody>\n",
       "    <tr>\n",
       "      <th>0</th>\n",
       "      <td>Male</td>\n",
       "      <td>67.0</td>\n",
       "      <td>0</td>\n",
       "      <td>1</td>\n",
       "      <td>Yes</td>\n",
       "      <td>Private</td>\n",
       "      <td>Urban</td>\n",
       "      <td>228.69</td>\n",
       "      <td>36.6</td>\n",
       "      <td>formerly smoked</td>\n",
       "      <td>1</td>\n",
       "    </tr>\n",
       "    <tr>\n",
       "      <th>1</th>\n",
       "      <td>Female</td>\n",
       "      <td>61.0</td>\n",
       "      <td>0</td>\n",
       "      <td>0</td>\n",
       "      <td>Yes</td>\n",
       "      <td>Self-employed</td>\n",
       "      <td>Rural</td>\n",
       "      <td>202.21</td>\n",
       "      <td>NaN</td>\n",
       "      <td>never smoked</td>\n",
       "      <td>1</td>\n",
       "    </tr>\n",
       "    <tr>\n",
       "      <th>2</th>\n",
       "      <td>Male</td>\n",
       "      <td>80.0</td>\n",
       "      <td>0</td>\n",
       "      <td>1</td>\n",
       "      <td>Yes</td>\n",
       "      <td>Private</td>\n",
       "      <td>Rural</td>\n",
       "      <td>105.92</td>\n",
       "      <td>32.5</td>\n",
       "      <td>never smoked</td>\n",
       "      <td>1</td>\n",
       "    </tr>\n",
       "    <tr>\n",
       "      <th>3</th>\n",
       "      <td>Female</td>\n",
       "      <td>49.0</td>\n",
       "      <td>0</td>\n",
       "      <td>0</td>\n",
       "      <td>Yes</td>\n",
       "      <td>Private</td>\n",
       "      <td>Urban</td>\n",
       "      <td>171.23</td>\n",
       "      <td>34.4</td>\n",
       "      <td>smokes</td>\n",
       "      <td>1</td>\n",
       "    </tr>\n",
       "    <tr>\n",
       "      <th>4</th>\n",
       "      <td>Female</td>\n",
       "      <td>79.0</td>\n",
       "      <td>1</td>\n",
       "      <td>0</td>\n",
       "      <td>Yes</td>\n",
       "      <td>Self-employed</td>\n",
       "      <td>Rural</td>\n",
       "      <td>174.12</td>\n",
       "      <td>24.0</td>\n",
       "      <td>never smoked</td>\n",
       "      <td>1</td>\n",
       "    </tr>\n",
       "  </tbody>\n",
       "</table>\n",
       "</div>"
      ],
      "text/plain": [
       "   gender   age  hypertension  heart_disease ever_married      work_type  \\\n",
       "0    Male  67.0             0              1          Yes        Private   \n",
       "1  Female  61.0             0              0          Yes  Self-employed   \n",
       "2    Male  80.0             0              1          Yes        Private   \n",
       "3  Female  49.0             0              0          Yes        Private   \n",
       "4  Female  79.0             1              0          Yes  Self-employed   \n",
       "\n",
       "  Residence_type  avg_glucose_level   bmi   smoking_status  stroke  \n",
       "0          Urban             228.69  36.6  formerly smoked       1  \n",
       "1          Rural             202.21   NaN     never smoked       1  \n",
       "2          Rural             105.92  32.5     never smoked       1  \n",
       "3          Urban             171.23  34.4           smokes       1  \n",
       "4          Rural             174.12  24.0     never smoked       1  "
      ]
     },
     "execution_count": 7,
     "metadata": {},
     "output_type": "execute_result"
    }
   ],
   "source": [
    "dataset = dataset.drop(\"id\", axis=1)\n",
    "dataset.head()"
   ]
  },
  {
   "cell_type": "code",
   "execution_count": 8,
   "id": "8f021a0e",
   "metadata": {},
   "outputs": [
    {
     "data": {
      "text/plain": [
       "(5110, 11)"
      ]
     },
     "execution_count": 8,
     "metadata": {},
     "output_type": "execute_result"
    }
   ],
   "source": [
    "dataset.shape"
   ]
  },
  {
   "cell_type": "markdown",
   "id": "9bb11a17",
   "metadata": {},
   "source": [
    "### 2. Cek apakah ada Duplicated Data"
   ]
  },
  {
   "cell_type": "code",
   "execution_count": 9,
   "id": "8b669d02",
   "metadata": {},
   "outputs": [
    {
     "data": {
      "text/plain": [
       "False"
      ]
     },
     "execution_count": 9,
     "metadata": {},
     "output_type": "execute_result"
    }
   ],
   "source": [
    "dataset.duplicated().any()"
   ]
  },
  {
   "cell_type": "markdown",
   "id": "d1d4b443",
   "metadata": {},
   "source": [
    "### 3. Split data X dan Y"
   ]
  },
  {
   "cell_type": "code",
   "execution_count": 10,
   "id": "5b272701",
   "metadata": {},
   "outputs": [],
   "source": [
    "x = dataset.drop(\"stroke\", axis=1)\n",
    "y = dataset[\"stroke\"]"
   ]
  },
  {
   "cell_type": "code",
   "execution_count": 11,
   "id": "a26ede53",
   "metadata": {},
   "outputs": [
    {
     "data": {
      "text/html": [
       "<div>\n",
       "<style scoped>\n",
       "    .dataframe tbody tr th:only-of-type {\n",
       "        vertical-align: middle;\n",
       "    }\n",
       "\n",
       "    .dataframe tbody tr th {\n",
       "        vertical-align: top;\n",
       "    }\n",
       "\n",
       "    .dataframe thead th {\n",
       "        text-align: right;\n",
       "    }\n",
       "</style>\n",
       "<table border=\"1\" class=\"dataframe\">\n",
       "  <thead>\n",
       "    <tr style=\"text-align: right;\">\n",
       "      <th></th>\n",
       "      <th>gender</th>\n",
       "      <th>age</th>\n",
       "      <th>hypertension</th>\n",
       "      <th>heart_disease</th>\n",
       "      <th>ever_married</th>\n",
       "      <th>work_type</th>\n",
       "      <th>Residence_type</th>\n",
       "      <th>avg_glucose_level</th>\n",
       "      <th>bmi</th>\n",
       "      <th>smoking_status</th>\n",
       "    </tr>\n",
       "  </thead>\n",
       "  <tbody>\n",
       "    <tr>\n",
       "      <th>0</th>\n",
       "      <td>Male</td>\n",
       "      <td>67.0</td>\n",
       "      <td>0</td>\n",
       "      <td>1</td>\n",
       "      <td>Yes</td>\n",
       "      <td>Private</td>\n",
       "      <td>Urban</td>\n",
       "      <td>228.69</td>\n",
       "      <td>36.6</td>\n",
       "      <td>formerly smoked</td>\n",
       "    </tr>\n",
       "    <tr>\n",
       "      <th>1</th>\n",
       "      <td>Female</td>\n",
       "      <td>61.0</td>\n",
       "      <td>0</td>\n",
       "      <td>0</td>\n",
       "      <td>Yes</td>\n",
       "      <td>Self-employed</td>\n",
       "      <td>Rural</td>\n",
       "      <td>202.21</td>\n",
       "      <td>NaN</td>\n",
       "      <td>never smoked</td>\n",
       "    </tr>\n",
       "    <tr>\n",
       "      <th>2</th>\n",
       "      <td>Male</td>\n",
       "      <td>80.0</td>\n",
       "      <td>0</td>\n",
       "      <td>1</td>\n",
       "      <td>Yes</td>\n",
       "      <td>Private</td>\n",
       "      <td>Rural</td>\n",
       "      <td>105.92</td>\n",
       "      <td>32.5</td>\n",
       "      <td>never smoked</td>\n",
       "    </tr>\n",
       "    <tr>\n",
       "      <th>3</th>\n",
       "      <td>Female</td>\n",
       "      <td>49.0</td>\n",
       "      <td>0</td>\n",
       "      <td>0</td>\n",
       "      <td>Yes</td>\n",
       "      <td>Private</td>\n",
       "      <td>Urban</td>\n",
       "      <td>171.23</td>\n",
       "      <td>34.4</td>\n",
       "      <td>smokes</td>\n",
       "    </tr>\n",
       "    <tr>\n",
       "      <th>4</th>\n",
       "      <td>Female</td>\n",
       "      <td>79.0</td>\n",
       "      <td>1</td>\n",
       "      <td>0</td>\n",
       "      <td>Yes</td>\n",
       "      <td>Self-employed</td>\n",
       "      <td>Rural</td>\n",
       "      <td>174.12</td>\n",
       "      <td>24.0</td>\n",
       "      <td>never smoked</td>\n",
       "    </tr>\n",
       "  </tbody>\n",
       "</table>\n",
       "</div>"
      ],
      "text/plain": [
       "   gender   age  hypertension  heart_disease ever_married      work_type  \\\n",
       "0    Male  67.0             0              1          Yes        Private   \n",
       "1  Female  61.0             0              0          Yes  Self-employed   \n",
       "2    Male  80.0             0              1          Yes        Private   \n",
       "3  Female  49.0             0              0          Yes        Private   \n",
       "4  Female  79.0             1              0          Yes  Self-employed   \n",
       "\n",
       "  Residence_type  avg_glucose_level   bmi   smoking_status  \n",
       "0          Urban             228.69  36.6  formerly smoked  \n",
       "1          Rural             202.21   NaN     never smoked  \n",
       "2          Rural             105.92  32.5     never smoked  \n",
       "3          Urban             171.23  34.4           smokes  \n",
       "4          Rural             174.12  24.0     never smoked  "
      ]
     },
     "execution_count": 11,
     "metadata": {},
     "output_type": "execute_result"
    }
   ],
   "source": [
    "x.head()"
   ]
  },
  {
   "cell_type": "code",
   "execution_count": 12,
   "id": "33a9dacd",
   "metadata": {},
   "outputs": [
    {
     "data": {
      "text/plain": [
       "0    1\n",
       "1    1\n",
       "2    1\n",
       "3    1\n",
       "4    1\n",
       "Name: stroke, dtype: int64"
      ]
     },
     "execution_count": 12,
     "metadata": {},
     "output_type": "execute_result"
    }
   ],
   "source": [
    "y.head()"
   ]
  },
  {
   "cell_type": "code",
   "execution_count": 13,
   "id": "e12d1349",
   "metadata": {},
   "outputs": [
    {
     "data": {
      "text/plain": [
       "(5110, 10)"
      ]
     },
     "execution_count": 13,
     "metadata": {},
     "output_type": "execute_result"
    }
   ],
   "source": [
    "x.shape"
   ]
  },
  {
   "cell_type": "code",
   "execution_count": 14,
   "id": "e1ec99ec",
   "metadata": {},
   "outputs": [
    {
     "data": {
      "text/plain": [
       "(5110,)"
      ]
     },
     "execution_count": 14,
     "metadata": {},
     "output_type": "execute_result"
    }
   ],
   "source": [
    "y.shape"
   ]
  },
  {
   "cell_type": "code",
   "execution_count": 15,
   "id": "6a5a37fb",
   "metadata": {},
   "outputs": [],
   "source": [
    "x_train, x_test, y_train, y_test = train_test_split(x, y, \n",
    "                                                    test_size=0.3, \n",
    "                                                    random_state=12345,\n",
    "                                                    stratify = y)"
   ]
  },
  {
   "cell_type": "code",
   "execution_count": 16,
   "id": "50ac072b",
   "metadata": {},
   "outputs": [
    {
     "data": {
      "text/plain": [
       "(3577, 10)"
      ]
     },
     "execution_count": 16,
     "metadata": {},
     "output_type": "execute_result"
    }
   ],
   "source": [
    "x_train.shape"
   ]
  },
  {
   "cell_type": "code",
   "execution_count": 17,
   "id": "bf3e73dd",
   "metadata": {},
   "outputs": [
    {
     "data": {
      "text/plain": [
       "(3577,)"
      ]
     },
     "execution_count": 17,
     "metadata": {},
     "output_type": "execute_result"
    }
   ],
   "source": [
    "y_train.shape"
   ]
  },
  {
   "cell_type": "code",
   "execution_count": 18,
   "id": "fb5db47c",
   "metadata": {},
   "outputs": [
    {
     "data": {
      "text/plain": [
       "(1533, 10)"
      ]
     },
     "execution_count": 18,
     "metadata": {},
     "output_type": "execute_result"
    }
   ],
   "source": [
    "x_test.shape"
   ]
  },
  {
   "cell_type": "code",
   "execution_count": 19,
   "id": "51267b57",
   "metadata": {},
   "outputs": [
    {
     "data": {
      "text/plain": [
       "(1533,)"
      ]
     },
     "execution_count": 19,
     "metadata": {},
     "output_type": "execute_result"
    }
   ],
   "source": [
    "y_test.shape"
   ]
  },
  {
   "cell_type": "markdown",
   "id": "6ede919e",
   "metadata": {},
   "source": [
    "# 2. Exploratory Data Analysis"
   ]
  },
  {
   "cell_type": "markdown",
   "id": "d2425512",
   "metadata": {},
   "source": [
    "yang akan dilakukan eksplorasi adalah data training"
   ]
  },
  {
   "cell_type": "code",
   "execution_count": 20,
   "id": "3bef8c31",
   "metadata": {},
   "outputs": [
    {
     "data": {
      "text/html": [
       "<div>\n",
       "<style scoped>\n",
       "    .dataframe tbody tr th:only-of-type {\n",
       "        vertical-align: middle;\n",
       "    }\n",
       "\n",
       "    .dataframe tbody tr th {\n",
       "        vertical-align: top;\n",
       "    }\n",
       "\n",
       "    .dataframe thead th {\n",
       "        text-align: right;\n",
       "    }\n",
       "</style>\n",
       "<table border=\"1\" class=\"dataframe\">\n",
       "  <thead>\n",
       "    <tr style=\"text-align: right;\">\n",
       "      <th></th>\n",
       "      <th>gender</th>\n",
       "      <th>age</th>\n",
       "      <th>hypertension</th>\n",
       "      <th>heart_disease</th>\n",
       "      <th>ever_married</th>\n",
       "      <th>work_type</th>\n",
       "      <th>Residence_type</th>\n",
       "      <th>avg_glucose_level</th>\n",
       "      <th>bmi</th>\n",
       "      <th>smoking_status</th>\n",
       "      <th>stroke</th>\n",
       "    </tr>\n",
       "  </thead>\n",
       "  <tbody>\n",
       "    <tr>\n",
       "      <th>855</th>\n",
       "      <td>Female</td>\n",
       "      <td>32.00</td>\n",
       "      <td>0</td>\n",
       "      <td>0</td>\n",
       "      <td>Yes</td>\n",
       "      <td>Private</td>\n",
       "      <td>Rural</td>\n",
       "      <td>91.98</td>\n",
       "      <td>27.6</td>\n",
       "      <td>smokes</td>\n",
       "      <td>0</td>\n",
       "    </tr>\n",
       "    <tr>\n",
       "      <th>1243</th>\n",
       "      <td>Female</td>\n",
       "      <td>3.00</td>\n",
       "      <td>0</td>\n",
       "      <td>0</td>\n",
       "      <td>No</td>\n",
       "      <td>children</td>\n",
       "      <td>Rural</td>\n",
       "      <td>94.12</td>\n",
       "      <td>21.4</td>\n",
       "      <td>Unknown</td>\n",
       "      <td>0</td>\n",
       "    </tr>\n",
       "    <tr>\n",
       "      <th>3993</th>\n",
       "      <td>Female</td>\n",
       "      <td>41.00</td>\n",
       "      <td>0</td>\n",
       "      <td>0</td>\n",
       "      <td>Yes</td>\n",
       "      <td>Private</td>\n",
       "      <td>Urban</td>\n",
       "      <td>92.14</td>\n",
       "      <td>29.6</td>\n",
       "      <td>formerly smoked</td>\n",
       "      <td>0</td>\n",
       "    </tr>\n",
       "    <tr>\n",
       "      <th>3319</th>\n",
       "      <td>Female</td>\n",
       "      <td>1.08</td>\n",
       "      <td>0</td>\n",
       "      <td>0</td>\n",
       "      <td>No</td>\n",
       "      <td>children</td>\n",
       "      <td>Urban</td>\n",
       "      <td>159.39</td>\n",
       "      <td>12.8</td>\n",
       "      <td>Unknown</td>\n",
       "      <td>0</td>\n",
       "    </tr>\n",
       "    <tr>\n",
       "      <th>3629</th>\n",
       "      <td>Male</td>\n",
       "      <td>34.00</td>\n",
       "      <td>0</td>\n",
       "      <td>0</td>\n",
       "      <td>Yes</td>\n",
       "      <td>Private</td>\n",
       "      <td>Urban</td>\n",
       "      <td>99.23</td>\n",
       "      <td>NaN</td>\n",
       "      <td>smokes</td>\n",
       "      <td>0</td>\n",
       "    </tr>\n",
       "  </tbody>\n",
       "</table>\n",
       "</div>"
      ],
      "text/plain": [
       "      gender    age  hypertension  heart_disease ever_married work_type  \\\n",
       "855   Female  32.00             0              0          Yes   Private   \n",
       "1243  Female   3.00             0              0           No  children   \n",
       "3993  Female  41.00             0              0          Yes   Private   \n",
       "3319  Female   1.08             0              0           No  children   \n",
       "3629    Male  34.00             0              0          Yes   Private   \n",
       "\n",
       "     Residence_type  avg_glucose_level   bmi   smoking_status  stroke  \n",
       "855           Rural              91.98  27.6           smokes       0  \n",
       "1243          Rural              94.12  21.4          Unknown       0  \n",
       "3993          Urban              92.14  29.6  formerly smoked       0  \n",
       "3319          Urban             159.39  12.8          Unknown       0  \n",
       "3629          Urban              99.23   NaN           smokes       0  "
      ]
     },
     "execution_count": 20,
     "metadata": {},
     "output_type": "execute_result"
    }
   ],
   "source": [
    "train_set = pd.concat([x_train, y_train], axis = 1)\n",
    "train_set.head()"
   ]
  },
  {
   "cell_type": "markdown",
   "id": "c8e34dbb",
   "metadata": {},
   "source": [
    "## 2.1 Checking Unique Value setiap kolom tipe kategorikal"
   ]
  },
  {
   "cell_type": "code",
   "execution_count": 21,
   "id": "6755a513",
   "metadata": {},
   "outputs": [
    {
     "name": "stdout",
     "output_type": "stream",
     "text": [
      "['Female' 'Male' 'Other']\n",
      "[0 1]\n",
      "[0 1]\n",
      "['Yes' 'No']\n",
      "['Private' 'children' 'Govt_job' 'Self-employed' 'Never_worked']\n",
      "['Rural' 'Urban']\n",
      "['smokes' 'Unknown' 'formerly smoked' 'never smoked']\n",
      "[0 1]\n"
     ]
    }
   ],
   "source": [
    "cat_col = train_set[[\"gender\", \n",
    "                   \"hypertension\", \n",
    "                   \"heart_disease\", \n",
    "                   \"ever_married\", \n",
    "                   \"work_type\", \n",
    "                   \"Residence_type\", \n",
    "                   \"smoking_status\", \n",
    "                   \"stroke\"]]\n",
    "for col in cat_col :\n",
    "    print(cat_col[col].unique())"
   ]
  },
  {
   "cell_type": "markdown",
   "id": "f15e967a",
   "metadata": {},
   "source": [
    "Dikarenakan di gender ada unique values \"Other\" kita cek berapa jumlah datanya karena ini jelas gender yg membingungkan"
   ]
  },
  {
   "cell_type": "code",
   "execution_count": 22,
   "id": "b19a02fb",
   "metadata": {},
   "outputs": [
    {
     "data": {
      "text/plain": [
       "False    3576\n",
       "True        1\n",
       "Name: gender, dtype: int64"
      ]
     },
     "execution_count": 22,
     "metadata": {},
     "output_type": "execute_result"
    }
   ],
   "source": [
    "(train_set[\"gender\"]==\"Other\").value_counts()"
   ]
  },
  {
   "cell_type": "markdown",
   "id": "b325e2e3",
   "metadata": {},
   "source": [
    "Gender \"Other\" akan di drop pada saat preprocessing"
   ]
  },
  {
   "cell_type": "markdown",
   "id": "c79db880",
   "metadata": {},
   "source": [
    "## 2.2 Stroke Distribution"
   ]
  },
  {
   "cell_type": "code",
   "execution_count": 23,
   "id": "061cb18b",
   "metadata": {},
   "outputs": [
    {
     "data": {
      "image/png": "[encoded data removed]",
      "text/plain": [
       "<Figure size 432x288 with 1 Axes>"
      ]
     },
     "metadata": {
      "needs_background": "light"
     },
     "output_type": "display_data"
    }
   ],
   "source": [
    "ax = sns.countplot(data = train_set, \n",
    "                   x = \"stroke\", \n",
    "                   label = train_set[\"stroke\"].unique())\n",
    "ax.set(title = \"Stroke Distribution\", \n",
    "       ylim = [0, 3750])\n",
    "ax.bar_label(ax.containers[0]);"
   ]
  },
  {
   "cell_type": "markdown",
   "id": "9139e88b",
   "metadata": {},
   "source": [
    "Dikarenakan data imbalance maka akan dilakukan balancing dengan metode **SMOTE**"
   ]
  },
  {
   "cell_type": "markdown",
   "id": "e5c942a9",
   "metadata": {},
   "source": [
    "## 2.3 Checking Missing Value"
   ]
  },
  {
   "cell_type": "code",
   "execution_count": 24,
   "id": "a5ebdf86",
   "metadata": {},
   "outputs": [
    {
     "name": "stdout",
     "output_type": "stream",
     "text": [
      "<class 'pandas.core.frame.DataFrame'>\n",
      "Int64Index: 3577 entries, 855 to 2049\n",
      "Data columns (total 11 columns):\n",
      " #   Column             Non-Null Count  Dtype  \n",
      "---  ------             --------------  -----  \n",
      " 0   gender             3577 non-null   object \n",
      " 1   age                3577 non-null   float64\n",
      " 2   hypertension       3577 non-null   int64  \n",
      " 3   heart_disease      3577 non-null   int64  \n",
      " 4   ever_married       3577 non-null   object \n",
      " 5   work_type          3577 non-null   object \n",
      " 6   Residence_type     3577 non-null   object \n",
      " 7   avg_glucose_level  3577 non-null   float64\n",
      " 8   bmi                3443 non-null   float64\n",
      " 9   smoking_status     3577 non-null   object \n",
      " 10  stroke             3577 non-null   int64  \n",
      "dtypes: float64(3), int64(3), object(5)\n",
      "memory usage: 335.3+ KB\n"
     ]
    }
   ],
   "source": [
    "train_set.info()"
   ]
  },
  {
   "cell_type": "markdown",
   "id": "36624584",
   "metadata": {},
   "source": [
    "Diketahui kolom `bmi` memiliki missing value dan akan diimputasi. Sebelum diimputasi kita lihat distribusinya terlebih dahulu"
   ]
  },
  {
   "cell_type": "markdown",
   "id": "1118f634",
   "metadata": {},
   "source": [
    "## 2.4 BMI Distribution"
   ]
  },
  {
   "cell_type": "code",
   "execution_count": 25,
   "id": "78b6f6c3",
   "metadata": {},
   "outputs": [
    {
     "data": {
      "image/png": "[encoded data removed]",
      "text/plain": [
       "<Figure size 432x288 with 1 Axes>"
      ]
     },
     "metadata": {
      "needs_background": "light"
     },
     "output_type": "display_data"
    }
   ],
   "source": [
    "ax = sns.histplot(train_set.bmi);"
   ]
  },
  {
   "cell_type": "markdown",
   "id": "e1a807f3",
   "metadata": {},
   "source": [
    "diketahui data `bmi` skewed dan karena ini adalah data numerik maka sebaiknya di data processing akan diimputasi menggunakan metode **median**"
   ]
  },
  {
   "cell_type": "markdown",
   "id": "d0cd419a",
   "metadata": {},
   "source": [
    "## 2.5 Correlation Matrix"
   ]
  },
  {
   "cell_type": "code",
   "execution_count": 26,
   "id": "968fe6e8",
   "metadata": {},
   "outputs": [
    {
     "data": {
      "text/html": [
       "<div>\n",
       "<style scoped>\n",
       "    .dataframe tbody tr th:only-of-type {\n",
       "        vertical-align: middle;\n",
       "    }\n",
       "\n",
       "    .dataframe tbody tr th {\n",
       "        vertical-align: top;\n",
       "    }\n",
       "\n",
       "    .dataframe thead th {\n",
       "        text-align: right;\n",
       "    }\n",
       "</style>\n",
       "<table border=\"1\" class=\"dataframe\">\n",
       "  <thead>\n",
       "    <tr style=\"text-align: right;\">\n",
       "      <th></th>\n",
       "      <th>age</th>\n",
       "      <th>avg_glucose_level</th>\n",
       "      <th>bmi</th>\n",
       "      <th>stroke</th>\n",
       "    </tr>\n",
       "  </thead>\n",
       "  <tbody>\n",
       "    <tr>\n",
       "      <th>age</th>\n",
       "      <td>1.00</td>\n",
       "      <td>0.22</td>\n",
       "      <td>0.33</td>\n",
       "      <td>0.24</td>\n",
       "    </tr>\n",
       "    <tr>\n",
       "      <th>avg_glucose_level</th>\n",
       "      <td>0.22</td>\n",
       "      <td>1.00</td>\n",
       "      <td>0.17</td>\n",
       "      <td>0.15</td>\n",
       "    </tr>\n",
       "    <tr>\n",
       "      <th>bmi</th>\n",
       "      <td>0.33</td>\n",
       "      <td>0.17</td>\n",
       "      <td>1.00</td>\n",
       "      <td>0.06</td>\n",
       "    </tr>\n",
       "    <tr>\n",
       "      <th>stroke</th>\n",
       "      <td>0.24</td>\n",
       "      <td>0.15</td>\n",
       "      <td>0.06</td>\n",
       "      <td>1.00</td>\n",
       "    </tr>\n",
       "  </tbody>\n",
       "</table>\n",
       "</div>"
      ],
      "text/plain": [
       "                    age  avg_glucose_level   bmi  stroke\n",
       "age                1.00               0.22  0.33    0.24\n",
       "avg_glucose_level  0.22               1.00  0.17    0.15\n",
       "bmi                0.33               0.17  1.00    0.06\n",
       "stroke             0.24               0.15  0.06    1.00"
      ]
     },
     "execution_count": 26,
     "metadata": {},
     "output_type": "execute_result"
    }
   ],
   "source": [
    "num_col = train_set[[\"age\", \n",
    "                     \"avg_glucose_level\", \n",
    "                     \"bmi\"]]\n",
    "num_w_target = train_set[[\"age\", \n",
    "                          \"avg_glucose_level\", \n",
    "                          \"bmi\",\n",
    "                          \"stroke\"]]\n",
    "\n",
    "round((num_w_target.corr()),2)"
   ]
  },
  {
   "cell_type": "code",
   "execution_count": 27,
   "id": "9f434874",
   "metadata": {},
   "outputs": [
    {
     "data": {
      "image/png": "[encoded data removed]",
      "text/plain": [
       "<Figure size 720x360 with 2 Axes>"
      ]
     },
     "metadata": {
      "needs_background": "light"
     },
     "output_type": "display_data"
    }
   ],
   "source": [
    "corr_matrix = num_w_target.corr()\n",
    "fig, ax = plt.subplots(figsize=(10,5))\n",
    "ax = sns.heatmap(corr_matrix,\n",
    "                 annot=True,\n",
    "                 linewidths=0.5,\n",
    "                 fmt=\".2f\",\n",
    "                 cmap=\"YlGnBu\");"
   ]
  },
  {
   "cell_type": "markdown",
   "id": "49a3c394",
   "metadata": {},
   "source": [
    "Diketahui korelasi antar data berkategori numerik terhadap target `(stroke)` masih tergolong rendah korelasinya"
   ]
  },
  {
   "cell_type": "markdown",
   "id": "0d4641ff",
   "metadata": {},
   "source": [
    "## 2.6 Stroke Frequency per Hypertension"
   ]
  },
  {
   "cell_type": "code",
   "execution_count": 28,
   "id": "c4f08515",
   "metadata": {},
   "outputs": [
    {
     "data": {
      "text/html": [
       "<div>\n",
       "<style scoped>\n",
       "    .dataframe tbody tr th:only-of-type {\n",
       "        vertical-align: middle;\n",
       "    }\n",
       "\n",
       "    .dataframe tbody tr th {\n",
       "        vertical-align: top;\n",
       "    }\n",
       "\n",
       "    .dataframe thead th {\n",
       "        text-align: right;\n",
       "    }\n",
       "</style>\n",
       "<table border=\"1\" class=\"dataframe\">\n",
       "  <thead>\n",
       "    <tr style=\"text-align: right;\">\n",
       "      <th>stroke</th>\n",
       "      <th>0</th>\n",
       "      <th>1</th>\n",
       "    </tr>\n",
       "    <tr>\n",
       "      <th>hypertension</th>\n",
       "      <th></th>\n",
       "      <th></th>\n",
       "    </tr>\n",
       "  </thead>\n",
       "  <tbody>\n",
       "    <tr>\n",
       "      <th>0</th>\n",
       "      <td>3095</td>\n",
       "      <td>124</td>\n",
       "    </tr>\n",
       "    <tr>\n",
       "      <th>1</th>\n",
       "      <td>308</td>\n",
       "      <td>50</td>\n",
       "    </tr>\n",
       "  </tbody>\n",
       "</table>\n",
       "</div>"
      ],
      "text/plain": [
       "stroke           0    1\n",
       "hypertension           \n",
       "0             3095  124\n",
       "1              308   50"
      ]
     },
     "execution_count": 28,
     "metadata": {},
     "output_type": "execute_result"
    }
   ],
   "source": [
    "pd.crosstab(train_set.hypertension, train_set.stroke)"
   ]
  },
  {
   "cell_type": "code",
   "execution_count": 29,
   "id": "4522433f",
   "metadata": {},
   "outputs": [
    {
     "data": {
      "image/png": "[encoded data removed]",
      "text/plain": [
       "<Figure size 720x432 with 1 Axes>"
      ]
     },
     "metadata": {
      "needs_background": "light"
     },
     "output_type": "display_data"
    }
   ],
   "source": [
    "ax = pd.crosstab(train_set.hypertension, train_set.stroke).plot(kind=\"bar\",\n",
    "                                                           figsize=(10,6));\n",
    "\n",
    "plt.title(\"Stroke per Having Hypertension\")\n",
    "plt.xlabel(\"0 = Doesn't Have Hypertension, 1 = Have\")\n",
    "plt.ylabel(\"Amount\")\n",
    "plt.legend([\"No\", \"Stroke\"])\n",
    "plt.xticks(rotation=0)\n",
    "plt.bar_label(ax.containers[0])\n",
    "plt.bar_label(ax.containers[1]);"
   ]
  },
  {
   "cell_type": "markdown",
   "id": "57b6fb86",
   "metadata": {},
   "source": [
    "## 2.7 Stroke Frequency per Heart Disease"
   ]
  },
  {
   "cell_type": "code",
   "execution_count": 30,
   "id": "81c1efa1",
   "metadata": {},
   "outputs": [
    {
     "data": {
      "text/html": [
       "<div>\n",
       "<style scoped>\n",
       "    .dataframe tbody tr th:only-of-type {\n",
       "        vertical-align: middle;\n",
       "    }\n",
       "\n",
       "    .dataframe tbody tr th {\n",
       "        vertical-align: top;\n",
       "    }\n",
       "\n",
       "    .dataframe thead th {\n",
       "        text-align: right;\n",
       "    }\n",
       "</style>\n",
       "<table border=\"1\" class=\"dataframe\">\n",
       "  <thead>\n",
       "    <tr style=\"text-align: right;\">\n",
       "      <th>stroke</th>\n",
       "      <th>0</th>\n",
       "      <th>1</th>\n",
       "    </tr>\n",
       "    <tr>\n",
       "      <th>heart_disease</th>\n",
       "      <th></th>\n",
       "      <th></th>\n",
       "    </tr>\n",
       "  </thead>\n",
       "  <tbody>\n",
       "    <tr>\n",
       "      <th>0</th>\n",
       "      <td>3248</td>\n",
       "      <td>145</td>\n",
       "    </tr>\n",
       "    <tr>\n",
       "      <th>1</th>\n",
       "      <td>155</td>\n",
       "      <td>29</td>\n",
       "    </tr>\n",
       "  </tbody>\n",
       "</table>\n",
       "</div>"
      ],
      "text/plain": [
       "stroke            0    1\n",
       "heart_disease           \n",
       "0              3248  145\n",
       "1               155   29"
      ]
     },
     "execution_count": 30,
     "metadata": {},
     "output_type": "execute_result"
    }
   ],
   "source": [
    "pd.crosstab(train_set.heart_disease, train_set.stroke)"
   ]
  },
  {
   "cell_type": "code",
   "execution_count": 31,
   "id": "26367c00",
   "metadata": {},
   "outputs": [
    {
     "data": {
      "image/png": "[encoded data removed]",
      "text/plain": [
       "<Figure size 720x432 with 1 Axes>"
      ]
     },
     "metadata": {
      "needs_background": "light"
     },
     "output_type": "display_data"
    }
   ],
   "source": [
    "ax = pd.crosstab(train_set.heart_disease, train_set.stroke).plot(kind=\"bar\",\n",
    "                                                           figsize=(10,6));\n",
    "\n",
    "plt.title(\"Stroke per Having Heart Disease\")\n",
    "plt.xlabel(\"0 = Doesn't Have Heart Disease, 1 = Have\")\n",
    "plt.ylabel(\"Amount\")\n",
    "plt.legend([\"No\", \"Stroke\"])\n",
    "plt.xticks(rotation=0)\n",
    "plt.bar_label(ax.containers[0])\n",
    "plt.bar_label(ax.containers[1]);"
   ]
  },
  {
   "cell_type": "markdown",
   "id": "739ffca1",
   "metadata": {},
   "source": [
    "## 2.8 Stroke Frequency per Smoke Status"
   ]
  },
  {
   "cell_type": "code",
   "execution_count": 32,
   "id": "c6db1004",
   "metadata": {},
   "outputs": [
    {
     "data": {
      "text/html": [
       "<div>\n",
       "<style scoped>\n",
       "    .dataframe tbody tr th:only-of-type {\n",
       "        vertical-align: middle;\n",
       "    }\n",
       "\n",
       "    .dataframe tbody tr th {\n",
       "        vertical-align: top;\n",
       "    }\n",
       "\n",
       "    .dataframe thead th {\n",
       "        text-align: right;\n",
       "    }\n",
       "</style>\n",
       "<table border=\"1\" class=\"dataframe\">\n",
       "  <thead>\n",
       "    <tr style=\"text-align: right;\">\n",
       "      <th>stroke</th>\n",
       "      <th>0</th>\n",
       "      <th>1</th>\n",
       "    </tr>\n",
       "    <tr>\n",
       "      <th>smoking_status</th>\n",
       "      <th></th>\n",
       "      <th></th>\n",
       "    </tr>\n",
       "  </thead>\n",
       "  <tbody>\n",
       "    <tr>\n",
       "      <th>Unknown</th>\n",
       "      <td>1021</td>\n",
       "      <td>33</td>\n",
       "    </tr>\n",
       "    <tr>\n",
       "      <th>formerly smoked</th>\n",
       "      <td>577</td>\n",
       "      <td>45</td>\n",
       "    </tr>\n",
       "    <tr>\n",
       "      <th>never smoked</th>\n",
       "      <td>1265</td>\n",
       "      <td>67</td>\n",
       "    </tr>\n",
       "    <tr>\n",
       "      <th>smokes</th>\n",
       "      <td>540</td>\n",
       "      <td>29</td>\n",
       "    </tr>\n",
       "  </tbody>\n",
       "</table>\n",
       "</div>"
      ],
      "text/plain": [
       "stroke              0   1\n",
       "smoking_status           \n",
       "Unknown          1021  33\n",
       "formerly smoked   577  45\n",
       "never smoked     1265  67\n",
       "smokes            540  29"
      ]
     },
     "execution_count": 32,
     "metadata": {},
     "output_type": "execute_result"
    }
   ],
   "source": [
    "pd.crosstab(train_set.smoking_status, train_set.stroke)"
   ]
  },
  {
   "cell_type": "code",
   "execution_count": 33,
   "id": "d7e15885",
   "metadata": {},
   "outputs": [
    {
     "data": {
      "image/png": "[encoded data removed]",
      "text/plain": [
       "<Figure size 720x432 with 1 Axes>"
      ]
     },
     "metadata": {
      "needs_background": "light"
     },
     "output_type": "display_data"
    }
   ],
   "source": [
    "ax = pd.crosstab(train_set.smoking_status, train_set.stroke).plot(kind=\"bar\",\n",
    "                                                           figsize=(10,6));\n",
    "\n",
    "plt.title(\"Stroke per Smoking Status\")\n",
    "plt.xlabel(\"Smoking Status\")\n",
    "plt.ylabel(\"Amount\")\n",
    "plt.legend([\"No\", \"Stroke\"])\n",
    "plt.xticks(rotation=0)\n",
    "plt.bar_label(ax.containers[0])\n",
    "plt.bar_label(ax.containers[1]);"
   ]
  },
  {
   "cell_type": "markdown",
   "id": "a4d9d320",
   "metadata": {},
   "source": [
    "## 2.9 Stroke Frequency per Work Type"
   ]
  },
  {
   "cell_type": "code",
   "execution_count": 34,
   "id": "6ab3066a",
   "metadata": {},
   "outputs": [
    {
     "data": {
      "text/html": [
       "<div>\n",
       "<style scoped>\n",
       "    .dataframe tbody tr th:only-of-type {\n",
       "        vertical-align: middle;\n",
       "    }\n",
       "\n",
       "    .dataframe tbody tr th {\n",
       "        vertical-align: top;\n",
       "    }\n",
       "\n",
       "    .dataframe thead th {\n",
       "        text-align: right;\n",
       "    }\n",
       "</style>\n",
       "<table border=\"1\" class=\"dataframe\">\n",
       "  <thead>\n",
       "    <tr style=\"text-align: right;\">\n",
       "      <th>stroke</th>\n",
       "      <th>0</th>\n",
       "      <th>1</th>\n",
       "    </tr>\n",
       "    <tr>\n",
       "      <th>work_type</th>\n",
       "      <th></th>\n",
       "      <th></th>\n",
       "    </tr>\n",
       "  </thead>\n",
       "  <tbody>\n",
       "    <tr>\n",
       "      <th>Govt_job</th>\n",
       "      <td>440</td>\n",
       "      <td>27</td>\n",
       "    </tr>\n",
       "    <tr>\n",
       "      <th>Never_worked</th>\n",
       "      <td>15</td>\n",
       "      <td>0</td>\n",
       "    </tr>\n",
       "    <tr>\n",
       "      <th>Private</th>\n",
       "      <td>1957</td>\n",
       "      <td>105</td>\n",
       "    </tr>\n",
       "    <tr>\n",
       "      <th>Self-employed</th>\n",
       "      <td>518</td>\n",
       "      <td>40</td>\n",
       "    </tr>\n",
       "    <tr>\n",
       "      <th>children</th>\n",
       "      <td>473</td>\n",
       "      <td>2</td>\n",
       "    </tr>\n",
       "  </tbody>\n",
       "</table>\n",
       "</div>"
      ],
      "text/plain": [
       "stroke            0    1\n",
       "work_type               \n",
       "Govt_job        440   27\n",
       "Never_worked     15    0\n",
       "Private        1957  105\n",
       "Self-employed   518   40\n",
       "children        473    2"
      ]
     },
     "execution_count": 34,
     "metadata": {},
     "output_type": "execute_result"
    }
   ],
   "source": [
    "pd.crosstab(train_set.work_type, train_set.stroke)"
   ]
  },
  {
   "cell_type": "code",
   "execution_count": 35,
   "id": "841a8125",
   "metadata": {},
   "outputs": [
    {
     "data": {
      "image/png": "[encoded data removed]",
      "text/plain": [
       "<Figure size 720x432 with 1 Axes>"
      ]
     },
     "metadata": {
      "needs_background": "light"
     },
     "output_type": "display_data"
    }
   ],
   "source": [
    "ax = pd.crosstab(train_set.work_type, train_set.stroke).plot(kind=\"bar\",\n",
    "                                                        figsize=(10,6));\n",
    "\n",
    "plt.title(\"Stroke per Work Types\")\n",
    "plt.xlabel(\"Work Types\")\n",
    "plt.ylabel(\"Amount\")\n",
    "plt.legend([\"No\", \"Stroke\"])\n",
    "plt.xticks(rotation=0)\n",
    "plt.bar_label(ax.containers[0])\n",
    "plt.bar_label(ax.containers[1]);"
   ]
  },
  {
   "cell_type": "markdown",
   "id": "9842aeb0",
   "metadata": {},
   "source": [
    "## 2.10 Stroke Frequency per Ever Married"
   ]
  },
  {
   "cell_type": "code",
   "execution_count": 36,
   "id": "eb60e7f2",
   "metadata": {},
   "outputs": [
    {
     "data": {
      "text/html": [
       "<div>\n",
       "<style scoped>\n",
       "    .dataframe tbody tr th:only-of-type {\n",
       "        vertical-align: middle;\n",
       "    }\n",
       "\n",
       "    .dataframe tbody tr th {\n",
       "        vertical-align: top;\n",
       "    }\n",
       "\n",
       "    .dataframe thead th {\n",
       "        text-align: right;\n",
       "    }\n",
       "</style>\n",
       "<table border=\"1\" class=\"dataframe\">\n",
       "  <thead>\n",
       "    <tr style=\"text-align: right;\">\n",
       "      <th>stroke</th>\n",
       "      <th>0</th>\n",
       "      <th>1</th>\n",
       "    </tr>\n",
       "    <tr>\n",
       "      <th>ever_married</th>\n",
       "      <th></th>\n",
       "      <th></th>\n",
       "    </tr>\n",
       "  </thead>\n",
       "  <tbody>\n",
       "    <tr>\n",
       "      <th>No</th>\n",
       "      <td>1201</td>\n",
       "      <td>25</td>\n",
       "    </tr>\n",
       "    <tr>\n",
       "      <th>Yes</th>\n",
       "      <td>2202</td>\n",
       "      <td>149</td>\n",
       "    </tr>\n",
       "  </tbody>\n",
       "</table>\n",
       "</div>"
      ],
      "text/plain": [
       "stroke           0    1\n",
       "ever_married           \n",
       "No            1201   25\n",
       "Yes           2202  149"
      ]
     },
     "execution_count": 36,
     "metadata": {},
     "output_type": "execute_result"
    }
   ],
   "source": [
    "pd.crosstab(train_set.ever_married, train_set.stroke)"
   ]
  },
  {
   "cell_type": "code",
   "execution_count": 37,
   "id": "a7eda43a",
   "metadata": {},
   "outputs": [
    {
     "data": {
      "image/png": "[encoded data removed]",
      "text/plain": [
       "<Figure size 720x432 with 1 Axes>"
      ]
     },
     "metadata": {
      "needs_background": "light"
     },
     "output_type": "display_data"
    }
   ],
   "source": [
    "ax = pd.crosstab(train_set.ever_married, train_set.stroke).plot(kind=\"bar\",\n",
    "                                                           figsize=(10,6));\n",
    "\n",
    "plt.title(\"Stroke per Ever Married Status\")\n",
    "plt.xlabel(\"Ever Married\")\n",
    "plt.ylabel(\"Amount\")\n",
    "plt.legend([\"No\", \"Stroke\"])\n",
    "plt.xticks(rotation=0)\n",
    "plt.bar_label(ax.containers[0])\n",
    "plt.bar_label(ax.containers[1]);"
   ]
  },
  {
   "cell_type": "markdown",
   "id": "ed748a8e",
   "metadata": {},
   "source": [
    "## 2.11 Stroke Frequency per Residential Types"
   ]
  },
  {
   "cell_type": "code",
   "execution_count": 38,
   "id": "34093c46",
   "metadata": {},
   "outputs": [
    {
     "data": {
      "text/html": [
       "<div>\n",
       "<style scoped>\n",
       "    .dataframe tbody tr th:only-of-type {\n",
       "        vertical-align: middle;\n",
       "    }\n",
       "\n",
       "    .dataframe tbody tr th {\n",
       "        vertical-align: top;\n",
       "    }\n",
       "\n",
       "    .dataframe thead th {\n",
       "        text-align: right;\n",
       "    }\n",
       "</style>\n",
       "<table border=\"1\" class=\"dataframe\">\n",
       "  <thead>\n",
       "    <tr style=\"text-align: right;\">\n",
       "      <th>stroke</th>\n",
       "      <th>0</th>\n",
       "      <th>1</th>\n",
       "    </tr>\n",
       "    <tr>\n",
       "      <th>Residence_type</th>\n",
       "      <th></th>\n",
       "      <th></th>\n",
       "    </tr>\n",
       "  </thead>\n",
       "  <tbody>\n",
       "    <tr>\n",
       "      <th>Rural</th>\n",
       "      <td>1671</td>\n",
       "      <td>84</td>\n",
       "    </tr>\n",
       "    <tr>\n",
       "      <th>Urban</th>\n",
       "      <td>1732</td>\n",
       "      <td>90</td>\n",
       "    </tr>\n",
       "  </tbody>\n",
       "</table>\n",
       "</div>"
      ],
      "text/plain": [
       "stroke             0   1\n",
       "Residence_type          \n",
       "Rural           1671  84\n",
       "Urban           1732  90"
      ]
     },
     "execution_count": 38,
     "metadata": {},
     "output_type": "execute_result"
    }
   ],
   "source": [
    "pd.crosstab(train_set.Residence_type, train_set.stroke)"
   ]
  },
  {
   "cell_type": "code",
   "execution_count": 39,
   "id": "baa42676",
   "metadata": {},
   "outputs": [
    {
     "data": {
      "image/png": "[encoded data removed]",
      "text/plain": [
       "<Figure size 720x432 with 1 Axes>"
      ]
     },
     "metadata": {
      "needs_background": "light"
     },
     "output_type": "display_data"
    }
   ],
   "source": [
    "ax = pd.crosstab(train_set.Residence_type, train_set.stroke).plot(kind=\"bar\",\n",
    "                                                             figsize=(10,6));\n",
    "\n",
    "plt.title(\"Stroke per Ever Residential Type\")\n",
    "plt.xlabel(\"Residential Types\")\n",
    "plt.ylabel(\"Amount\")\n",
    "plt.legend([\"No\", \"Stroke\"])\n",
    "plt.xticks(rotation=0)\n",
    "plt.bar_label(ax.containers[0])\n",
    "plt.bar_label(ax.containers[1]);"
   ]
  },
  {
   "cell_type": "markdown",
   "id": "57cd5c64",
   "metadata": {},
   "source": [
    "# 3. Data Preprocessing"
   ]
  },
  {
   "cell_type": "code",
   "execution_count": 40,
   "id": "65942364",
   "metadata": {
    "scrolled": true
   },
   "outputs": [
    {
     "data": {
      "text/html": [
       "<div>\n",
       "<style scoped>\n",
       "    .dataframe tbody tr th:only-of-type {\n",
       "        vertical-align: middle;\n",
       "    }\n",
       "\n",
       "    .dataframe tbody tr th {\n",
       "        vertical-align: top;\n",
       "    }\n",
       "\n",
       "    .dataframe thead th {\n",
       "        text-align: right;\n",
       "    }\n",
       "</style>\n",
       "<table border=\"1\" class=\"dataframe\">\n",
       "  <thead>\n",
       "    <tr style=\"text-align: right;\">\n",
       "      <th></th>\n",
       "      <th>gender</th>\n",
       "      <th>age</th>\n",
       "      <th>hypertension</th>\n",
       "      <th>heart_disease</th>\n",
       "      <th>ever_married</th>\n",
       "      <th>work_type</th>\n",
       "      <th>Residence_type</th>\n",
       "      <th>avg_glucose_level</th>\n",
       "      <th>bmi</th>\n",
       "      <th>smoking_status</th>\n",
       "    </tr>\n",
       "  </thead>\n",
       "  <tbody>\n",
       "    <tr>\n",
       "      <th>855</th>\n",
       "      <td>Female</td>\n",
       "      <td>32.00</td>\n",
       "      <td>0</td>\n",
       "      <td>0</td>\n",
       "      <td>Yes</td>\n",
       "      <td>Private</td>\n",
       "      <td>Rural</td>\n",
       "      <td>91.98</td>\n",
       "      <td>27.6</td>\n",
       "      <td>smokes</td>\n",
       "    </tr>\n",
       "    <tr>\n",
       "      <th>1243</th>\n",
       "      <td>Female</td>\n",
       "      <td>3.00</td>\n",
       "      <td>0</td>\n",
       "      <td>0</td>\n",
       "      <td>No</td>\n",
       "      <td>children</td>\n",
       "      <td>Rural</td>\n",
       "      <td>94.12</td>\n",
       "      <td>21.4</td>\n",
       "      <td>Unknown</td>\n",
       "    </tr>\n",
       "    <tr>\n",
       "      <th>3993</th>\n",
       "      <td>Female</td>\n",
       "      <td>41.00</td>\n",
       "      <td>0</td>\n",
       "      <td>0</td>\n",
       "      <td>Yes</td>\n",
       "      <td>Private</td>\n",
       "      <td>Urban</td>\n",
       "      <td>92.14</td>\n",
       "      <td>29.6</td>\n",
       "      <td>formerly smoked</td>\n",
       "    </tr>\n",
       "    <tr>\n",
       "      <th>3319</th>\n",
       "      <td>Female</td>\n",
       "      <td>1.08</td>\n",
       "      <td>0</td>\n",
       "      <td>0</td>\n",
       "      <td>No</td>\n",
       "      <td>children</td>\n",
       "      <td>Urban</td>\n",
       "      <td>159.39</td>\n",
       "      <td>12.8</td>\n",
       "      <td>Unknown</td>\n",
       "    </tr>\n",
       "    <tr>\n",
       "      <th>3629</th>\n",
       "      <td>Male</td>\n",
       "      <td>34.00</td>\n",
       "      <td>0</td>\n",
       "      <td>0</td>\n",
       "      <td>Yes</td>\n",
       "      <td>Private</td>\n",
       "      <td>Urban</td>\n",
       "      <td>99.23</td>\n",
       "      <td>NaN</td>\n",
       "      <td>smokes</td>\n",
       "    </tr>\n",
       "  </tbody>\n",
       "</table>\n",
       "</div>"
      ],
      "text/plain": [
       "      gender    age  hypertension  heart_disease ever_married work_type  \\\n",
       "855   Female  32.00             0              0          Yes   Private   \n",
       "1243  Female   3.00             0              0           No  children   \n",
       "3993  Female  41.00             0              0          Yes   Private   \n",
       "3319  Female   1.08             0              0           No  children   \n",
       "3629    Male  34.00             0              0          Yes   Private   \n",
       "\n",
       "     Residence_type  avg_glucose_level   bmi   smoking_status  \n",
       "855           Rural              91.98  27.6           smokes  \n",
       "1243          Rural              94.12  21.4          Unknown  \n",
       "3993          Urban              92.14  29.6  formerly smoked  \n",
       "3319          Urban             159.39  12.8          Unknown  \n",
       "3629          Urban              99.23   NaN           smokes  "
      ]
     },
     "execution_count": 40,
     "metadata": {},
     "output_type": "execute_result"
    }
   ],
   "source": [
    "x_train.head()"
   ]
  },
  {
   "cell_type": "code",
   "execution_count": 41,
   "id": "d426dc79",
   "metadata": {},
   "outputs": [
    {
     "name": "stdout",
     "output_type": "stream",
     "text": [
      "<class 'pandas.core.frame.DataFrame'>\n",
      "Int64Index: 3577 entries, 855 to 2049\n",
      "Data columns (total 10 columns):\n",
      " #   Column             Non-Null Count  Dtype  \n",
      "---  ------             --------------  -----  \n",
      " 0   gender             3577 non-null   object \n",
      " 1   age                3577 non-null   float64\n",
      " 2   hypertension       3577 non-null   int64  \n",
      " 3   heart_disease      3577 non-null   int64  \n",
      " 4   ever_married       3577 non-null   object \n",
      " 5   work_type          3577 non-null   object \n",
      " 6   Residence_type     3577 non-null   object \n",
      " 7   avg_glucose_level  3577 non-null   float64\n",
      " 8   bmi                3443 non-null   float64\n",
      " 9   smoking_status     3577 non-null   object \n",
      "dtypes: float64(3), int64(2), object(5)\n",
      "memory usage: 307.4+ KB\n"
     ]
    }
   ],
   "source": [
    "x_train.info()"
   ]
  },
  {
   "cell_type": "code",
   "execution_count": 42,
   "id": "7f9c7fcf",
   "metadata": {},
   "outputs": [
    {
     "name": "stdout",
     "output_type": "stream",
     "text": [
      "['Female' 'Male' 'Other']\n",
      "[0 1]\n",
      "[0 1]\n",
      "['Yes' 'No']\n",
      "['Private' 'children' 'Govt_job' 'Self-employed' 'Never_worked']\n",
      "['Rural' 'Urban']\n",
      "['smokes' 'Unknown' 'formerly smoked' 'never smoked']\n",
      "[0 1]\n"
     ]
    }
   ],
   "source": [
    "cat_col = train_set[[\"gender\", \n",
    "                   \"hypertension\", \n",
    "                   \"heart_disease\", \n",
    "                   \"ever_married\", \n",
    "                   \"work_type\", \n",
    "                   \"Residence_type\", \n",
    "                   \"smoking_status\", \n",
    "                   \"stroke\"]]\n",
    "for col in cat_col :\n",
    "    print(cat_col[col].unique())"
   ]
  },
  {
   "cell_type": "markdown",
   "id": "1c87f25c",
   "metadata": {},
   "source": [
    "drop data yang memiliki gender \"other\""
   ]
  },
  {
   "cell_type": "code",
   "execution_count": 43,
   "id": "fd60bcbd",
   "metadata": {},
   "outputs": [],
   "source": [
    "data_concat = pd.concat([x_train, y_train], axis = 1)"
   ]
  },
  {
   "cell_type": "code",
   "execution_count": 44,
   "id": "64586e0f",
   "metadata": {},
   "outputs": [
    {
     "data": {
      "text/plain": [
       "<bound method DataFrame.info of       gender    age  hypertension  heart_disease ever_married work_type  \\\n",
       "855   Female  32.00             0              0          Yes   Private   \n",
       "1243  Female   3.00             0              0           No  children   \n",
       "3993  Female  41.00             0              0          Yes   Private   \n",
       "3319  Female   1.08             0              0           No  children   \n",
       "3629    Male  34.00             0              0          Yes   Private   \n",
       "...      ...    ...           ...            ...          ...       ...   \n",
       "1394  Female  21.00             0              0           No   Private   \n",
       "4982    Male  20.00             0              0           No   Private   \n",
       "1177    Male  23.00             0              0           No   Private   \n",
       "3361    Male  48.00             0              0          Yes   Private   \n",
       "2049  Female  50.00             0              0          Yes  Govt_job   \n",
       "\n",
       "     Residence_type  avg_glucose_level   bmi   smoking_status  stroke  \n",
       "855           Rural              91.98  27.6           smokes       0  \n",
       "1243          Rural              94.12  21.4          Unknown       0  \n",
       "3993          Urban              92.14  29.6  formerly smoked       0  \n",
       "3319          Urban             159.39  12.8          Unknown       0  \n",
       "3629          Urban              99.23   NaN           smokes       0  \n",
       "...             ...                ...   ...              ...     ...  \n",
       "1394          Urban              90.16  28.9           smokes       0  \n",
       "4982          Rural              75.90  32.2     never smoked       0  \n",
       "1177          Urban             115.98  22.3     never smoked       0  \n",
       "3361          Rural              62.89  29.6          Unknown       0  \n",
       "2049          Urban              82.37  30.7     never smoked       0  \n",
       "\n",
       "[3576 rows x 11 columns]>"
      ]
     },
     "execution_count": 44,
     "metadata": {},
     "output_type": "execute_result"
    }
   ],
   "source": [
    "data_concat = data_concat.drop(data_concat[data_concat.gender == \"Other\"].index)\n",
    "data_concat.info"
   ]
  },
  {
   "cell_type": "code",
   "execution_count": 45,
   "id": "12817a50",
   "metadata": {},
   "outputs": [],
   "source": [
    "x_train = data_concat.drop(\"stroke\", axis=1)\n",
    "y_train = data_concat[\"stroke\"]"
   ]
  },
  {
   "cell_type": "markdown",
   "id": "b2eb5fc6",
   "metadata": {},
   "source": [
    "## 3.1 Categorical & Numerical Splitting"
   ]
  },
  {
   "cell_type": "markdown",
   "id": "771dec91",
   "metadata": {},
   "source": [
    "Dikarenakan beberapa kolom bertipe kategorikal sudah berbentuk binary seperti kolom:\n",
    "* `hypertension`\n",
    "* `heart_disease`\n",
    "\n",
    "maka kita anggap kolom tersebut adalah kolom numerikal"
   ]
  },
  {
   "cell_type": "code",
   "execution_count": 46,
   "id": "812218a0",
   "metadata": {},
   "outputs": [],
   "source": [
    "categorical_cols = x_train[[\"gender\", \"ever_married\", \"work_type\", \"Residence_type\", \"smoking_status\"]]\n",
    "numerical_cols = x_train[[\"age\", \"hypertension\", \"heart_disease\", \"avg_glucose_level\", \"bmi\"]]"
   ]
  },
  {
   "cell_type": "code",
   "execution_count": 47,
   "id": "ac131c62",
   "metadata": {},
   "outputs": [
    {
     "data": {
      "text/html": [
       "<div>\n",
       "<style scoped>\n",
       "    .dataframe tbody tr th:only-of-type {\n",
       "        vertical-align: middle;\n",
       "    }\n",
       "\n",
       "    .dataframe tbody tr th {\n",
       "        vertical-align: top;\n",
       "    }\n",
       "\n",
       "    .dataframe thead th {\n",
       "        text-align: right;\n",
       "    }\n",
       "</style>\n",
       "<table border=\"1\" class=\"dataframe\">\n",
       "  <thead>\n",
       "    <tr style=\"text-align: right;\">\n",
       "      <th></th>\n",
       "      <th>gender</th>\n",
       "      <th>ever_married</th>\n",
       "      <th>work_type</th>\n",
       "      <th>Residence_type</th>\n",
       "      <th>smoking_status</th>\n",
       "    </tr>\n",
       "  </thead>\n",
       "  <tbody>\n",
       "    <tr>\n",
       "      <th>855</th>\n",
       "      <td>Female</td>\n",
       "      <td>Yes</td>\n",
       "      <td>Private</td>\n",
       "      <td>Rural</td>\n",
       "      <td>smokes</td>\n",
       "    </tr>\n",
       "    <tr>\n",
       "      <th>1243</th>\n",
       "      <td>Female</td>\n",
       "      <td>No</td>\n",
       "      <td>children</td>\n",
       "      <td>Rural</td>\n",
       "      <td>Unknown</td>\n",
       "    </tr>\n",
       "    <tr>\n",
       "      <th>3993</th>\n",
       "      <td>Female</td>\n",
       "      <td>Yes</td>\n",
       "      <td>Private</td>\n",
       "      <td>Urban</td>\n",
       "      <td>formerly smoked</td>\n",
       "    </tr>\n",
       "    <tr>\n",
       "      <th>3319</th>\n",
       "      <td>Female</td>\n",
       "      <td>No</td>\n",
       "      <td>children</td>\n",
       "      <td>Urban</td>\n",
       "      <td>Unknown</td>\n",
       "    </tr>\n",
       "    <tr>\n",
       "      <th>3629</th>\n",
       "      <td>Male</td>\n",
       "      <td>Yes</td>\n",
       "      <td>Private</td>\n",
       "      <td>Urban</td>\n",
       "      <td>smokes</td>\n",
       "    </tr>\n",
       "    <tr>\n",
       "      <th>...</th>\n",
       "      <td>...</td>\n",
       "      <td>...</td>\n",
       "      <td>...</td>\n",
       "      <td>...</td>\n",
       "      <td>...</td>\n",
       "    </tr>\n",
       "    <tr>\n",
       "      <th>1394</th>\n",
       "      <td>Female</td>\n",
       "      <td>No</td>\n",
       "      <td>Private</td>\n",
       "      <td>Urban</td>\n",
       "      <td>smokes</td>\n",
       "    </tr>\n",
       "    <tr>\n",
       "      <th>4982</th>\n",
       "      <td>Male</td>\n",
       "      <td>No</td>\n",
       "      <td>Private</td>\n",
       "      <td>Rural</td>\n",
       "      <td>never smoked</td>\n",
       "    </tr>\n",
       "    <tr>\n",
       "      <th>1177</th>\n",
       "      <td>Male</td>\n",
       "      <td>No</td>\n",
       "      <td>Private</td>\n",
       "      <td>Urban</td>\n",
       "      <td>never smoked</td>\n",
       "    </tr>\n",
       "    <tr>\n",
       "      <th>3361</th>\n",
       "      <td>Male</td>\n",
       "      <td>Yes</td>\n",
       "      <td>Private</td>\n",
       "      <td>Rural</td>\n",
       "      <td>Unknown</td>\n",
       "    </tr>\n",
       "    <tr>\n",
       "      <th>2049</th>\n",
       "      <td>Female</td>\n",
       "      <td>Yes</td>\n",
       "      <td>Govt_job</td>\n",
       "      <td>Urban</td>\n",
       "      <td>never smoked</td>\n",
       "    </tr>\n",
       "  </tbody>\n",
       "</table>\n",
       "<p>3576 rows × 5 columns</p>\n",
       "</div>"
      ],
      "text/plain": [
       "      gender ever_married work_type Residence_type   smoking_status\n",
       "855   Female          Yes   Private          Rural           smokes\n",
       "1243  Female           No  children          Rural          Unknown\n",
       "3993  Female          Yes   Private          Urban  formerly smoked\n",
       "3319  Female           No  children          Urban          Unknown\n",
       "3629    Male          Yes   Private          Urban           smokes\n",
       "...      ...          ...       ...            ...              ...\n",
       "1394  Female           No   Private          Urban           smokes\n",
       "4982    Male           No   Private          Rural     never smoked\n",
       "1177    Male           No   Private          Urban     never smoked\n",
       "3361    Male          Yes   Private          Rural          Unknown\n",
       "2049  Female          Yes  Govt_job          Urban     never smoked\n",
       "\n",
       "[3576 rows x 5 columns]"
      ]
     },
     "execution_count": 47,
     "metadata": {},
     "output_type": "execute_result"
    }
   ],
   "source": [
    "categorical_cols"
   ]
  },
  {
   "cell_type": "code",
   "execution_count": 48,
   "id": "7dd1eb60",
   "metadata": {},
   "outputs": [
    {
     "data": {
      "text/html": [
       "<div>\n",
       "<style scoped>\n",
       "    .dataframe tbody tr th:only-of-type {\n",
       "        vertical-align: middle;\n",
       "    }\n",
       "\n",
       "    .dataframe tbody tr th {\n",
       "        vertical-align: top;\n",
       "    }\n",
       "\n",
       "    .dataframe thead th {\n",
       "        text-align: right;\n",
       "    }\n",
       "</style>\n",
       "<table border=\"1\" class=\"dataframe\">\n",
       "  <thead>\n",
       "    <tr style=\"text-align: right;\">\n",
       "      <th></th>\n",
       "      <th>age</th>\n",
       "      <th>hypertension</th>\n",
       "      <th>heart_disease</th>\n",
       "      <th>avg_glucose_level</th>\n",
       "      <th>bmi</th>\n",
       "    </tr>\n",
       "  </thead>\n",
       "  <tbody>\n",
       "    <tr>\n",
       "      <th>855</th>\n",
       "      <td>32.00</td>\n",
       "      <td>0</td>\n",
       "      <td>0</td>\n",
       "      <td>91.98</td>\n",
       "      <td>27.6</td>\n",
       "    </tr>\n",
       "    <tr>\n",
       "      <th>1243</th>\n",
       "      <td>3.00</td>\n",
       "      <td>0</td>\n",
       "      <td>0</td>\n",
       "      <td>94.12</td>\n",
       "      <td>21.4</td>\n",
       "    </tr>\n",
       "    <tr>\n",
       "      <th>3993</th>\n",
       "      <td>41.00</td>\n",
       "      <td>0</td>\n",
       "      <td>0</td>\n",
       "      <td>92.14</td>\n",
       "      <td>29.6</td>\n",
       "    </tr>\n",
       "    <tr>\n",
       "      <th>3319</th>\n",
       "      <td>1.08</td>\n",
       "      <td>0</td>\n",
       "      <td>0</td>\n",
       "      <td>159.39</td>\n",
       "      <td>12.8</td>\n",
       "    </tr>\n",
       "    <tr>\n",
       "      <th>3629</th>\n",
       "      <td>34.00</td>\n",
       "      <td>0</td>\n",
       "      <td>0</td>\n",
       "      <td>99.23</td>\n",
       "      <td>NaN</td>\n",
       "    </tr>\n",
       "    <tr>\n",
       "      <th>...</th>\n",
       "      <td>...</td>\n",
       "      <td>...</td>\n",
       "      <td>...</td>\n",
       "      <td>...</td>\n",
       "      <td>...</td>\n",
       "    </tr>\n",
       "    <tr>\n",
       "      <th>1394</th>\n",
       "      <td>21.00</td>\n",
       "      <td>0</td>\n",
       "      <td>0</td>\n",
       "      <td>90.16</td>\n",
       "      <td>28.9</td>\n",
       "    </tr>\n",
       "    <tr>\n",
       "      <th>4982</th>\n",
       "      <td>20.00</td>\n",
       "      <td>0</td>\n",
       "      <td>0</td>\n",
       "      <td>75.90</td>\n",
       "      <td>32.2</td>\n",
       "    </tr>\n",
       "    <tr>\n",
       "      <th>1177</th>\n",
       "      <td>23.00</td>\n",
       "      <td>0</td>\n",
       "      <td>0</td>\n",
       "      <td>115.98</td>\n",
       "      <td>22.3</td>\n",
       "    </tr>\n",
       "    <tr>\n",
       "      <th>3361</th>\n",
       "      <td>48.00</td>\n",
       "      <td>0</td>\n",
       "      <td>0</td>\n",
       "      <td>62.89</td>\n",
       "      <td>29.6</td>\n",
       "    </tr>\n",
       "    <tr>\n",
       "      <th>2049</th>\n",
       "      <td>50.00</td>\n",
       "      <td>0</td>\n",
       "      <td>0</td>\n",
       "      <td>82.37</td>\n",
       "      <td>30.7</td>\n",
       "    </tr>\n",
       "  </tbody>\n",
       "</table>\n",
       "<p>3576 rows × 5 columns</p>\n",
       "</div>"
      ],
      "text/plain": [
       "        age  hypertension  heart_disease  avg_glucose_level   bmi\n",
       "855   32.00             0              0              91.98  27.6\n",
       "1243   3.00             0              0              94.12  21.4\n",
       "3993  41.00             0              0              92.14  29.6\n",
       "3319   1.08             0              0             159.39  12.8\n",
       "3629  34.00             0              0              99.23   NaN\n",
       "...     ...           ...            ...                ...   ...\n",
       "1394  21.00             0              0              90.16  28.9\n",
       "4982  20.00             0              0              75.90  32.2\n",
       "1177  23.00             0              0             115.98  22.3\n",
       "3361  48.00             0              0              62.89  29.6\n",
       "2049  50.00             0              0              82.37  30.7\n",
       "\n",
       "[3576 rows x 5 columns]"
      ]
     },
     "execution_count": 48,
     "metadata": {},
     "output_type": "execute_result"
    }
   ],
   "source": [
    "numerical_cols"
   ]
  },
  {
   "cell_type": "markdown",
   "id": "5d84a873",
   "metadata": {},
   "source": [
    "## 3.2 Numerical Data Imputation"
   ]
  },
  {
   "cell_type": "code",
   "execution_count": 49,
   "id": "5dd45d70",
   "metadata": {},
   "outputs": [
    {
     "name": "stdout",
     "output_type": "stream",
     "text": [
      "<class 'pandas.core.frame.DataFrame'>\n",
      "Int64Index: 3576 entries, 855 to 2049\n",
      "Data columns (total 5 columns):\n",
      " #   Column             Non-Null Count  Dtype  \n",
      "---  ------             --------------  -----  \n",
      " 0   age                3576 non-null   float64\n",
      " 1   hypertension       3576 non-null   int64  \n",
      " 2   heart_disease      3576 non-null   int64  \n",
      " 3   avg_glucose_level  3576 non-null   float64\n",
      " 4   bmi                3442 non-null   float64\n",
      "dtypes: float64(3), int64(2)\n",
      "memory usage: 167.6 KB\n"
     ]
    }
   ],
   "source": [
    "numerical_cols.info()"
   ]
  },
  {
   "cell_type": "markdown",
   "id": "185f0d7b",
   "metadata": {},
   "source": [
    "Diketahui ada missing value di kolom `bmi` dan dari EDA yang telah dilakukan makan akan dilakukan imputasi dengan strategy mengisinya dengan median data"
   ]
  },
  {
   "cell_type": "code",
   "execution_count": 50,
   "id": "b37eb653",
   "metadata": {},
   "outputs": [],
   "source": [
    "from sklearn.impute import SimpleImputer\n",
    "\n",
    "# Buat Imputer\n",
    "imputer = SimpleImputer(missing_values = np.nan,\n",
    "                        strategy = \"median\")\n",
    "\n",
    "# Fit Imputer\n",
    "imputer.fit(numerical_cols)\n",
    "\n",
    "# Transform Data\n",
    "imputed_data = pd.DataFrame(imputer.transform(numerical_cols))\n",
    "imputed_data.columns = numerical_cols.columns\n",
    "imputed_data.index = numerical_cols.index"
   ]
  },
  {
   "cell_type": "code",
   "execution_count": 51,
   "id": "92db653b",
   "metadata": {},
   "outputs": [
    {
     "name": "stdout",
     "output_type": "stream",
     "text": [
      "<class 'pandas.core.frame.DataFrame'>\n",
      "Int64Index: 3576 entries, 855 to 2049\n",
      "Data columns (total 5 columns):\n",
      " #   Column             Non-Null Count  Dtype  \n",
      "---  ------             --------------  -----  \n",
      " 0   age                3576 non-null   float64\n",
      " 1   hypertension       3576 non-null   float64\n",
      " 2   heart_disease      3576 non-null   float64\n",
      " 3   avg_glucose_level  3576 non-null   float64\n",
      " 4   bmi                3576 non-null   float64\n",
      "dtypes: float64(5)\n",
      "memory usage: 167.6 KB\n"
     ]
    }
   ],
   "source": [
    "imputed_data.info()"
   ]
  },
  {
   "cell_type": "markdown",
   "id": "5ed543cb",
   "metadata": {},
   "source": [
    "## 3.3 Categorical Data Imputation"
   ]
  },
  {
   "cell_type": "code",
   "execution_count": 52,
   "id": "61e65960",
   "metadata": {},
   "outputs": [
    {
     "data": {
      "text/html": [
       "<div>\n",
       "<style scoped>\n",
       "    .dataframe tbody tr th:only-of-type {\n",
       "        vertical-align: middle;\n",
       "    }\n",
       "\n",
       "    .dataframe tbody tr th {\n",
       "        vertical-align: top;\n",
       "    }\n",
       "\n",
       "    .dataframe thead th {\n",
       "        text-align: right;\n",
       "    }\n",
       "</style>\n",
       "<table border=\"1\" class=\"dataframe\">\n",
       "  <thead>\n",
       "    <tr style=\"text-align: right;\">\n",
       "      <th></th>\n",
       "      <th>gender</th>\n",
       "      <th>ever_married</th>\n",
       "      <th>work_type</th>\n",
       "      <th>Residence_type</th>\n",
       "      <th>smoking_status</th>\n",
       "    </tr>\n",
       "  </thead>\n",
       "  <tbody>\n",
       "    <tr>\n",
       "      <th>855</th>\n",
       "      <td>Female</td>\n",
       "      <td>Yes</td>\n",
       "      <td>Private</td>\n",
       "      <td>Rural</td>\n",
       "      <td>smokes</td>\n",
       "    </tr>\n",
       "    <tr>\n",
       "      <th>1243</th>\n",
       "      <td>Female</td>\n",
       "      <td>No</td>\n",
       "      <td>children</td>\n",
       "      <td>Rural</td>\n",
       "      <td>Unknown</td>\n",
       "    </tr>\n",
       "    <tr>\n",
       "      <th>3993</th>\n",
       "      <td>Female</td>\n",
       "      <td>Yes</td>\n",
       "      <td>Private</td>\n",
       "      <td>Urban</td>\n",
       "      <td>formerly smoked</td>\n",
       "    </tr>\n",
       "    <tr>\n",
       "      <th>3319</th>\n",
       "      <td>Female</td>\n",
       "      <td>No</td>\n",
       "      <td>children</td>\n",
       "      <td>Urban</td>\n",
       "      <td>Unknown</td>\n",
       "    </tr>\n",
       "    <tr>\n",
       "      <th>3629</th>\n",
       "      <td>Male</td>\n",
       "      <td>Yes</td>\n",
       "      <td>Private</td>\n",
       "      <td>Urban</td>\n",
       "      <td>smokes</td>\n",
       "    </tr>\n",
       "  </tbody>\n",
       "</table>\n",
       "</div>"
      ],
      "text/plain": [
       "      gender ever_married work_type Residence_type   smoking_status\n",
       "855   Female          Yes   Private          Rural           smokes\n",
       "1243  Female           No  children          Rural          Unknown\n",
       "3993  Female          Yes   Private          Urban  formerly smoked\n",
       "3319  Female           No  children          Urban          Unknown\n",
       "3629    Male          Yes   Private          Urban           smokes"
      ]
     },
     "execution_count": 52,
     "metadata": {},
     "output_type": "execute_result"
    }
   ],
   "source": [
    "categorical_cols.head()"
   ]
  },
  {
   "cell_type": "code",
   "execution_count": 53,
   "id": "ce32c079",
   "metadata": {},
   "outputs": [],
   "source": [
    "from sklearn.preprocessing import OneHotEncoder\n",
    "\n",
    "# Buat Encoder\n",
    "encoder = OneHotEncoder()\n",
    "\n",
    "# Fit Encoder\n",
    "encoder.fit(categorical_cols)\n",
    "\n",
    "# Ekstrak ohe\n",
    "ohe_col = encoder.get_feature_names_out(categorical_cols.columns)\n",
    "\n",
    "# Transform data\n",
    "data_ohe = encoder.transform(categorical_cols).toarray()\n",
    "data_ohe = pd.DataFrame(data_ohe,\n",
    "                        columns = ohe_col,\n",
    "                        index = categorical_cols.index)"
   ]
  },
  {
   "cell_type": "code",
   "execution_count": 54,
   "id": "3770792b",
   "metadata": {},
   "outputs": [
    {
     "data": {
      "text/html": [
       "<div>\n",
       "<style scoped>\n",
       "    .dataframe tbody tr th:only-of-type {\n",
       "        vertical-align: middle;\n",
       "    }\n",
       "\n",
       "    .dataframe tbody tr th {\n",
       "        vertical-align: top;\n",
       "    }\n",
       "\n",
       "    .dataframe thead th {\n",
       "        text-align: right;\n",
       "    }\n",
       "</style>\n",
       "<table border=\"1\" class=\"dataframe\">\n",
       "  <thead>\n",
       "    <tr style=\"text-align: right;\">\n",
       "      <th></th>\n",
       "      <th>gender_Female</th>\n",
       "      <th>gender_Male</th>\n",
       "      <th>ever_married_No</th>\n",
       "      <th>ever_married_Yes</th>\n",
       "      <th>work_type_Govt_job</th>\n",
       "      <th>work_type_Never_worked</th>\n",
       "      <th>work_type_Private</th>\n",
       "      <th>work_type_Self-employed</th>\n",
       "      <th>work_type_children</th>\n",
       "      <th>Residence_type_Rural</th>\n",
       "      <th>Residence_type_Urban</th>\n",
       "      <th>smoking_status_Unknown</th>\n",
       "      <th>smoking_status_formerly smoked</th>\n",
       "      <th>smoking_status_never smoked</th>\n",
       "      <th>smoking_status_smokes</th>\n",
       "    </tr>\n",
       "  </thead>\n",
       "  <tbody>\n",
       "    <tr>\n",
       "      <th>855</th>\n",
       "      <td>1.0</td>\n",
       "      <td>0.0</td>\n",
       "      <td>0.0</td>\n",
       "      <td>1.0</td>\n",
       "      <td>0.0</td>\n",
       "      <td>0.0</td>\n",
       "      <td>1.0</td>\n",
       "      <td>0.0</td>\n",
       "      <td>0.0</td>\n",
       "      <td>1.0</td>\n",
       "      <td>0.0</td>\n",
       "      <td>0.0</td>\n",
       "      <td>0.0</td>\n",
       "      <td>0.0</td>\n",
       "      <td>1.0</td>\n",
       "    </tr>\n",
       "    <tr>\n",
       "      <th>1243</th>\n",
       "      <td>1.0</td>\n",
       "      <td>0.0</td>\n",
       "      <td>1.0</td>\n",
       "      <td>0.0</td>\n",
       "      <td>0.0</td>\n",
       "      <td>0.0</td>\n",
       "      <td>0.0</td>\n",
       "      <td>0.0</td>\n",
       "      <td>1.0</td>\n",
       "      <td>1.0</td>\n",
       "      <td>0.0</td>\n",
       "      <td>1.0</td>\n",
       "      <td>0.0</td>\n",
       "      <td>0.0</td>\n",
       "      <td>0.0</td>\n",
       "    </tr>\n",
       "    <tr>\n",
       "      <th>3993</th>\n",
       "      <td>1.0</td>\n",
       "      <td>0.0</td>\n",
       "      <td>0.0</td>\n",
       "      <td>1.0</td>\n",
       "      <td>0.0</td>\n",
       "      <td>0.0</td>\n",
       "      <td>1.0</td>\n",
       "      <td>0.0</td>\n",
       "      <td>0.0</td>\n",
       "      <td>0.0</td>\n",
       "      <td>1.0</td>\n",
       "      <td>0.0</td>\n",
       "      <td>1.0</td>\n",
       "      <td>0.0</td>\n",
       "      <td>0.0</td>\n",
       "    </tr>\n",
       "    <tr>\n",
       "      <th>3319</th>\n",
       "      <td>1.0</td>\n",
       "      <td>0.0</td>\n",
       "      <td>1.0</td>\n",
       "      <td>0.0</td>\n",
       "      <td>0.0</td>\n",
       "      <td>0.0</td>\n",
       "      <td>0.0</td>\n",
       "      <td>0.0</td>\n",
       "      <td>1.0</td>\n",
       "      <td>0.0</td>\n",
       "      <td>1.0</td>\n",
       "      <td>1.0</td>\n",
       "      <td>0.0</td>\n",
       "      <td>0.0</td>\n",
       "      <td>0.0</td>\n",
       "    </tr>\n",
       "    <tr>\n",
       "      <th>3629</th>\n",
       "      <td>0.0</td>\n",
       "      <td>1.0</td>\n",
       "      <td>0.0</td>\n",
       "      <td>1.0</td>\n",
       "      <td>0.0</td>\n",
       "      <td>0.0</td>\n",
       "      <td>1.0</td>\n",
       "      <td>0.0</td>\n",
       "      <td>0.0</td>\n",
       "      <td>0.0</td>\n",
       "      <td>1.0</td>\n",
       "      <td>0.0</td>\n",
       "      <td>0.0</td>\n",
       "      <td>0.0</td>\n",
       "      <td>1.0</td>\n",
       "    </tr>\n",
       "    <tr>\n",
       "      <th>...</th>\n",
       "      <td>...</td>\n",
       "      <td>...</td>\n",
       "      <td>...</td>\n",
       "      <td>...</td>\n",
       "      <td>...</td>\n",
       "      <td>...</td>\n",
       "      <td>...</td>\n",
       "      <td>...</td>\n",
       "      <td>...</td>\n",
       "      <td>...</td>\n",
       "      <td>...</td>\n",
       "      <td>...</td>\n",
       "      <td>...</td>\n",
       "      <td>...</td>\n",
       "      <td>...</td>\n",
       "    </tr>\n",
       "    <tr>\n",
       "      <th>1394</th>\n",
       "      <td>1.0</td>\n",
       "      <td>0.0</td>\n",
       "      <td>1.0</td>\n",
       "      <td>0.0</td>\n",
       "      <td>0.0</td>\n",
       "      <td>0.0</td>\n",
       "      <td>1.0</td>\n",
       "      <td>0.0</td>\n",
       "      <td>0.0</td>\n",
       "      <td>0.0</td>\n",
       "      <td>1.0</td>\n",
       "      <td>0.0</td>\n",
       "      <td>0.0</td>\n",
       "      <td>0.0</td>\n",
       "      <td>1.0</td>\n",
       "    </tr>\n",
       "    <tr>\n",
       "      <th>4982</th>\n",
       "      <td>0.0</td>\n",
       "      <td>1.0</td>\n",
       "      <td>1.0</td>\n",
       "      <td>0.0</td>\n",
       "      <td>0.0</td>\n",
       "      <td>0.0</td>\n",
       "      <td>1.0</td>\n",
       "      <td>0.0</td>\n",
       "      <td>0.0</td>\n",
       "      <td>1.0</td>\n",
       "      <td>0.0</td>\n",
       "      <td>0.0</td>\n",
       "      <td>0.0</td>\n",
       "      <td>1.0</td>\n",
       "      <td>0.0</td>\n",
       "    </tr>\n",
       "    <tr>\n",
       "      <th>1177</th>\n",
       "      <td>0.0</td>\n",
       "      <td>1.0</td>\n",
       "      <td>1.0</td>\n",
       "      <td>0.0</td>\n",
       "      <td>0.0</td>\n",
       "      <td>0.0</td>\n",
       "      <td>1.0</td>\n",
       "      <td>0.0</td>\n",
       "      <td>0.0</td>\n",
       "      <td>0.0</td>\n",
       "      <td>1.0</td>\n",
       "      <td>0.0</td>\n",
       "      <td>0.0</td>\n",
       "      <td>1.0</td>\n",
       "      <td>0.0</td>\n",
       "    </tr>\n",
       "    <tr>\n",
       "      <th>3361</th>\n",
       "      <td>0.0</td>\n",
       "      <td>1.0</td>\n",
       "      <td>0.0</td>\n",
       "      <td>1.0</td>\n",
       "      <td>0.0</td>\n",
       "      <td>0.0</td>\n",
       "      <td>1.0</td>\n",
       "      <td>0.0</td>\n",
       "      <td>0.0</td>\n",
       "      <td>1.0</td>\n",
       "      <td>0.0</td>\n",
       "      <td>1.0</td>\n",
       "      <td>0.0</td>\n",
       "      <td>0.0</td>\n",
       "      <td>0.0</td>\n",
       "    </tr>\n",
       "    <tr>\n",
       "      <th>2049</th>\n",
       "      <td>1.0</td>\n",
       "      <td>0.0</td>\n",
       "      <td>0.0</td>\n",
       "      <td>1.0</td>\n",
       "      <td>1.0</td>\n",
       "      <td>0.0</td>\n",
       "      <td>0.0</td>\n",
       "      <td>0.0</td>\n",
       "      <td>0.0</td>\n",
       "      <td>0.0</td>\n",
       "      <td>1.0</td>\n",
       "      <td>0.0</td>\n",
       "      <td>0.0</td>\n",
       "      <td>1.0</td>\n",
       "      <td>0.0</td>\n",
       "    </tr>\n",
       "  </tbody>\n",
       "</table>\n",
       "<p>3576 rows × 15 columns</p>\n",
       "</div>"
      ],
      "text/plain": [
       "      gender_Female  gender_Male  ever_married_No  ever_married_Yes  \\\n",
       "855             1.0          0.0              0.0               1.0   \n",
       "1243            1.0          0.0              1.0               0.0   \n",
       "3993            1.0          0.0              0.0               1.0   \n",
       "3319            1.0          0.0              1.0               0.0   \n",
       "3629            0.0          1.0              0.0               1.0   \n",
       "...             ...          ...              ...               ...   \n",
       "1394            1.0          0.0              1.0               0.0   \n",
       "4982            0.0          1.0              1.0               0.0   \n",
       "1177            0.0          1.0              1.0               0.0   \n",
       "3361            0.0          1.0              0.0               1.0   \n",
       "2049            1.0          0.0              0.0               1.0   \n",
       "\n",
       "      work_type_Govt_job  work_type_Never_worked  work_type_Private  \\\n",
       "855                  0.0                     0.0                1.0   \n",
       "1243                 0.0                     0.0                0.0   \n",
       "3993                 0.0                     0.0                1.0   \n",
       "3319                 0.0                     0.0                0.0   \n",
       "3629                 0.0                     0.0                1.0   \n",
       "...                  ...                     ...                ...   \n",
       "1394                 0.0                     0.0                1.0   \n",
       "4982                 0.0                     0.0                1.0   \n",
       "1177                 0.0                     0.0                1.0   \n",
       "3361                 0.0                     0.0                1.0   \n",
       "2049                 1.0                     0.0                0.0   \n",
       "\n",
       "      work_type_Self-employed  work_type_children  Residence_type_Rural  \\\n",
       "855                       0.0                 0.0                   1.0   \n",
       "1243                      0.0                 1.0                   1.0   \n",
       "3993                      0.0                 0.0                   0.0   \n",
       "3319                      0.0                 1.0                   0.0   \n",
       "3629                      0.0                 0.0                   0.0   \n",
       "...                       ...                 ...                   ...   \n",
       "1394                      0.0                 0.0                   0.0   \n",
       "4982                      0.0                 0.0                   1.0   \n",
       "1177                      0.0                 0.0                   0.0   \n",
       "3361                      0.0                 0.0                   1.0   \n",
       "2049                      0.0                 0.0                   0.0   \n",
       "\n",
       "      Residence_type_Urban  smoking_status_Unknown  \\\n",
       "855                    0.0                     0.0   \n",
       "1243                   0.0                     1.0   \n",
       "3993                   1.0                     0.0   \n",
       "3319                   1.0                     1.0   \n",
       "3629                   1.0                     0.0   \n",
       "...                    ...                     ...   \n",
       "1394                   1.0                     0.0   \n",
       "4982                   0.0                     0.0   \n",
       "1177                   1.0                     0.0   \n",
       "3361                   0.0                     1.0   \n",
       "2049                   1.0                     0.0   \n",
       "\n",
       "      smoking_status_formerly smoked  smoking_status_never smoked  \\\n",
       "855                              0.0                          0.0   \n",
       "1243                             0.0                          0.0   \n",
       "3993                             1.0                          0.0   \n",
       "3319                             0.0                          0.0   \n",
       "3629                             0.0                          0.0   \n",
       "...                              ...                          ...   \n",
       "1394                             0.0                          0.0   \n",
       "4982                             0.0                          1.0   \n",
       "1177                             0.0                          1.0   \n",
       "3361                             0.0                          0.0   \n",
       "2049                             0.0                          1.0   \n",
       "\n",
       "      smoking_status_smokes  \n",
       "855                     1.0  \n",
       "1243                    0.0  \n",
       "3993                    0.0  \n",
       "3319                    0.0  \n",
       "3629                    1.0  \n",
       "...                     ...  \n",
       "1394                    1.0  \n",
       "4982                    0.0  \n",
       "1177                    0.0  \n",
       "3361                    0.0  \n",
       "2049                    0.0  \n",
       "\n",
       "[3576 rows x 15 columns]"
      ]
     },
     "execution_count": 54,
     "metadata": {},
     "output_type": "execute_result"
    }
   ],
   "source": [
    "data_ohe"
   ]
  },
  {
   "cell_type": "markdown",
   "id": "823f74d2",
   "metadata": {},
   "source": [
    "## 3.4 Concat Data"
   ]
  },
  {
   "cell_type": "code",
   "execution_count": 55,
   "id": "bc1ee7f9",
   "metadata": {},
   "outputs": [
    {
     "data": {
      "text/html": [
       "<div>\n",
       "<style scoped>\n",
       "    .dataframe tbody tr th:only-of-type {\n",
       "        vertical-align: middle;\n",
       "    }\n",
       "\n",
       "    .dataframe tbody tr th {\n",
       "        vertical-align: top;\n",
       "    }\n",
       "\n",
       "    .dataframe thead th {\n",
       "        text-align: right;\n",
       "    }\n",
       "</style>\n",
       "<table border=\"1\" class=\"dataframe\">\n",
       "  <thead>\n",
       "    <tr style=\"text-align: right;\">\n",
       "      <th></th>\n",
       "      <th>age</th>\n",
       "      <th>hypertension</th>\n",
       "      <th>heart_disease</th>\n",
       "      <th>avg_glucose_level</th>\n",
       "      <th>bmi</th>\n",
       "      <th>gender_Female</th>\n",
       "      <th>gender_Male</th>\n",
       "      <th>ever_married_No</th>\n",
       "      <th>ever_married_Yes</th>\n",
       "      <th>work_type_Govt_job</th>\n",
       "      <th>work_type_Never_worked</th>\n",
       "      <th>work_type_Private</th>\n",
       "      <th>work_type_Self-employed</th>\n",
       "      <th>work_type_children</th>\n",
       "      <th>Residence_type_Rural</th>\n",
       "      <th>Residence_type_Urban</th>\n",
       "      <th>smoking_status_Unknown</th>\n",
       "      <th>smoking_status_formerly smoked</th>\n",
       "      <th>smoking_status_never smoked</th>\n",
       "      <th>smoking_status_smokes</th>\n",
       "    </tr>\n",
       "  </thead>\n",
       "  <tbody>\n",
       "    <tr>\n",
       "      <th>855</th>\n",
       "      <td>32.00</td>\n",
       "      <td>0.0</td>\n",
       "      <td>0.0</td>\n",
       "      <td>91.98</td>\n",
       "      <td>27.6</td>\n",
       "      <td>1.0</td>\n",
       "      <td>0.0</td>\n",
       "      <td>0.0</td>\n",
       "      <td>1.0</td>\n",
       "      <td>0.0</td>\n",
       "      <td>0.0</td>\n",
       "      <td>1.0</td>\n",
       "      <td>0.0</td>\n",
       "      <td>0.0</td>\n",
       "      <td>1.0</td>\n",
       "      <td>0.0</td>\n",
       "      <td>0.0</td>\n",
       "      <td>0.0</td>\n",
       "      <td>0.0</td>\n",
       "      <td>1.0</td>\n",
       "    </tr>\n",
       "    <tr>\n",
       "      <th>1243</th>\n",
       "      <td>3.00</td>\n",
       "      <td>0.0</td>\n",
       "      <td>0.0</td>\n",
       "      <td>94.12</td>\n",
       "      <td>21.4</td>\n",
       "      <td>1.0</td>\n",
       "      <td>0.0</td>\n",
       "      <td>1.0</td>\n",
       "      <td>0.0</td>\n",
       "      <td>0.0</td>\n",
       "      <td>0.0</td>\n",
       "      <td>0.0</td>\n",
       "      <td>0.0</td>\n",
       "      <td>1.0</td>\n",
       "      <td>1.0</td>\n",
       "      <td>0.0</td>\n",
       "      <td>1.0</td>\n",
       "      <td>0.0</td>\n",
       "      <td>0.0</td>\n",
       "      <td>0.0</td>\n",
       "    </tr>\n",
       "    <tr>\n",
       "      <th>3993</th>\n",
       "      <td>41.00</td>\n",
       "      <td>0.0</td>\n",
       "      <td>0.0</td>\n",
       "      <td>92.14</td>\n",
       "      <td>29.6</td>\n",
       "      <td>1.0</td>\n",
       "      <td>0.0</td>\n",
       "      <td>0.0</td>\n",
       "      <td>1.0</td>\n",
       "      <td>0.0</td>\n",
       "      <td>0.0</td>\n",
       "      <td>1.0</td>\n",
       "      <td>0.0</td>\n",
       "      <td>0.0</td>\n",
       "      <td>0.0</td>\n",
       "      <td>1.0</td>\n",
       "      <td>0.0</td>\n",
       "      <td>1.0</td>\n",
       "      <td>0.0</td>\n",
       "      <td>0.0</td>\n",
       "    </tr>\n",
       "    <tr>\n",
       "      <th>3319</th>\n",
       "      <td>1.08</td>\n",
       "      <td>0.0</td>\n",
       "      <td>0.0</td>\n",
       "      <td>159.39</td>\n",
       "      <td>12.8</td>\n",
       "      <td>1.0</td>\n",
       "      <td>0.0</td>\n",
       "      <td>1.0</td>\n",
       "      <td>0.0</td>\n",
       "      <td>0.0</td>\n",
       "      <td>0.0</td>\n",
       "      <td>0.0</td>\n",
       "      <td>0.0</td>\n",
       "      <td>1.0</td>\n",
       "      <td>0.0</td>\n",
       "      <td>1.0</td>\n",
       "      <td>1.0</td>\n",
       "      <td>0.0</td>\n",
       "      <td>0.0</td>\n",
       "      <td>0.0</td>\n",
       "    </tr>\n",
       "    <tr>\n",
       "      <th>3629</th>\n",
       "      <td>34.00</td>\n",
       "      <td>0.0</td>\n",
       "      <td>0.0</td>\n",
       "      <td>99.23</td>\n",
       "      <td>28.1</td>\n",
       "      <td>0.0</td>\n",
       "      <td>1.0</td>\n",
       "      <td>0.0</td>\n",
       "      <td>1.0</td>\n",
       "      <td>0.0</td>\n",
       "      <td>0.0</td>\n",
       "      <td>1.0</td>\n",
       "      <td>0.0</td>\n",
       "      <td>0.0</td>\n",
       "      <td>0.0</td>\n",
       "      <td>1.0</td>\n",
       "      <td>0.0</td>\n",
       "      <td>0.0</td>\n",
       "      <td>0.0</td>\n",
       "      <td>1.0</td>\n",
       "    </tr>\n",
       "    <tr>\n",
       "      <th>...</th>\n",
       "      <td>...</td>\n",
       "      <td>...</td>\n",
       "      <td>...</td>\n",
       "      <td>...</td>\n",
       "      <td>...</td>\n",
       "      <td>...</td>\n",
       "      <td>...</td>\n",
       "      <td>...</td>\n",
       "      <td>...</td>\n",
       "      <td>...</td>\n",
       "      <td>...</td>\n",
       "      <td>...</td>\n",
       "      <td>...</td>\n",
       "      <td>...</td>\n",
       "      <td>...</td>\n",
       "      <td>...</td>\n",
       "      <td>...</td>\n",
       "      <td>...</td>\n",
       "      <td>...</td>\n",
       "      <td>...</td>\n",
       "    </tr>\n",
       "    <tr>\n",
       "      <th>1394</th>\n",
       "      <td>21.00</td>\n",
       "      <td>0.0</td>\n",
       "      <td>0.0</td>\n",
       "      <td>90.16</td>\n",
       "      <td>28.9</td>\n",
       "      <td>1.0</td>\n",
       "      <td>0.0</td>\n",
       "      <td>1.0</td>\n",
       "      <td>0.0</td>\n",
       "      <td>0.0</td>\n",
       "      <td>0.0</td>\n",
       "      <td>1.0</td>\n",
       "      <td>0.0</td>\n",
       "      <td>0.0</td>\n",
       "      <td>0.0</td>\n",
       "      <td>1.0</td>\n",
       "      <td>0.0</td>\n",
       "      <td>0.0</td>\n",
       "      <td>0.0</td>\n",
       "      <td>1.0</td>\n",
       "    </tr>\n",
       "    <tr>\n",
       "      <th>4982</th>\n",
       "      <td>20.00</td>\n",
       "      <td>0.0</td>\n",
       "      <td>0.0</td>\n",
       "      <td>75.90</td>\n",
       "      <td>32.2</td>\n",
       "      <td>0.0</td>\n",
       "      <td>1.0</td>\n",
       "      <td>1.0</td>\n",
       "      <td>0.0</td>\n",
       "      <td>0.0</td>\n",
       "      <td>0.0</td>\n",
       "      <td>1.0</td>\n",
       "      <td>0.0</td>\n",
       "      <td>0.0</td>\n",
       "      <td>1.0</td>\n",
       "      <td>0.0</td>\n",
       "      <td>0.0</td>\n",
       "      <td>0.0</td>\n",
       "      <td>1.0</td>\n",
       "      <td>0.0</td>\n",
       "    </tr>\n",
       "    <tr>\n",
       "      <th>1177</th>\n",
       "      <td>23.00</td>\n",
       "      <td>0.0</td>\n",
       "      <td>0.0</td>\n",
       "      <td>115.98</td>\n",
       "      <td>22.3</td>\n",
       "      <td>0.0</td>\n",
       "      <td>1.0</td>\n",
       "      <td>1.0</td>\n",
       "      <td>0.0</td>\n",
       "      <td>0.0</td>\n",
       "      <td>0.0</td>\n",
       "      <td>1.0</td>\n",
       "      <td>0.0</td>\n",
       "      <td>0.0</td>\n",
       "      <td>0.0</td>\n",
       "      <td>1.0</td>\n",
       "      <td>0.0</td>\n",
       "      <td>0.0</td>\n",
       "      <td>1.0</td>\n",
       "      <td>0.0</td>\n",
       "    </tr>\n",
       "    <tr>\n",
       "      <th>3361</th>\n",
       "      <td>48.00</td>\n",
       "      <td>0.0</td>\n",
       "      <td>0.0</td>\n",
       "      <td>62.89</td>\n",
       "      <td>29.6</td>\n",
       "      <td>0.0</td>\n",
       "      <td>1.0</td>\n",
       "      <td>0.0</td>\n",
       "      <td>1.0</td>\n",
       "      <td>0.0</td>\n",
       "      <td>0.0</td>\n",
       "      <td>1.0</td>\n",
       "      <td>0.0</td>\n",
       "      <td>0.0</td>\n",
       "      <td>1.0</td>\n",
       "      <td>0.0</td>\n",
       "      <td>1.0</td>\n",
       "      <td>0.0</td>\n",
       "      <td>0.0</td>\n",
       "      <td>0.0</td>\n",
       "    </tr>\n",
       "    <tr>\n",
       "      <th>2049</th>\n",
       "      <td>50.00</td>\n",
       "      <td>0.0</td>\n",
       "      <td>0.0</td>\n",
       "      <td>82.37</td>\n",
       "      <td>30.7</td>\n",
       "      <td>1.0</td>\n",
       "      <td>0.0</td>\n",
       "      <td>0.0</td>\n",
       "      <td>1.0</td>\n",
       "      <td>1.0</td>\n",
       "      <td>0.0</td>\n",
       "      <td>0.0</td>\n",
       "      <td>0.0</td>\n",
       "      <td>0.0</td>\n",
       "      <td>0.0</td>\n",
       "      <td>1.0</td>\n",
       "      <td>0.0</td>\n",
       "      <td>0.0</td>\n",
       "      <td>1.0</td>\n",
       "      <td>0.0</td>\n",
       "    </tr>\n",
       "  </tbody>\n",
       "</table>\n",
       "<p>3576 rows × 20 columns</p>\n",
       "</div>"
      ],
      "text/plain": [
       "        age  hypertension  heart_disease  avg_glucose_level   bmi  \\\n",
       "855   32.00           0.0            0.0              91.98  27.6   \n",
       "1243   3.00           0.0            0.0              94.12  21.4   \n",
       "3993  41.00           0.0            0.0              92.14  29.6   \n",
       "3319   1.08           0.0            0.0             159.39  12.8   \n",
       "3629  34.00           0.0            0.0              99.23  28.1   \n",
       "...     ...           ...            ...                ...   ...   \n",
       "1394  21.00           0.0            0.0              90.16  28.9   \n",
       "4982  20.00           0.0            0.0              75.90  32.2   \n",
       "1177  23.00           0.0            0.0             115.98  22.3   \n",
       "3361  48.00           0.0            0.0              62.89  29.6   \n",
       "2049  50.00           0.0            0.0              82.37  30.7   \n",
       "\n",
       "      gender_Female  gender_Male  ever_married_No  ever_married_Yes  \\\n",
       "855             1.0          0.0              0.0               1.0   \n",
       "1243            1.0          0.0              1.0               0.0   \n",
       "3993            1.0          0.0              0.0               1.0   \n",
       "3319            1.0          0.0              1.0               0.0   \n",
       "3629            0.0          1.0              0.0               1.0   \n",
       "...             ...          ...              ...               ...   \n",
       "1394            1.0          0.0              1.0               0.0   \n",
       "4982            0.0          1.0              1.0               0.0   \n",
       "1177            0.0          1.0              1.0               0.0   \n",
       "3361            0.0          1.0              0.0               1.0   \n",
       "2049            1.0          0.0              0.0               1.0   \n",
       "\n",
       "      work_type_Govt_job  work_type_Never_worked  work_type_Private  \\\n",
       "855                  0.0                     0.0                1.0   \n",
       "1243                 0.0                     0.0                0.0   \n",
       "3993                 0.0                     0.0                1.0   \n",
       "3319                 0.0                     0.0                0.0   \n",
       "3629                 0.0                     0.0                1.0   \n",
       "...                  ...                     ...                ...   \n",
       "1394                 0.0                     0.0                1.0   \n",
       "4982                 0.0                     0.0                1.0   \n",
       "1177                 0.0                     0.0                1.0   \n",
       "3361                 0.0                     0.0                1.0   \n",
       "2049                 1.0                     0.0                0.0   \n",
       "\n",
       "      work_type_Self-employed  work_type_children  Residence_type_Rural  \\\n",
       "855                       0.0                 0.0                   1.0   \n",
       "1243                      0.0                 1.0                   1.0   \n",
       "3993                      0.0                 0.0                   0.0   \n",
       "3319                      0.0                 1.0                   0.0   \n",
       "3629                      0.0                 0.0                   0.0   \n",
       "...                       ...                 ...                   ...   \n",
       "1394                      0.0                 0.0                   0.0   \n",
       "4982                      0.0                 0.0                   1.0   \n",
       "1177                      0.0                 0.0                   0.0   \n",
       "3361                      0.0                 0.0                   1.0   \n",
       "2049                      0.0                 0.0                   0.0   \n",
       "\n",
       "      Residence_type_Urban  smoking_status_Unknown  \\\n",
       "855                    0.0                     0.0   \n",
       "1243                   0.0                     1.0   \n",
       "3993                   1.0                     0.0   \n",
       "3319                   1.0                     1.0   \n",
       "3629                   1.0                     0.0   \n",
       "...                    ...                     ...   \n",
       "1394                   1.0                     0.0   \n",
       "4982                   0.0                     0.0   \n",
       "1177                   1.0                     0.0   \n",
       "3361                   0.0                     1.0   \n",
       "2049                   1.0                     0.0   \n",
       "\n",
       "      smoking_status_formerly smoked  smoking_status_never smoked  \\\n",
       "855                              0.0                          0.0   \n",
       "1243                             0.0                          0.0   \n",
       "3993                             1.0                          0.0   \n",
       "3319                             0.0                          0.0   \n",
       "3629                             0.0                          0.0   \n",
       "...                              ...                          ...   \n",
       "1394                             0.0                          0.0   \n",
       "4982                             0.0                          1.0   \n",
       "1177                             0.0                          1.0   \n",
       "3361                             0.0                          0.0   \n",
       "2049                             0.0                          1.0   \n",
       "\n",
       "      smoking_status_smokes  \n",
       "855                     1.0  \n",
       "1243                    0.0  \n",
       "3993                    0.0  \n",
       "3319                    0.0  \n",
       "3629                    1.0  \n",
       "...                     ...  \n",
       "1394                    1.0  \n",
       "4982                    0.0  \n",
       "1177                    0.0  \n",
       "3361                    0.0  \n",
       "2049                    0.0  \n",
       "\n",
       "[3576 rows x 20 columns]"
      ]
     },
     "execution_count": 55,
     "metadata": {},
     "output_type": "execute_result"
    }
   ],
   "source": [
    "x_train_concat = pd.concat([imputed_data, data_ohe], axis=1)\n",
    "\n",
    "x_train_concat"
   ]
  },
  {
   "cell_type": "code",
   "execution_count": 56,
   "id": "12eb02e2",
   "metadata": {},
   "outputs": [
    {
     "name": "stdout",
     "output_type": "stream",
     "text": [
      "<class 'pandas.core.frame.DataFrame'>\n",
      "Int64Index: 3576 entries, 855 to 2049\n",
      "Data columns (total 20 columns):\n",
      " #   Column                          Non-Null Count  Dtype  \n",
      "---  ------                          --------------  -----  \n",
      " 0   age                             3576 non-null   float64\n",
      " 1   hypertension                    3576 non-null   float64\n",
      " 2   heart_disease                   3576 non-null   float64\n",
      " 3   avg_glucose_level               3576 non-null   float64\n",
      " 4   bmi                             3576 non-null   float64\n",
      " 5   gender_Female                   3576 non-null   float64\n",
      " 6   gender_Male                     3576 non-null   float64\n",
      " 7   ever_married_No                 3576 non-null   float64\n",
      " 8   ever_married_Yes                3576 non-null   float64\n",
      " 9   work_type_Govt_job              3576 non-null   float64\n",
      " 10  work_type_Never_worked          3576 non-null   float64\n",
      " 11  work_type_Private               3576 non-null   float64\n",
      " 12  work_type_Self-employed         3576 non-null   float64\n",
      " 13  work_type_children              3576 non-null   float64\n",
      " 14  Residence_type_Rural            3576 non-null   float64\n",
      " 15  Residence_type_Urban            3576 non-null   float64\n",
      " 16  smoking_status_Unknown          3576 non-null   float64\n",
      " 17  smoking_status_formerly smoked  3576 non-null   float64\n",
      " 18  smoking_status_never smoked     3576 non-null   float64\n",
      " 19  smoking_status_smokes           3576 non-null   float64\n",
      "dtypes: float64(20)\n",
      "memory usage: 586.7 KB\n"
     ]
    }
   ],
   "source": [
    "x_train_concat.info()"
   ]
  },
  {
   "cell_type": "markdown",
   "id": "2c10591a",
   "metadata": {},
   "source": [
    "## 3.5 Normalize Data"
   ]
  },
  {
   "cell_type": "code",
   "execution_count": 57,
   "id": "48e2cb9d",
   "metadata": {},
   "outputs": [],
   "source": [
    "from sklearn.preprocessing import StandardScaler\n",
    "\n",
    "# Buat Scaler\n",
    "scaler = StandardScaler()\n",
    "\n",
    "# Fit Scaler\n",
    "scaler.fit(x_train_concat)\n",
    "\n",
    "# Transform Data\n",
    "x_train_scaled = scaler.transform(x_train_concat)\n",
    "x_train_scaled = pd.DataFrame(x_train_scaled, \n",
    "                              columns = x_train_concat.columns,\n",
    "                              index = x_train_concat.index)"
   ]
  },
  {
   "cell_type": "code",
   "execution_count": 58,
   "id": "f7596342",
   "metadata": {},
   "outputs": [
    {
     "data": {
      "text/html": [
       "<div>\n",
       "<style scoped>\n",
       "    .dataframe tbody tr th:only-of-type {\n",
       "        vertical-align: middle;\n",
       "    }\n",
       "\n",
       "    .dataframe tbody tr th {\n",
       "        vertical-align: top;\n",
       "    }\n",
       "\n",
       "    .dataframe thead th {\n",
       "        text-align: right;\n",
       "    }\n",
       "</style>\n",
       "<table border=\"1\" class=\"dataframe\">\n",
       "  <thead>\n",
       "    <tr style=\"text-align: right;\">\n",
       "      <th></th>\n",
       "      <th>age</th>\n",
       "      <th>hypertension</th>\n",
       "      <th>heart_disease</th>\n",
       "      <th>avg_glucose_level</th>\n",
       "      <th>bmi</th>\n",
       "      <th>gender_Female</th>\n",
       "      <th>gender_Male</th>\n",
       "      <th>ever_married_No</th>\n",
       "      <th>ever_married_Yes</th>\n",
       "      <th>work_type_Govt_job</th>\n",
       "      <th>work_type_Never_worked</th>\n",
       "      <th>work_type_Private</th>\n",
       "      <th>work_type_Self-employed</th>\n",
       "      <th>work_type_children</th>\n",
       "      <th>Residence_type_Rural</th>\n",
       "      <th>Residence_type_Urban</th>\n",
       "      <th>smoking_status_Unknown</th>\n",
       "      <th>smoking_status_formerly smoked</th>\n",
       "      <th>smoking_status_never smoked</th>\n",
       "      <th>smoking_status_smokes</th>\n",
       "    </tr>\n",
       "  </thead>\n",
       "  <tbody>\n",
       "    <tr>\n",
       "      <th>855</th>\n",
       "      <td>-0.493290</td>\n",
       "      <td>-0.33354</td>\n",
       "      <td>-0.232906</td>\n",
       "      <td>-0.292594</td>\n",
       "      <td>-0.163632</td>\n",
       "      <td>0.82969</td>\n",
       "      <td>-0.82969</td>\n",
       "      <td>-0.721841</td>\n",
       "      <td>0.721841</td>\n",
       "      <td>-0.387568</td>\n",
       "      <td>-0.064902</td>\n",
       "      <td>0.857368</td>\n",
       "      <td>-0.429989</td>\n",
       "      <td>-0.391378</td>\n",
       "      <td>1.019200</td>\n",
       "      <td>-1.019200</td>\n",
       "      <td>-0.646469</td>\n",
       "      <td>-0.458424</td>\n",
       "      <td>-0.770443</td>\n",
       "      <td>2.29885</td>\n",
       "    </tr>\n",
       "    <tr>\n",
       "      <th>1243</th>\n",
       "      <td>-1.776710</td>\n",
       "      <td>-0.33354</td>\n",
       "      <td>-0.232906</td>\n",
       "      <td>-0.244763</td>\n",
       "      <td>-0.952754</td>\n",
       "      <td>0.82969</td>\n",
       "      <td>-0.82969</td>\n",
       "      <td>1.385346</td>\n",
       "      <td>-1.385346</td>\n",
       "      <td>-0.387568</td>\n",
       "      <td>-0.064902</td>\n",
       "      <td>-1.166360</td>\n",
       "      <td>-0.429989</td>\n",
       "      <td>2.555078</td>\n",
       "      <td>1.019200</td>\n",
       "      <td>-1.019200</td>\n",
       "      <td>1.546864</td>\n",
       "      <td>-0.458424</td>\n",
       "      <td>-0.770443</td>\n",
       "      <td>-0.43500</td>\n",
       "    </tr>\n",
       "    <tr>\n",
       "      <th>3993</th>\n",
       "      <td>-0.094987</td>\n",
       "      <td>-0.33354</td>\n",
       "      <td>-0.232906</td>\n",
       "      <td>-0.289018</td>\n",
       "      <td>0.090924</td>\n",
       "      <td>0.82969</td>\n",
       "      <td>-0.82969</td>\n",
       "      <td>-0.721841</td>\n",
       "      <td>0.721841</td>\n",
       "      <td>-0.387568</td>\n",
       "      <td>-0.064902</td>\n",
       "      <td>0.857368</td>\n",
       "      <td>-0.429989</td>\n",
       "      <td>-0.391378</td>\n",
       "      <td>-0.981162</td>\n",
       "      <td>0.981162</td>\n",
       "      <td>-0.646469</td>\n",
       "      <td>2.181388</td>\n",
       "      <td>-0.770443</td>\n",
       "      <td>-0.43500</td>\n",
       "    </tr>\n",
       "    <tr>\n",
       "      <th>3319</th>\n",
       "      <td>-1.861682</td>\n",
       "      <td>-0.33354</td>\n",
       "      <td>-0.232906</td>\n",
       "      <td>1.214085</td>\n",
       "      <td>-2.047344</td>\n",
       "      <td>0.82969</td>\n",
       "      <td>-0.82969</td>\n",
       "      <td>1.385346</td>\n",
       "      <td>-1.385346</td>\n",
       "      <td>-0.387568</td>\n",
       "      <td>-0.064902</td>\n",
       "      <td>-1.166360</td>\n",
       "      <td>-0.429989</td>\n",
       "      <td>2.555078</td>\n",
       "      <td>-0.981162</td>\n",
       "      <td>0.981162</td>\n",
       "      <td>1.546864</td>\n",
       "      <td>-0.458424</td>\n",
       "      <td>-0.770443</td>\n",
       "      <td>-0.43500</td>\n",
       "    </tr>\n",
       "    <tr>\n",
       "      <th>3629</th>\n",
       "      <td>-0.404778</td>\n",
       "      <td>-0.33354</td>\n",
       "      <td>-0.232906</td>\n",
       "      <td>-0.130550</td>\n",
       "      <td>-0.099993</td>\n",
       "      <td>-1.20527</td>\n",
       "      <td>1.20527</td>\n",
       "      <td>-0.721841</td>\n",
       "      <td>0.721841</td>\n",
       "      <td>-0.387568</td>\n",
       "      <td>-0.064902</td>\n",
       "      <td>0.857368</td>\n",
       "      <td>-0.429989</td>\n",
       "      <td>-0.391378</td>\n",
       "      <td>-0.981162</td>\n",
       "      <td>0.981162</td>\n",
       "      <td>-0.646469</td>\n",
       "      <td>-0.458424</td>\n",
       "      <td>-0.770443</td>\n",
       "      <td>2.29885</td>\n",
       "    </tr>\n",
       "    <tr>\n",
       "      <th>...</th>\n",
       "      <td>...</td>\n",
       "      <td>...</td>\n",
       "      <td>...</td>\n",
       "      <td>...</td>\n",
       "      <td>...</td>\n",
       "      <td>...</td>\n",
       "      <td>...</td>\n",
       "      <td>...</td>\n",
       "      <td>...</td>\n",
       "      <td>...</td>\n",
       "      <td>...</td>\n",
       "      <td>...</td>\n",
       "      <td>...</td>\n",
       "      <td>...</td>\n",
       "      <td>...</td>\n",
       "      <td>...</td>\n",
       "      <td>...</td>\n",
       "      <td>...</td>\n",
       "      <td>...</td>\n",
       "      <td>...</td>\n",
       "    </tr>\n",
       "    <tr>\n",
       "      <th>1394</th>\n",
       "      <td>-0.980105</td>\n",
       "      <td>-0.33354</td>\n",
       "      <td>-0.232906</td>\n",
       "      <td>-0.333273</td>\n",
       "      <td>0.001829</td>\n",
       "      <td>0.82969</td>\n",
       "      <td>-0.82969</td>\n",
       "      <td>1.385346</td>\n",
       "      <td>-1.385346</td>\n",
       "      <td>-0.387568</td>\n",
       "      <td>-0.064902</td>\n",
       "      <td>0.857368</td>\n",
       "      <td>-0.429989</td>\n",
       "      <td>-0.391378</td>\n",
       "      <td>-0.981162</td>\n",
       "      <td>0.981162</td>\n",
       "      <td>-0.646469</td>\n",
       "      <td>-0.458424</td>\n",
       "      <td>-0.770443</td>\n",
       "      <td>2.29885</td>\n",
       "    </tr>\n",
       "    <tr>\n",
       "      <th>4982</th>\n",
       "      <td>-1.024361</td>\n",
       "      <td>-0.33354</td>\n",
       "      <td>-0.232906</td>\n",
       "      <td>-0.651998</td>\n",
       "      <td>0.421846</td>\n",
       "      <td>-1.20527</td>\n",
       "      <td>1.20527</td>\n",
       "      <td>1.385346</td>\n",
       "      <td>-1.385346</td>\n",
       "      <td>-0.387568</td>\n",
       "      <td>-0.064902</td>\n",
       "      <td>0.857368</td>\n",
       "      <td>-0.429989</td>\n",
       "      <td>-0.391378</td>\n",
       "      <td>1.019200</td>\n",
       "      <td>-1.019200</td>\n",
       "      <td>-0.646469</td>\n",
       "      <td>-0.458424</td>\n",
       "      <td>1.297954</td>\n",
       "      <td>-0.43500</td>\n",
       "    </tr>\n",
       "    <tr>\n",
       "      <th>1177</th>\n",
       "      <td>-0.891593</td>\n",
       "      <td>-0.33354</td>\n",
       "      <td>-0.232906</td>\n",
       "      <td>0.243829</td>\n",
       "      <td>-0.838204</td>\n",
       "      <td>-1.20527</td>\n",
       "      <td>1.20527</td>\n",
       "      <td>1.385346</td>\n",
       "      <td>-1.385346</td>\n",
       "      <td>-0.387568</td>\n",
       "      <td>-0.064902</td>\n",
       "      <td>0.857368</td>\n",
       "      <td>-0.429989</td>\n",
       "      <td>-0.391378</td>\n",
       "      <td>-0.981162</td>\n",
       "      <td>0.981162</td>\n",
       "      <td>-0.646469</td>\n",
       "      <td>-0.458424</td>\n",
       "      <td>1.297954</td>\n",
       "      <td>-0.43500</td>\n",
       "    </tr>\n",
       "    <tr>\n",
       "      <th>3361</th>\n",
       "      <td>0.214804</td>\n",
       "      <td>-0.33354</td>\n",
       "      <td>-0.232906</td>\n",
       "      <td>-0.942784</td>\n",
       "      <td>0.090924</td>\n",
       "      <td>-1.20527</td>\n",
       "      <td>1.20527</td>\n",
       "      <td>-0.721841</td>\n",
       "      <td>0.721841</td>\n",
       "      <td>-0.387568</td>\n",
       "      <td>-0.064902</td>\n",
       "      <td>0.857368</td>\n",
       "      <td>-0.429989</td>\n",
       "      <td>-0.391378</td>\n",
       "      <td>1.019200</td>\n",
       "      <td>-1.019200</td>\n",
       "      <td>1.546864</td>\n",
       "      <td>-0.458424</td>\n",
       "      <td>-0.770443</td>\n",
       "      <td>-0.43500</td>\n",
       "    </tr>\n",
       "    <tr>\n",
       "      <th>2049</th>\n",
       "      <td>0.303316</td>\n",
       "      <td>-0.33354</td>\n",
       "      <td>-0.232906</td>\n",
       "      <td>-0.507387</td>\n",
       "      <td>0.230930</td>\n",
       "      <td>0.82969</td>\n",
       "      <td>-0.82969</td>\n",
       "      <td>-0.721841</td>\n",
       "      <td>0.721841</td>\n",
       "      <td>2.580191</td>\n",
       "      <td>-0.064902</td>\n",
       "      <td>-1.166360</td>\n",
       "      <td>-0.429989</td>\n",
       "      <td>-0.391378</td>\n",
       "      <td>-0.981162</td>\n",
       "      <td>0.981162</td>\n",
       "      <td>-0.646469</td>\n",
       "      <td>-0.458424</td>\n",
       "      <td>1.297954</td>\n",
       "      <td>-0.43500</td>\n",
       "    </tr>\n",
       "  </tbody>\n",
       "</table>\n",
       "<p>3576 rows × 20 columns</p>\n",
       "</div>"
      ],
      "text/plain": [
       "           age  hypertension  heart_disease  avg_glucose_level       bmi  \\\n",
       "855  -0.493290      -0.33354      -0.232906          -0.292594 -0.163632   \n",
       "1243 -1.776710      -0.33354      -0.232906          -0.244763 -0.952754   \n",
       "3993 -0.094987      -0.33354      -0.232906          -0.289018  0.090924   \n",
       "3319 -1.861682      -0.33354      -0.232906           1.214085 -2.047344   \n",
       "3629 -0.404778      -0.33354      -0.232906          -0.130550 -0.099993   \n",
       "...        ...           ...            ...                ...       ...   \n",
       "1394 -0.980105      -0.33354      -0.232906          -0.333273  0.001829   \n",
       "4982 -1.024361      -0.33354      -0.232906          -0.651998  0.421846   \n",
       "1177 -0.891593      -0.33354      -0.232906           0.243829 -0.838204   \n",
       "3361  0.214804      -0.33354      -0.232906          -0.942784  0.090924   \n",
       "2049  0.303316      -0.33354      -0.232906          -0.507387  0.230930   \n",
       "\n",
       "      gender_Female  gender_Male  ever_married_No  ever_married_Yes  \\\n",
       "855         0.82969     -0.82969        -0.721841          0.721841   \n",
       "1243        0.82969     -0.82969         1.385346         -1.385346   \n",
       "3993        0.82969     -0.82969        -0.721841          0.721841   \n",
       "3319        0.82969     -0.82969         1.385346         -1.385346   \n",
       "3629       -1.20527      1.20527        -0.721841          0.721841   \n",
       "...             ...          ...              ...               ...   \n",
       "1394        0.82969     -0.82969         1.385346         -1.385346   \n",
       "4982       -1.20527      1.20527         1.385346         -1.385346   \n",
       "1177       -1.20527      1.20527         1.385346         -1.385346   \n",
       "3361       -1.20527      1.20527        -0.721841          0.721841   \n",
       "2049        0.82969     -0.82969        -0.721841          0.721841   \n",
       "\n",
       "      work_type_Govt_job  work_type_Never_worked  work_type_Private  \\\n",
       "855            -0.387568               -0.064902           0.857368   \n",
       "1243           -0.387568               -0.064902          -1.166360   \n",
       "3993           -0.387568               -0.064902           0.857368   \n",
       "3319           -0.387568               -0.064902          -1.166360   \n",
       "3629           -0.387568               -0.064902           0.857368   \n",
       "...                  ...                     ...                ...   \n",
       "1394           -0.387568               -0.064902           0.857368   \n",
       "4982           -0.387568               -0.064902           0.857368   \n",
       "1177           -0.387568               -0.064902           0.857368   \n",
       "3361           -0.387568               -0.064902           0.857368   \n",
       "2049            2.580191               -0.064902          -1.166360   \n",
       "\n",
       "      work_type_Self-employed  work_type_children  Residence_type_Rural  \\\n",
       "855                 -0.429989           -0.391378              1.019200   \n",
       "1243                -0.429989            2.555078              1.019200   \n",
       "3993                -0.429989           -0.391378             -0.981162   \n",
       "3319                -0.429989            2.555078             -0.981162   \n",
       "3629                -0.429989           -0.391378             -0.981162   \n",
       "...                       ...                 ...                   ...   \n",
       "1394                -0.429989           -0.391378             -0.981162   \n",
       "4982                -0.429989           -0.391378              1.019200   \n",
       "1177                -0.429989           -0.391378             -0.981162   \n",
       "3361                -0.429989           -0.391378              1.019200   \n",
       "2049                -0.429989           -0.391378             -0.981162   \n",
       "\n",
       "      Residence_type_Urban  smoking_status_Unknown  \\\n",
       "855              -1.019200               -0.646469   \n",
       "1243             -1.019200                1.546864   \n",
       "3993              0.981162               -0.646469   \n",
       "3319              0.981162                1.546864   \n",
       "3629              0.981162               -0.646469   \n",
       "...                    ...                     ...   \n",
       "1394              0.981162               -0.646469   \n",
       "4982             -1.019200               -0.646469   \n",
       "1177              0.981162               -0.646469   \n",
       "3361             -1.019200                1.546864   \n",
       "2049              0.981162               -0.646469   \n",
       "\n",
       "      smoking_status_formerly smoked  smoking_status_never smoked  \\\n",
       "855                        -0.458424                    -0.770443   \n",
       "1243                       -0.458424                    -0.770443   \n",
       "3993                        2.181388                    -0.770443   \n",
       "3319                       -0.458424                    -0.770443   \n",
       "3629                       -0.458424                    -0.770443   \n",
       "...                              ...                          ...   \n",
       "1394                       -0.458424                    -0.770443   \n",
       "4982                       -0.458424                     1.297954   \n",
       "1177                       -0.458424                     1.297954   \n",
       "3361                       -0.458424                    -0.770443   \n",
       "2049                       -0.458424                     1.297954   \n",
       "\n",
       "      smoking_status_smokes  \n",
       "855                 2.29885  \n",
       "1243               -0.43500  \n",
       "3993               -0.43500  \n",
       "3319               -0.43500  \n",
       "3629                2.29885  \n",
       "...                     ...  \n",
       "1394                2.29885  \n",
       "4982               -0.43500  \n",
       "1177               -0.43500  \n",
       "3361               -0.43500  \n",
       "2049               -0.43500  \n",
       "\n",
       "[3576 rows x 20 columns]"
      ]
     },
     "execution_count": 58,
     "metadata": {},
     "output_type": "execute_result"
    }
   ],
   "source": [
    "x_train_scaled"
   ]
  },
  {
   "cell_type": "markdown",
   "id": "6f0866f0",
   "metadata": {},
   "source": [
    "## 3.6 Pembersihan Data Test"
   ]
  },
  {
   "cell_type": "code",
   "execution_count": 59,
   "id": "d495bc57",
   "metadata": {},
   "outputs": [
    {
     "data": {
      "text/html": [
       "<div>\n",
       "<style scoped>\n",
       "    .dataframe tbody tr th:only-of-type {\n",
       "        vertical-align: middle;\n",
       "    }\n",
       "\n",
       "    .dataframe tbody tr th {\n",
       "        vertical-align: top;\n",
       "    }\n",
       "\n",
       "    .dataframe thead th {\n",
       "        text-align: right;\n",
       "    }\n",
       "</style>\n",
       "<table border=\"1\" class=\"dataframe\">\n",
       "  <thead>\n",
       "    <tr style=\"text-align: right;\">\n",
       "      <th></th>\n",
       "      <th>gender</th>\n",
       "      <th>age</th>\n",
       "      <th>hypertension</th>\n",
       "      <th>heart_disease</th>\n",
       "      <th>ever_married</th>\n",
       "      <th>work_type</th>\n",
       "      <th>Residence_type</th>\n",
       "      <th>avg_glucose_level</th>\n",
       "      <th>bmi</th>\n",
       "      <th>smoking_status</th>\n",
       "    </tr>\n",
       "  </thead>\n",
       "  <tbody>\n",
       "    <tr>\n",
       "      <th>3049</th>\n",
       "      <td>Female</td>\n",
       "      <td>52.0</td>\n",
       "      <td>0</td>\n",
       "      <td>0</td>\n",
       "      <td>Yes</td>\n",
       "      <td>Govt_job</td>\n",
       "      <td>Urban</td>\n",
       "      <td>110.36</td>\n",
       "      <td>39.1</td>\n",
       "      <td>formerly smoked</td>\n",
       "    </tr>\n",
       "    <tr>\n",
       "      <th>2349</th>\n",
       "      <td>Male</td>\n",
       "      <td>47.0</td>\n",
       "      <td>0</td>\n",
       "      <td>0</td>\n",
       "      <td>No</td>\n",
       "      <td>Private</td>\n",
       "      <td>Rural</td>\n",
       "      <td>111.15</td>\n",
       "      <td>23.8</td>\n",
       "      <td>never smoked</td>\n",
       "    </tr>\n",
       "    <tr>\n",
       "      <th>3000</th>\n",
       "      <td>Male</td>\n",
       "      <td>26.0</td>\n",
       "      <td>0</td>\n",
       "      <td>0</td>\n",
       "      <td>Yes</td>\n",
       "      <td>Private</td>\n",
       "      <td>Urban</td>\n",
       "      <td>89.18</td>\n",
       "      <td>25.9</td>\n",
       "      <td>formerly smoked</td>\n",
       "    </tr>\n",
       "    <tr>\n",
       "      <th>5003</th>\n",
       "      <td>Male</td>\n",
       "      <td>17.0</td>\n",
       "      <td>0</td>\n",
       "      <td>0</td>\n",
       "      <td>No</td>\n",
       "      <td>Private</td>\n",
       "      <td>Urban</td>\n",
       "      <td>63.28</td>\n",
       "      <td>40.2</td>\n",
       "      <td>Unknown</td>\n",
       "    </tr>\n",
       "    <tr>\n",
       "      <th>733</th>\n",
       "      <td>Male</td>\n",
       "      <td>6.0</td>\n",
       "      <td>0</td>\n",
       "      <td>0</td>\n",
       "      <td>No</td>\n",
       "      <td>children</td>\n",
       "      <td>Urban</td>\n",
       "      <td>70.78</td>\n",
       "      <td>20.3</td>\n",
       "      <td>Unknown</td>\n",
       "    </tr>\n",
       "    <tr>\n",
       "      <th>...</th>\n",
       "      <td>...</td>\n",
       "      <td>...</td>\n",
       "      <td>...</td>\n",
       "      <td>...</td>\n",
       "      <td>...</td>\n",
       "      <td>...</td>\n",
       "      <td>...</td>\n",
       "      <td>...</td>\n",
       "      <td>...</td>\n",
       "      <td>...</td>\n",
       "    </tr>\n",
       "    <tr>\n",
       "      <th>1707</th>\n",
       "      <td>Female</td>\n",
       "      <td>23.0</td>\n",
       "      <td>0</td>\n",
       "      <td>0</td>\n",
       "      <td>No</td>\n",
       "      <td>Private</td>\n",
       "      <td>Urban</td>\n",
       "      <td>124.50</td>\n",
       "      <td>33.4</td>\n",
       "      <td>Unknown</td>\n",
       "    </tr>\n",
       "    <tr>\n",
       "      <th>537</th>\n",
       "      <td>Male</td>\n",
       "      <td>65.0</td>\n",
       "      <td>0</td>\n",
       "      <td>0</td>\n",
       "      <td>Yes</td>\n",
       "      <td>Self-employed</td>\n",
       "      <td>Urban</td>\n",
       "      <td>105.61</td>\n",
       "      <td>27.9</td>\n",
       "      <td>Unknown</td>\n",
       "    </tr>\n",
       "    <tr>\n",
       "      <th>4610</th>\n",
       "      <td>Female</td>\n",
       "      <td>26.0</td>\n",
       "      <td>0</td>\n",
       "      <td>0</td>\n",
       "      <td>No</td>\n",
       "      <td>Govt_job</td>\n",
       "      <td>Urban</td>\n",
       "      <td>59.67</td>\n",
       "      <td>24.5</td>\n",
       "      <td>smokes</td>\n",
       "    </tr>\n",
       "    <tr>\n",
       "      <th>2443</th>\n",
       "      <td>Male</td>\n",
       "      <td>13.0</td>\n",
       "      <td>0</td>\n",
       "      <td>0</td>\n",
       "      <td>No</td>\n",
       "      <td>children</td>\n",
       "      <td>Rural</td>\n",
       "      <td>116.64</td>\n",
       "      <td>23.9</td>\n",
       "      <td>Unknown</td>\n",
       "    </tr>\n",
       "    <tr>\n",
       "      <th>5022</th>\n",
       "      <td>Female</td>\n",
       "      <td>40.0</td>\n",
       "      <td>0</td>\n",
       "      <td>0</td>\n",
       "      <td>No</td>\n",
       "      <td>Private</td>\n",
       "      <td>Rural</td>\n",
       "      <td>99.58</td>\n",
       "      <td>24.1</td>\n",
       "      <td>Unknown</td>\n",
       "    </tr>\n",
       "  </tbody>\n",
       "</table>\n",
       "<p>1533 rows × 10 columns</p>\n",
       "</div>"
      ],
      "text/plain": [
       "      gender   age  hypertension  heart_disease ever_married      work_type  \\\n",
       "3049  Female  52.0             0              0          Yes       Govt_job   \n",
       "2349    Male  47.0             0              0           No        Private   \n",
       "3000    Male  26.0             0              0          Yes        Private   \n",
       "5003    Male  17.0             0              0           No        Private   \n",
       "733     Male   6.0             0              0           No       children   \n",
       "...      ...   ...           ...            ...          ...            ...   \n",
       "1707  Female  23.0             0              0           No        Private   \n",
       "537     Male  65.0             0              0          Yes  Self-employed   \n",
       "4610  Female  26.0             0              0           No       Govt_job   \n",
       "2443    Male  13.0             0              0           No       children   \n",
       "5022  Female  40.0             0              0           No        Private   \n",
       "\n",
       "     Residence_type  avg_glucose_level   bmi   smoking_status  \n",
       "3049          Urban             110.36  39.1  formerly smoked  \n",
       "2349          Rural             111.15  23.8     never smoked  \n",
       "3000          Urban              89.18  25.9  formerly smoked  \n",
       "5003          Urban              63.28  40.2          Unknown  \n",
       "733           Urban              70.78  20.3          Unknown  \n",
       "...             ...                ...   ...              ...  \n",
       "1707          Urban             124.50  33.4          Unknown  \n",
       "537           Urban             105.61  27.9          Unknown  \n",
       "4610          Urban              59.67  24.5           smokes  \n",
       "2443          Rural             116.64  23.9          Unknown  \n",
       "5022          Rural              99.58  24.1          Unknown  \n",
       "\n",
       "[1533 rows x 10 columns]"
      ]
     },
     "execution_count": 59,
     "metadata": {},
     "output_type": "execute_result"
    }
   ],
   "source": [
    "x_test"
   ]
  },
  {
   "cell_type": "code",
   "execution_count": 60,
   "id": "0c0ad023",
   "metadata": {},
   "outputs": [],
   "source": [
    "categorical_cols = x_test[[\"gender\", \"ever_married\", \"work_type\", \"Residence_type\", \"smoking_status\"]]\n",
    "numerical_cols = x_test[[\"age\", \"hypertension\", \"heart_disease\", \"avg_glucose_level\", \"bmi\"]]"
   ]
  },
  {
   "cell_type": "code",
   "execution_count": 61,
   "id": "9c3d8ad0",
   "metadata": {},
   "outputs": [],
   "source": [
    "from sklearn.impute import SimpleImputer\n",
    "\n",
    "# Buat Imputer\n",
    "imputer = SimpleImputer(missing_values = np.nan,\n",
    "                        strategy = \"median\")\n",
    "\n",
    "# Fit Imputer\n",
    "imputer.fit(numerical_cols)\n",
    "\n",
    "# Transform Data\n",
    "imputed_data = pd.DataFrame(imputer.transform(numerical_cols))\n",
    "imputed_data.columns = numerical_cols.columns\n",
    "imputed_data.index = numerical_cols.index"
   ]
  },
  {
   "cell_type": "code",
   "execution_count": 62,
   "id": "efa58bb2",
   "metadata": {},
   "outputs": [],
   "source": [
    "from sklearn.preprocessing import OneHotEncoder\n",
    "\n",
    "# Buat Encoder\n",
    "encoder = OneHotEncoder()\n",
    "\n",
    "# Fit Encoder\n",
    "encoder.fit(categorical_cols)\n",
    "\n",
    "# Ekstrak ohe\n",
    "ohe_col = encoder.get_feature_names_out(categorical_cols.columns)\n",
    "\n",
    "# Transform data\n",
    "data_ohe = encoder.transform(categorical_cols).toarray()\n",
    "data_ohe = pd.DataFrame(data_ohe,\n",
    "                        columns = ohe_col,\n",
    "                        index = categorical_cols.index)"
   ]
  },
  {
   "cell_type": "code",
   "execution_count": 63,
   "id": "381729ba",
   "metadata": {},
   "outputs": [
    {
     "data": {
      "text/html": [
       "<div>\n",
       "<style scoped>\n",
       "    .dataframe tbody tr th:only-of-type {\n",
       "        vertical-align: middle;\n",
       "    }\n",
       "\n",
       "    .dataframe tbody tr th {\n",
       "        vertical-align: top;\n",
       "    }\n",
       "\n",
       "    .dataframe thead th {\n",
       "        text-align: right;\n",
       "    }\n",
       "</style>\n",
       "<table border=\"1\" class=\"dataframe\">\n",
       "  <thead>\n",
       "    <tr style=\"text-align: right;\">\n",
       "      <th></th>\n",
       "      <th>age</th>\n",
       "      <th>hypertension</th>\n",
       "      <th>heart_disease</th>\n",
       "      <th>avg_glucose_level</th>\n",
       "      <th>bmi</th>\n",
       "      <th>gender_Female</th>\n",
       "      <th>gender_Male</th>\n",
       "      <th>ever_married_No</th>\n",
       "      <th>ever_married_Yes</th>\n",
       "      <th>work_type_Govt_job</th>\n",
       "      <th>work_type_Never_worked</th>\n",
       "      <th>work_type_Private</th>\n",
       "      <th>work_type_Self-employed</th>\n",
       "      <th>work_type_children</th>\n",
       "      <th>Residence_type_Rural</th>\n",
       "      <th>Residence_type_Urban</th>\n",
       "      <th>smoking_status_Unknown</th>\n",
       "      <th>smoking_status_formerly smoked</th>\n",
       "      <th>smoking_status_never smoked</th>\n",
       "      <th>smoking_status_smokes</th>\n",
       "    </tr>\n",
       "  </thead>\n",
       "  <tbody>\n",
       "    <tr>\n",
       "      <th>3049</th>\n",
       "      <td>52.0</td>\n",
       "      <td>0.0</td>\n",
       "      <td>0.0</td>\n",
       "      <td>110.36</td>\n",
       "      <td>39.1</td>\n",
       "      <td>1.0</td>\n",
       "      <td>0.0</td>\n",
       "      <td>0.0</td>\n",
       "      <td>1.0</td>\n",
       "      <td>1.0</td>\n",
       "      <td>0.0</td>\n",
       "      <td>0.0</td>\n",
       "      <td>0.0</td>\n",
       "      <td>0.0</td>\n",
       "      <td>0.0</td>\n",
       "      <td>1.0</td>\n",
       "      <td>0.0</td>\n",
       "      <td>1.0</td>\n",
       "      <td>0.0</td>\n",
       "      <td>0.0</td>\n",
       "    </tr>\n",
       "    <tr>\n",
       "      <th>2349</th>\n",
       "      <td>47.0</td>\n",
       "      <td>0.0</td>\n",
       "      <td>0.0</td>\n",
       "      <td>111.15</td>\n",
       "      <td>23.8</td>\n",
       "      <td>0.0</td>\n",
       "      <td>1.0</td>\n",
       "      <td>1.0</td>\n",
       "      <td>0.0</td>\n",
       "      <td>0.0</td>\n",
       "      <td>0.0</td>\n",
       "      <td>1.0</td>\n",
       "      <td>0.0</td>\n",
       "      <td>0.0</td>\n",
       "      <td>1.0</td>\n",
       "      <td>0.0</td>\n",
       "      <td>0.0</td>\n",
       "      <td>0.0</td>\n",
       "      <td>1.0</td>\n",
       "      <td>0.0</td>\n",
       "    </tr>\n",
       "    <tr>\n",
       "      <th>3000</th>\n",
       "      <td>26.0</td>\n",
       "      <td>0.0</td>\n",
       "      <td>0.0</td>\n",
       "      <td>89.18</td>\n",
       "      <td>25.9</td>\n",
       "      <td>0.0</td>\n",
       "      <td>1.0</td>\n",
       "      <td>0.0</td>\n",
       "      <td>1.0</td>\n",
       "      <td>0.0</td>\n",
       "      <td>0.0</td>\n",
       "      <td>1.0</td>\n",
       "      <td>0.0</td>\n",
       "      <td>0.0</td>\n",
       "      <td>0.0</td>\n",
       "      <td>1.0</td>\n",
       "      <td>0.0</td>\n",
       "      <td>1.0</td>\n",
       "      <td>0.0</td>\n",
       "      <td>0.0</td>\n",
       "    </tr>\n",
       "    <tr>\n",
       "      <th>5003</th>\n",
       "      <td>17.0</td>\n",
       "      <td>0.0</td>\n",
       "      <td>0.0</td>\n",
       "      <td>63.28</td>\n",
       "      <td>40.2</td>\n",
       "      <td>0.0</td>\n",
       "      <td>1.0</td>\n",
       "      <td>1.0</td>\n",
       "      <td>0.0</td>\n",
       "      <td>0.0</td>\n",
       "      <td>0.0</td>\n",
       "      <td>1.0</td>\n",
       "      <td>0.0</td>\n",
       "      <td>0.0</td>\n",
       "      <td>0.0</td>\n",
       "      <td>1.0</td>\n",
       "      <td>1.0</td>\n",
       "      <td>0.0</td>\n",
       "      <td>0.0</td>\n",
       "      <td>0.0</td>\n",
       "    </tr>\n",
       "    <tr>\n",
       "      <th>733</th>\n",
       "      <td>6.0</td>\n",
       "      <td>0.0</td>\n",
       "      <td>0.0</td>\n",
       "      <td>70.78</td>\n",
       "      <td>20.3</td>\n",
       "      <td>0.0</td>\n",
       "      <td>1.0</td>\n",
       "      <td>1.0</td>\n",
       "      <td>0.0</td>\n",
       "      <td>0.0</td>\n",
       "      <td>0.0</td>\n",
       "      <td>0.0</td>\n",
       "      <td>0.0</td>\n",
       "      <td>1.0</td>\n",
       "      <td>0.0</td>\n",
       "      <td>1.0</td>\n",
       "      <td>1.0</td>\n",
       "      <td>0.0</td>\n",
       "      <td>0.0</td>\n",
       "      <td>0.0</td>\n",
       "    </tr>\n",
       "    <tr>\n",
       "      <th>...</th>\n",
       "      <td>...</td>\n",
       "      <td>...</td>\n",
       "      <td>...</td>\n",
       "      <td>...</td>\n",
       "      <td>...</td>\n",
       "      <td>...</td>\n",
       "      <td>...</td>\n",
       "      <td>...</td>\n",
       "      <td>...</td>\n",
       "      <td>...</td>\n",
       "      <td>...</td>\n",
       "      <td>...</td>\n",
       "      <td>...</td>\n",
       "      <td>...</td>\n",
       "      <td>...</td>\n",
       "      <td>...</td>\n",
       "      <td>...</td>\n",
       "      <td>...</td>\n",
       "      <td>...</td>\n",
       "      <td>...</td>\n",
       "    </tr>\n",
       "    <tr>\n",
       "      <th>1707</th>\n",
       "      <td>23.0</td>\n",
       "      <td>0.0</td>\n",
       "      <td>0.0</td>\n",
       "      <td>124.50</td>\n",
       "      <td>33.4</td>\n",
       "      <td>1.0</td>\n",
       "      <td>0.0</td>\n",
       "      <td>1.0</td>\n",
       "      <td>0.0</td>\n",
       "      <td>0.0</td>\n",
       "      <td>0.0</td>\n",
       "      <td>1.0</td>\n",
       "      <td>0.0</td>\n",
       "      <td>0.0</td>\n",
       "      <td>0.0</td>\n",
       "      <td>1.0</td>\n",
       "      <td>1.0</td>\n",
       "      <td>0.0</td>\n",
       "      <td>0.0</td>\n",
       "      <td>0.0</td>\n",
       "    </tr>\n",
       "    <tr>\n",
       "      <th>537</th>\n",
       "      <td>65.0</td>\n",
       "      <td>0.0</td>\n",
       "      <td>0.0</td>\n",
       "      <td>105.61</td>\n",
       "      <td>27.9</td>\n",
       "      <td>0.0</td>\n",
       "      <td>1.0</td>\n",
       "      <td>0.0</td>\n",
       "      <td>1.0</td>\n",
       "      <td>0.0</td>\n",
       "      <td>0.0</td>\n",
       "      <td>0.0</td>\n",
       "      <td>1.0</td>\n",
       "      <td>0.0</td>\n",
       "      <td>0.0</td>\n",
       "      <td>1.0</td>\n",
       "      <td>1.0</td>\n",
       "      <td>0.0</td>\n",
       "      <td>0.0</td>\n",
       "      <td>0.0</td>\n",
       "    </tr>\n",
       "    <tr>\n",
       "      <th>4610</th>\n",
       "      <td>26.0</td>\n",
       "      <td>0.0</td>\n",
       "      <td>0.0</td>\n",
       "      <td>59.67</td>\n",
       "      <td>24.5</td>\n",
       "      <td>1.0</td>\n",
       "      <td>0.0</td>\n",
       "      <td>1.0</td>\n",
       "      <td>0.0</td>\n",
       "      <td>1.0</td>\n",
       "      <td>0.0</td>\n",
       "      <td>0.0</td>\n",
       "      <td>0.0</td>\n",
       "      <td>0.0</td>\n",
       "      <td>0.0</td>\n",
       "      <td>1.0</td>\n",
       "      <td>0.0</td>\n",
       "      <td>0.0</td>\n",
       "      <td>0.0</td>\n",
       "      <td>1.0</td>\n",
       "    </tr>\n",
       "    <tr>\n",
       "      <th>2443</th>\n",
       "      <td>13.0</td>\n",
       "      <td>0.0</td>\n",
       "      <td>0.0</td>\n",
       "      <td>116.64</td>\n",
       "      <td>23.9</td>\n",
       "      <td>0.0</td>\n",
       "      <td>1.0</td>\n",
       "      <td>1.0</td>\n",
       "      <td>0.0</td>\n",
       "      <td>0.0</td>\n",
       "      <td>0.0</td>\n",
       "      <td>0.0</td>\n",
       "      <td>0.0</td>\n",
       "      <td>1.0</td>\n",
       "      <td>1.0</td>\n",
       "      <td>0.0</td>\n",
       "      <td>1.0</td>\n",
       "      <td>0.0</td>\n",
       "      <td>0.0</td>\n",
       "      <td>0.0</td>\n",
       "    </tr>\n",
       "    <tr>\n",
       "      <th>5022</th>\n",
       "      <td>40.0</td>\n",
       "      <td>0.0</td>\n",
       "      <td>0.0</td>\n",
       "      <td>99.58</td>\n",
       "      <td>24.1</td>\n",
       "      <td>1.0</td>\n",
       "      <td>0.0</td>\n",
       "      <td>1.0</td>\n",
       "      <td>0.0</td>\n",
       "      <td>0.0</td>\n",
       "      <td>0.0</td>\n",
       "      <td>1.0</td>\n",
       "      <td>0.0</td>\n",
       "      <td>0.0</td>\n",
       "      <td>1.0</td>\n",
       "      <td>0.0</td>\n",
       "      <td>1.0</td>\n",
       "      <td>0.0</td>\n",
       "      <td>0.0</td>\n",
       "      <td>0.0</td>\n",
       "    </tr>\n",
       "  </tbody>\n",
       "</table>\n",
       "<p>1533 rows × 20 columns</p>\n",
       "</div>"
      ],
      "text/plain": [
       "       age  hypertension  heart_disease  avg_glucose_level   bmi  \\\n",
       "3049  52.0           0.0            0.0             110.36  39.1   \n",
       "2349  47.0           0.0            0.0             111.15  23.8   \n",
       "3000  26.0           0.0            0.0              89.18  25.9   \n",
       "5003  17.0           0.0            0.0              63.28  40.2   \n",
       "733    6.0           0.0            0.0              70.78  20.3   \n",
       "...    ...           ...            ...                ...   ...   \n",
       "1707  23.0           0.0            0.0             124.50  33.4   \n",
       "537   65.0           0.0            0.0             105.61  27.9   \n",
       "4610  26.0           0.0            0.0              59.67  24.5   \n",
       "2443  13.0           0.0            0.0             116.64  23.9   \n",
       "5022  40.0           0.0            0.0              99.58  24.1   \n",
       "\n",
       "      gender_Female  gender_Male  ever_married_No  ever_married_Yes  \\\n",
       "3049            1.0          0.0              0.0               1.0   \n",
       "2349            0.0          1.0              1.0               0.0   \n",
       "3000            0.0          1.0              0.0               1.0   \n",
       "5003            0.0          1.0              1.0               0.0   \n",
       "733             0.0          1.0              1.0               0.0   \n",
       "...             ...          ...              ...               ...   \n",
       "1707            1.0          0.0              1.0               0.0   \n",
       "537             0.0          1.0              0.0               1.0   \n",
       "4610            1.0          0.0              1.0               0.0   \n",
       "2443            0.0          1.0              1.0               0.0   \n",
       "5022            1.0          0.0              1.0               0.0   \n",
       "\n",
       "      work_type_Govt_job  work_type_Never_worked  work_type_Private  \\\n",
       "3049                 1.0                     0.0                0.0   \n",
       "2349                 0.0                     0.0                1.0   \n",
       "3000                 0.0                     0.0                1.0   \n",
       "5003                 0.0                     0.0                1.0   \n",
       "733                  0.0                     0.0                0.0   \n",
       "...                  ...                     ...                ...   \n",
       "1707                 0.0                     0.0                1.0   \n",
       "537                  0.0                     0.0                0.0   \n",
       "4610                 1.0                     0.0                0.0   \n",
       "2443                 0.0                     0.0                0.0   \n",
       "5022                 0.0                     0.0                1.0   \n",
       "\n",
       "      work_type_Self-employed  work_type_children  Residence_type_Rural  \\\n",
       "3049                      0.0                 0.0                   0.0   \n",
       "2349                      0.0                 0.0                   1.0   \n",
       "3000                      0.0                 0.0                   0.0   \n",
       "5003                      0.0                 0.0                   0.0   \n",
       "733                       0.0                 1.0                   0.0   \n",
       "...                       ...                 ...                   ...   \n",
       "1707                      0.0                 0.0                   0.0   \n",
       "537                       1.0                 0.0                   0.0   \n",
       "4610                      0.0                 0.0                   0.0   \n",
       "2443                      0.0                 1.0                   1.0   \n",
       "5022                      0.0                 0.0                   1.0   \n",
       "\n",
       "      Residence_type_Urban  smoking_status_Unknown  \\\n",
       "3049                   1.0                     0.0   \n",
       "2349                   0.0                     0.0   \n",
       "3000                   1.0                     0.0   \n",
       "5003                   1.0                     1.0   \n",
       "733                    1.0                     1.0   \n",
       "...                    ...                     ...   \n",
       "1707                   1.0                     1.0   \n",
       "537                    1.0                     1.0   \n",
       "4610                   1.0                     0.0   \n",
       "2443                   0.0                     1.0   \n",
       "5022                   0.0                     1.0   \n",
       "\n",
       "      smoking_status_formerly smoked  smoking_status_never smoked  \\\n",
       "3049                             1.0                          0.0   \n",
       "2349                             0.0                          1.0   \n",
       "3000                             1.0                          0.0   \n",
       "5003                             0.0                          0.0   \n",
       "733                              0.0                          0.0   \n",
       "...                              ...                          ...   \n",
       "1707                             0.0                          0.0   \n",
       "537                              0.0                          0.0   \n",
       "4610                             0.0                          0.0   \n",
       "2443                             0.0                          0.0   \n",
       "5022                             0.0                          0.0   \n",
       "\n",
       "      smoking_status_smokes  \n",
       "3049                    0.0  \n",
       "2349                    0.0  \n",
       "3000                    0.0  \n",
       "5003                    0.0  \n",
       "733                     0.0  \n",
       "...                     ...  \n",
       "1707                    0.0  \n",
       "537                     0.0  \n",
       "4610                    1.0  \n",
       "2443                    0.0  \n",
       "5022                    0.0  \n",
       "\n",
       "[1533 rows x 20 columns]"
      ]
     },
     "execution_count": 63,
     "metadata": {},
     "output_type": "execute_result"
    }
   ],
   "source": [
    "x_test_concat = pd.concat([imputed_data, data_ohe], axis=1)\n",
    "\n",
    "x_test_concat"
   ]
  },
  {
   "cell_type": "code",
   "execution_count": 64,
   "id": "eabf2f9d",
   "metadata": {},
   "outputs": [],
   "source": [
    "from sklearn.preprocessing import StandardScaler\n",
    "\n",
    "# Buat Scaler\n",
    "scaler = StandardScaler()\n",
    "\n",
    "# Fit Scaler\n",
    "scaler.fit(x_test_concat)\n",
    "\n",
    "# Transform Data\n",
    "x_test_scaled = scaler.transform(x_test_concat)\n",
    "x_test_scaled = pd.DataFrame(x_test_scaled, \n",
    "                              columns = x_test_concat.columns,\n",
    "                              index = x_test_concat.index)"
   ]
  },
  {
   "cell_type": "code",
   "execution_count": 65,
   "id": "58459ad0",
   "metadata": {},
   "outputs": [
    {
     "data": {
      "text/html": [
       "<div>\n",
       "<style scoped>\n",
       "    .dataframe tbody tr th:only-of-type {\n",
       "        vertical-align: middle;\n",
       "    }\n",
       "\n",
       "    .dataframe tbody tr th {\n",
       "        vertical-align: top;\n",
       "    }\n",
       "\n",
       "    .dataframe thead th {\n",
       "        text-align: right;\n",
       "    }\n",
       "</style>\n",
       "<table border=\"1\" class=\"dataframe\">\n",
       "  <thead>\n",
       "    <tr style=\"text-align: right;\">\n",
       "      <th></th>\n",
       "      <th>age</th>\n",
       "      <th>hypertension</th>\n",
       "      <th>heart_disease</th>\n",
       "      <th>avg_glucose_level</th>\n",
       "      <th>bmi</th>\n",
       "      <th>gender_Female</th>\n",
       "      <th>gender_Male</th>\n",
       "      <th>ever_married_No</th>\n",
       "      <th>ever_married_Yes</th>\n",
       "      <th>work_type_Govt_job</th>\n",
       "      <th>work_type_Never_worked</th>\n",
       "      <th>work_type_Private</th>\n",
       "      <th>work_type_Self-employed</th>\n",
       "      <th>work_type_children</th>\n",
       "      <th>Residence_type_Rural</th>\n",
       "      <th>Residence_type_Urban</th>\n",
       "      <th>smoking_status_Unknown</th>\n",
       "      <th>smoking_status_formerly smoked</th>\n",
       "      <th>smoking_status_never smoked</th>\n",
       "      <th>smoking_status_smokes</th>\n",
       "    </tr>\n",
       "  </thead>\n",
       "  <tbody>\n",
       "    <tr>\n",
       "      <th>3049</th>\n",
       "      <td>0.378643</td>\n",
       "      <td>-0.317021</td>\n",
       "      <td>-0.252675</td>\n",
       "      <td>0.037157</td>\n",
       "      <td>1.406315</td>\n",
       "      <td>0.866025</td>\n",
       "      <td>-0.866025</td>\n",
       "      <td>-0.727970</td>\n",
       "      <td>0.727970</td>\n",
       "      <td>2.658650</td>\n",
       "      <td>-0.067729</td>\n",
       "      <td>-1.134927</td>\n",
       "      <td>-0.452978</td>\n",
       "      <td>-0.400605</td>\n",
       "      <td>-0.990263</td>\n",
       "      <td>0.990263</td>\n",
       "      <td>-0.685419</td>\n",
       "      <td>2.197475</td>\n",
       "      <td>-0.758643</td>\n",
       "      <td>-0.409335</td>\n",
       "    </tr>\n",
       "    <tr>\n",
       "      <th>2349</th>\n",
       "      <td>0.157856</td>\n",
       "      <td>-0.317021</td>\n",
       "      <td>-0.252675</td>\n",
       "      <td>0.054176</td>\n",
       "      <td>-0.684511</td>\n",
       "      <td>-1.154701</td>\n",
       "      <td>1.154701</td>\n",
       "      <td>1.373683</td>\n",
       "      <td>-1.373683</td>\n",
       "      <td>-0.376131</td>\n",
       "      <td>-0.067729</td>\n",
       "      <td>0.881114</td>\n",
       "      <td>-0.452978</td>\n",
       "      <td>-0.400605</td>\n",
       "      <td>1.009833</td>\n",
       "      <td>-1.009833</td>\n",
       "      <td>-0.685419</td>\n",
       "      <td>-0.455068</td>\n",
       "      <td>1.318143</td>\n",
       "      <td>-0.409335</td>\n",
       "    </tr>\n",
       "    <tr>\n",
       "      <th>3000</th>\n",
       "      <td>-0.769450</td>\n",
       "      <td>-0.317021</td>\n",
       "      <td>-0.252675</td>\n",
       "      <td>-0.419115</td>\n",
       "      <td>-0.397535</td>\n",
       "      <td>-1.154701</td>\n",
       "      <td>1.154701</td>\n",
       "      <td>-0.727970</td>\n",
       "      <td>0.727970</td>\n",
       "      <td>-0.376131</td>\n",
       "      <td>-0.067729</td>\n",
       "      <td>0.881114</td>\n",
       "      <td>-0.452978</td>\n",
       "      <td>-0.400605</td>\n",
       "      <td>-0.990263</td>\n",
       "      <td>0.990263</td>\n",
       "      <td>-0.685419</td>\n",
       "      <td>2.197475</td>\n",
       "      <td>-0.758643</td>\n",
       "      <td>-0.409335</td>\n",
       "    </tr>\n",
       "    <tr>\n",
       "      <th>5003</th>\n",
       "      <td>-1.166866</td>\n",
       "      <td>-0.317021</td>\n",
       "      <td>-0.252675</td>\n",
       "      <td>-0.977067</td>\n",
       "      <td>1.556635</td>\n",
       "      <td>-1.154701</td>\n",
       "      <td>1.154701</td>\n",
       "      <td>1.373683</td>\n",
       "      <td>-1.373683</td>\n",
       "      <td>-0.376131</td>\n",
       "      <td>-0.067729</td>\n",
       "      <td>0.881114</td>\n",
       "      <td>-0.452978</td>\n",
       "      <td>-0.400605</td>\n",
       "      <td>-0.990263</td>\n",
       "      <td>0.990263</td>\n",
       "      <td>1.458962</td>\n",
       "      <td>-0.455068</td>\n",
       "      <td>-0.758643</td>\n",
       "      <td>-0.409335</td>\n",
       "    </tr>\n",
       "    <tr>\n",
       "      <th>733</th>\n",
       "      <td>-1.652598</td>\n",
       "      <td>-0.317021</td>\n",
       "      <td>-0.252675</td>\n",
       "      <td>-0.815498</td>\n",
       "      <td>-1.162804</td>\n",
       "      <td>-1.154701</td>\n",
       "      <td>1.154701</td>\n",
       "      <td>1.373683</td>\n",
       "      <td>-1.373683</td>\n",
       "      <td>-0.376131</td>\n",
       "      <td>-0.067729</td>\n",
       "      <td>-1.134927</td>\n",
       "      <td>-0.452978</td>\n",
       "      <td>2.496224</td>\n",
       "      <td>-0.990263</td>\n",
       "      <td>0.990263</td>\n",
       "      <td>1.458962</td>\n",
       "      <td>-0.455068</td>\n",
       "      <td>-0.758643</td>\n",
       "      <td>-0.409335</td>\n",
       "    </tr>\n",
       "    <tr>\n",
       "      <th>...</th>\n",
       "      <td>...</td>\n",
       "      <td>...</td>\n",
       "      <td>...</td>\n",
       "      <td>...</td>\n",
       "      <td>...</td>\n",
       "      <td>...</td>\n",
       "      <td>...</td>\n",
       "      <td>...</td>\n",
       "      <td>...</td>\n",
       "      <td>...</td>\n",
       "      <td>...</td>\n",
       "      <td>...</td>\n",
       "      <td>...</td>\n",
       "      <td>...</td>\n",
       "      <td>...</td>\n",
       "      <td>...</td>\n",
       "      <td>...</td>\n",
       "      <td>...</td>\n",
       "      <td>...</td>\n",
       "      <td>...</td>\n",
       "    </tr>\n",
       "    <tr>\n",
       "      <th>1707</th>\n",
       "      <td>-0.901922</td>\n",
       "      <td>-0.317021</td>\n",
       "      <td>-0.252675</td>\n",
       "      <td>0.341769</td>\n",
       "      <td>0.627380</td>\n",
       "      <td>0.866025</td>\n",
       "      <td>-0.866025</td>\n",
       "      <td>1.373683</td>\n",
       "      <td>-1.373683</td>\n",
       "      <td>-0.376131</td>\n",
       "      <td>-0.067729</td>\n",
       "      <td>0.881114</td>\n",
       "      <td>-0.452978</td>\n",
       "      <td>-0.400605</td>\n",
       "      <td>-0.990263</td>\n",
       "      <td>0.990263</td>\n",
       "      <td>1.458962</td>\n",
       "      <td>-0.455068</td>\n",
       "      <td>-0.758643</td>\n",
       "      <td>-0.409335</td>\n",
       "    </tr>\n",
       "    <tr>\n",
       "      <th>537</th>\n",
       "      <td>0.952689</td>\n",
       "      <td>-0.317021</td>\n",
       "      <td>-0.252675</td>\n",
       "      <td>-0.065170</td>\n",
       "      <td>-0.124224</td>\n",
       "      <td>-1.154701</td>\n",
       "      <td>1.154701</td>\n",
       "      <td>-0.727970</td>\n",
       "      <td>0.727970</td>\n",
       "      <td>-0.376131</td>\n",
       "      <td>-0.067729</td>\n",
       "      <td>-1.134927</td>\n",
       "      <td>2.207615</td>\n",
       "      <td>-0.400605</td>\n",
       "      <td>-0.990263</td>\n",
       "      <td>0.990263</td>\n",
       "      <td>1.458962</td>\n",
       "      <td>-0.455068</td>\n",
       "      <td>-0.758643</td>\n",
       "      <td>-0.409335</td>\n",
       "    </tr>\n",
       "    <tr>\n",
       "      <th>4610</th>\n",
       "      <td>-0.769450</td>\n",
       "      <td>-0.317021</td>\n",
       "      <td>-0.252675</td>\n",
       "      <td>-1.054836</td>\n",
       "      <td>-0.588852</td>\n",
       "      <td>0.866025</td>\n",
       "      <td>-0.866025</td>\n",
       "      <td>1.373683</td>\n",
       "      <td>-1.373683</td>\n",
       "      <td>2.658650</td>\n",
       "      <td>-0.067729</td>\n",
       "      <td>-1.134927</td>\n",
       "      <td>-0.452978</td>\n",
       "      <td>-0.400605</td>\n",
       "      <td>-0.990263</td>\n",
       "      <td>0.990263</td>\n",
       "      <td>-0.685419</td>\n",
       "      <td>-0.455068</td>\n",
       "      <td>-0.758643</td>\n",
       "      <td>2.442986</td>\n",
       "    </tr>\n",
       "    <tr>\n",
       "      <th>2443</th>\n",
       "      <td>-1.343496</td>\n",
       "      <td>-0.317021</td>\n",
       "      <td>-0.252675</td>\n",
       "      <td>0.172444</td>\n",
       "      <td>-0.670845</td>\n",
       "      <td>-1.154701</td>\n",
       "      <td>1.154701</td>\n",
       "      <td>1.373683</td>\n",
       "      <td>-1.373683</td>\n",
       "      <td>-0.376131</td>\n",
       "      <td>-0.067729</td>\n",
       "      <td>-1.134927</td>\n",
       "      <td>-0.452978</td>\n",
       "      <td>2.496224</td>\n",
       "      <td>1.009833</td>\n",
       "      <td>-1.009833</td>\n",
       "      <td>1.458962</td>\n",
       "      <td>-0.455068</td>\n",
       "      <td>-0.758643</td>\n",
       "      <td>-0.409335</td>\n",
       "    </tr>\n",
       "    <tr>\n",
       "      <th>5022</th>\n",
       "      <td>-0.151246</td>\n",
       "      <td>-0.317021</td>\n",
       "      <td>-0.252675</td>\n",
       "      <td>-0.195072</td>\n",
       "      <td>-0.643514</td>\n",
       "      <td>0.866025</td>\n",
       "      <td>-0.866025</td>\n",
       "      <td>1.373683</td>\n",
       "      <td>-1.373683</td>\n",
       "      <td>-0.376131</td>\n",
       "      <td>-0.067729</td>\n",
       "      <td>0.881114</td>\n",
       "      <td>-0.452978</td>\n",
       "      <td>-0.400605</td>\n",
       "      <td>1.009833</td>\n",
       "      <td>-1.009833</td>\n",
       "      <td>1.458962</td>\n",
       "      <td>-0.455068</td>\n",
       "      <td>-0.758643</td>\n",
       "      <td>-0.409335</td>\n",
       "    </tr>\n",
       "  </tbody>\n",
       "</table>\n",
       "<p>1533 rows × 20 columns</p>\n",
       "</div>"
      ],
      "text/plain": [
       "           age  hypertension  heart_disease  avg_glucose_level       bmi  \\\n",
       "3049  0.378643     -0.317021      -0.252675           0.037157  1.406315   \n",
       "2349  0.157856     -0.317021      -0.252675           0.054176 -0.684511   \n",
       "3000 -0.769450     -0.317021      -0.252675          -0.419115 -0.397535   \n",
       "5003 -1.166866     -0.317021      -0.252675          -0.977067  1.556635   \n",
       "733  -1.652598     -0.317021      -0.252675          -0.815498 -1.162804   \n",
       "...        ...           ...            ...                ...       ...   \n",
       "1707 -0.901922     -0.317021      -0.252675           0.341769  0.627380   \n",
       "537   0.952689     -0.317021      -0.252675          -0.065170 -0.124224   \n",
       "4610 -0.769450     -0.317021      -0.252675          -1.054836 -0.588852   \n",
       "2443 -1.343496     -0.317021      -0.252675           0.172444 -0.670845   \n",
       "5022 -0.151246     -0.317021      -0.252675          -0.195072 -0.643514   \n",
       "\n",
       "      gender_Female  gender_Male  ever_married_No  ever_married_Yes  \\\n",
       "3049       0.866025    -0.866025        -0.727970          0.727970   \n",
       "2349      -1.154701     1.154701         1.373683         -1.373683   \n",
       "3000      -1.154701     1.154701        -0.727970          0.727970   \n",
       "5003      -1.154701     1.154701         1.373683         -1.373683   \n",
       "733       -1.154701     1.154701         1.373683         -1.373683   \n",
       "...             ...          ...              ...               ...   \n",
       "1707       0.866025    -0.866025         1.373683         -1.373683   \n",
       "537       -1.154701     1.154701        -0.727970          0.727970   \n",
       "4610       0.866025    -0.866025         1.373683         -1.373683   \n",
       "2443      -1.154701     1.154701         1.373683         -1.373683   \n",
       "5022       0.866025    -0.866025         1.373683         -1.373683   \n",
       "\n",
       "      work_type_Govt_job  work_type_Never_worked  work_type_Private  \\\n",
       "3049            2.658650               -0.067729          -1.134927   \n",
       "2349           -0.376131               -0.067729           0.881114   \n",
       "3000           -0.376131               -0.067729           0.881114   \n",
       "5003           -0.376131               -0.067729           0.881114   \n",
       "733            -0.376131               -0.067729          -1.134927   \n",
       "...                  ...                     ...                ...   \n",
       "1707           -0.376131               -0.067729           0.881114   \n",
       "537            -0.376131               -0.067729          -1.134927   \n",
       "4610            2.658650               -0.067729          -1.134927   \n",
       "2443           -0.376131               -0.067729          -1.134927   \n",
       "5022           -0.376131               -0.067729           0.881114   \n",
       "\n",
       "      work_type_Self-employed  work_type_children  Residence_type_Rural  \\\n",
       "3049                -0.452978           -0.400605             -0.990263   \n",
       "2349                -0.452978           -0.400605              1.009833   \n",
       "3000                -0.452978           -0.400605             -0.990263   \n",
       "5003                -0.452978           -0.400605             -0.990263   \n",
       "733                 -0.452978            2.496224             -0.990263   \n",
       "...                       ...                 ...                   ...   \n",
       "1707                -0.452978           -0.400605             -0.990263   \n",
       "537                  2.207615           -0.400605             -0.990263   \n",
       "4610                -0.452978           -0.400605             -0.990263   \n",
       "2443                -0.452978            2.496224              1.009833   \n",
       "5022                -0.452978           -0.400605              1.009833   \n",
       "\n",
       "      Residence_type_Urban  smoking_status_Unknown  \\\n",
       "3049              0.990263               -0.685419   \n",
       "2349             -1.009833               -0.685419   \n",
       "3000              0.990263               -0.685419   \n",
       "5003              0.990263                1.458962   \n",
       "733               0.990263                1.458962   \n",
       "...                    ...                     ...   \n",
       "1707              0.990263                1.458962   \n",
       "537               0.990263                1.458962   \n",
       "4610              0.990263               -0.685419   \n",
       "2443             -1.009833                1.458962   \n",
       "5022             -1.009833                1.458962   \n",
       "\n",
       "      smoking_status_formerly smoked  smoking_status_never smoked  \\\n",
       "3049                        2.197475                    -0.758643   \n",
       "2349                       -0.455068                     1.318143   \n",
       "3000                        2.197475                    -0.758643   \n",
       "5003                       -0.455068                    -0.758643   \n",
       "733                        -0.455068                    -0.758643   \n",
       "...                              ...                          ...   \n",
       "1707                       -0.455068                    -0.758643   \n",
       "537                        -0.455068                    -0.758643   \n",
       "4610                       -0.455068                    -0.758643   \n",
       "2443                       -0.455068                    -0.758643   \n",
       "5022                       -0.455068                    -0.758643   \n",
       "\n",
       "      smoking_status_smokes  \n",
       "3049              -0.409335  \n",
       "2349              -0.409335  \n",
       "3000              -0.409335  \n",
       "5003              -0.409335  \n",
       "733               -0.409335  \n",
       "...                     ...  \n",
       "1707              -0.409335  \n",
       "537               -0.409335  \n",
       "4610               2.442986  \n",
       "2443              -0.409335  \n",
       "5022              -0.409335  \n",
       "\n",
       "[1533 rows x 20 columns]"
      ]
     },
     "execution_count": 65,
     "metadata": {},
     "output_type": "execute_result"
    }
   ],
   "source": [
    "x_test_scaled"
   ]
  },
  {
   "cell_type": "markdown",
   "id": "a67d1e95",
   "metadata": {},
   "source": [
    "## 3.7 Check Data Train & Data Test"
   ]
  },
  {
   "cell_type": "code",
   "execution_count": 66,
   "id": "377ea9df",
   "metadata": {},
   "outputs": [
    {
     "name": "stdout",
     "output_type": "stream",
     "text": [
      "<class 'pandas.core.frame.DataFrame'>\n",
      "Int64Index: 3576 entries, 855 to 2049\n",
      "Data columns (total 20 columns):\n",
      " #   Column                          Non-Null Count  Dtype  \n",
      "---  ------                          --------------  -----  \n",
      " 0   age                             3576 non-null   float64\n",
      " 1   hypertension                    3576 non-null   float64\n",
      " 2   heart_disease                   3576 non-null   float64\n",
      " 3   avg_glucose_level               3576 non-null   float64\n",
      " 4   bmi                             3576 non-null   float64\n",
      " 5   gender_Female                   3576 non-null   float64\n",
      " 6   gender_Male                     3576 non-null   float64\n",
      " 7   ever_married_No                 3576 non-null   float64\n",
      " 8   ever_married_Yes                3576 non-null   float64\n",
      " 9   work_type_Govt_job              3576 non-null   float64\n",
      " 10  work_type_Never_worked          3576 non-null   float64\n",
      " 11  work_type_Private               3576 non-null   float64\n",
      " 12  work_type_Self-employed         3576 non-null   float64\n",
      " 13  work_type_children              3576 non-null   float64\n",
      " 14  Residence_type_Rural            3576 non-null   float64\n",
      " 15  Residence_type_Urban            3576 non-null   float64\n",
      " 16  smoking_status_Unknown          3576 non-null   float64\n",
      " 17  smoking_status_formerly smoked  3576 non-null   float64\n",
      " 18  smoking_status_never smoked     3576 non-null   float64\n",
      " 19  smoking_status_smokes           3576 non-null   float64\n",
      "dtypes: float64(20)\n",
      "memory usage: 586.7 KB\n"
     ]
    }
   ],
   "source": [
    "x_train_scaled.info()"
   ]
  },
  {
   "cell_type": "code",
   "execution_count": 67,
   "id": "9ba50b43",
   "metadata": {},
   "outputs": [
    {
     "name": "stdout",
     "output_type": "stream",
     "text": [
      "<class 'pandas.core.frame.DataFrame'>\n",
      "Int64Index: 1533 entries, 3049 to 5022\n",
      "Data columns (total 20 columns):\n",
      " #   Column                          Non-Null Count  Dtype  \n",
      "---  ------                          --------------  -----  \n",
      " 0   age                             1533 non-null   float64\n",
      " 1   hypertension                    1533 non-null   float64\n",
      " 2   heart_disease                   1533 non-null   float64\n",
      " 3   avg_glucose_level               1533 non-null   float64\n",
      " 4   bmi                             1533 non-null   float64\n",
      " 5   gender_Female                   1533 non-null   float64\n",
      " 6   gender_Male                     1533 non-null   float64\n",
      " 7   ever_married_No                 1533 non-null   float64\n",
      " 8   ever_married_Yes                1533 non-null   float64\n",
      " 9   work_type_Govt_job              1533 non-null   float64\n",
      " 10  work_type_Never_worked          1533 non-null   float64\n",
      " 11  work_type_Private               1533 non-null   float64\n",
      " 12  work_type_Self-employed         1533 non-null   float64\n",
      " 13  work_type_children              1533 non-null   float64\n",
      " 14  Residence_type_Rural            1533 non-null   float64\n",
      " 15  Residence_type_Urban            1533 non-null   float64\n",
      " 16  smoking_status_Unknown          1533 non-null   float64\n",
      " 17  smoking_status_formerly smoked  1533 non-null   float64\n",
      " 18  smoking_status_never smoked     1533 non-null   float64\n",
      " 19  smoking_status_smokes           1533 non-null   float64\n",
      "dtypes: float64(20)\n",
      "memory usage: 251.5 KB\n"
     ]
    }
   ],
   "source": [
    "x_test_scaled.info()"
   ]
  },
  {
   "cell_type": "markdown",
   "id": "6042f227",
   "metadata": {},
   "source": [
    "## 3.8 Balancing Label"
   ]
  },
  {
   "cell_type": "code",
   "execution_count": 68,
   "id": "30605458",
   "metadata": {},
   "outputs": [
    {
     "data": {
      "text/plain": [
       "0    3402\n",
       "1     174\n",
       "Name: stroke, dtype: int64"
      ]
     },
     "execution_count": 68,
     "metadata": {},
     "output_type": "execute_result"
    }
   ],
   "source": [
    "y_train.value_counts()"
   ]
  },
  {
   "cell_type": "code",
   "execution_count": 69,
   "id": "c07a04e6",
   "metadata": {},
   "outputs": [
    {
     "name": "stdout",
     "output_type": "stream",
     "text": [
      "Before OverSampling, counts of label '1': 174\n",
      "Before OverSampling, counts of label '0': 3402 \n",
      "\n"
     ]
    }
   ],
   "source": [
    "print(\"Before OverSampling, counts of label '1': {}\".format(sum(y_train == 1)))\n",
    "print(\"Before OverSampling, counts of label '0': {} \\n\".format(sum(y_train == 0)))"
   ]
  },
  {
   "cell_type": "code",
   "execution_count": 70,
   "id": "f689388b",
   "metadata": {},
   "outputs": [],
   "source": [
    "from imblearn.over_sampling import SMOTE\n",
    "\n",
    "smote = SMOTE(random_state=12345)\n",
    "x_train_res, y_train_res = smote.fit_resample(x_train_scaled, y_train.ravel())"
   ]
  },
  {
   "cell_type": "code",
   "execution_count": 71,
   "id": "1ea35e79",
   "metadata": {},
   "outputs": [
    {
     "name": "stdout",
     "output_type": "stream",
     "text": [
      "After OverSampling, the shape of train_x: (6804, 20)\n",
      "After OverSampling, the shape of train_y: (6804,) \n",
      "\n",
      "After OverSampling, counts of label '1': 3402\n",
      "After OverSampling, counts of label '0': 3402\n"
     ]
    }
   ],
   "source": [
    "print('After OverSampling, the shape of train_x: {}'.format(x_train_res.shape))\n",
    "print('After OverSampling, the shape of train_y: {} \\n'.format(y_train_res.shape))\n",
    "  \n",
    "print(\"After OverSampling, counts of label '1': {}\".format(sum(y_train_res == 1)))\n",
    "print(\"After OverSampling, counts of label '0': {}\".format(sum(y_train_res == 0)))"
   ]
  },
  {
   "cell_type": "markdown",
   "id": "a9fd1b39",
   "metadata": {},
   "source": [
    "# 4. Training Machine Learning"
   ]
  },
  {
   "cell_type": "markdown",
   "id": "36817c55",
   "metadata": {},
   "source": [
    "## 4.1 Dataset yang digunakan untuk modeling"
   ]
  },
  {
   "cell_type": "markdown",
   "id": "fc2557cd",
   "metadata": {},
   "source": [
    "### 1. Untuk Training"
   ]
  },
  {
   "cell_type": "code",
   "execution_count": 72,
   "id": "224901fc",
   "metadata": {},
   "outputs": [
    {
     "data": {
      "text/plain": [
       "(6804, 20)"
      ]
     },
     "execution_count": 72,
     "metadata": {},
     "output_type": "execute_result"
    }
   ],
   "source": [
    "x_train = x_train_res\n",
    "x_train.shape"
   ]
  },
  {
   "cell_type": "code",
   "execution_count": 73,
   "id": "d9c642f9-f2c7-4c17-b7ce-826093f852dc",
   "metadata": {},
   "outputs": [
    {
     "data": {
      "text/html": [
       "<div>\n",
       "<style scoped>\n",
       "    .dataframe tbody tr th:only-of-type {\n",
       "        vertical-align: middle;\n",
       "    }\n",
       "\n",
       "    .dataframe tbody tr th {\n",
       "        vertical-align: top;\n",
       "    }\n",
       "\n",
       "    .dataframe thead th {\n",
       "        text-align: right;\n",
       "    }\n",
       "</style>\n",
       "<table border=\"1\" class=\"dataframe\">\n",
       "  <thead>\n",
       "    <tr style=\"text-align: right;\">\n",
       "      <th></th>\n",
       "      <th>age</th>\n",
       "      <th>hypertension</th>\n",
       "      <th>heart_disease</th>\n",
       "      <th>avg_glucose_level</th>\n",
       "      <th>bmi</th>\n",
       "      <th>gender_Female</th>\n",
       "      <th>gender_Male</th>\n",
       "      <th>ever_married_No</th>\n",
       "      <th>ever_married_Yes</th>\n",
       "      <th>work_type_Govt_job</th>\n",
       "      <th>work_type_Never_worked</th>\n",
       "      <th>work_type_Private</th>\n",
       "      <th>work_type_Self-employed</th>\n",
       "      <th>work_type_children</th>\n",
       "      <th>Residence_type_Rural</th>\n",
       "      <th>Residence_type_Urban</th>\n",
       "      <th>smoking_status_Unknown</th>\n",
       "      <th>smoking_status_formerly smoked</th>\n",
       "      <th>smoking_status_never smoked</th>\n",
       "      <th>smoking_status_smokes</th>\n",
       "    </tr>\n",
       "  </thead>\n",
       "  <tbody>\n",
       "    <tr>\n",
       "      <th>0</th>\n",
       "      <td>-0.493290</td>\n",
       "      <td>-0.33354</td>\n",
       "      <td>-0.232906</td>\n",
       "      <td>-0.292594</td>\n",
       "      <td>-0.163632</td>\n",
       "      <td>0.82969</td>\n",
       "      <td>-0.82969</td>\n",
       "      <td>-0.721841</td>\n",
       "      <td>0.721841</td>\n",
       "      <td>-0.387568</td>\n",
       "      <td>-0.064902</td>\n",
       "      <td>0.857368</td>\n",
       "      <td>-0.429989</td>\n",
       "      <td>-0.391378</td>\n",
       "      <td>1.019200</td>\n",
       "      <td>-1.019200</td>\n",
       "      <td>-0.646469</td>\n",
       "      <td>-0.458424</td>\n",
       "      <td>-0.770443</td>\n",
       "      <td>2.29885</td>\n",
       "    </tr>\n",
       "    <tr>\n",
       "      <th>1</th>\n",
       "      <td>-1.776710</td>\n",
       "      <td>-0.33354</td>\n",
       "      <td>-0.232906</td>\n",
       "      <td>-0.244763</td>\n",
       "      <td>-0.952754</td>\n",
       "      <td>0.82969</td>\n",
       "      <td>-0.82969</td>\n",
       "      <td>1.385346</td>\n",
       "      <td>-1.385346</td>\n",
       "      <td>-0.387568</td>\n",
       "      <td>-0.064902</td>\n",
       "      <td>-1.166360</td>\n",
       "      <td>-0.429989</td>\n",
       "      <td>2.555078</td>\n",
       "      <td>1.019200</td>\n",
       "      <td>-1.019200</td>\n",
       "      <td>1.546864</td>\n",
       "      <td>-0.458424</td>\n",
       "      <td>-0.770443</td>\n",
       "      <td>-0.43500</td>\n",
       "    </tr>\n",
       "    <tr>\n",
       "      <th>2</th>\n",
       "      <td>-0.094987</td>\n",
       "      <td>-0.33354</td>\n",
       "      <td>-0.232906</td>\n",
       "      <td>-0.289018</td>\n",
       "      <td>0.090924</td>\n",
       "      <td>0.82969</td>\n",
       "      <td>-0.82969</td>\n",
       "      <td>-0.721841</td>\n",
       "      <td>0.721841</td>\n",
       "      <td>-0.387568</td>\n",
       "      <td>-0.064902</td>\n",
       "      <td>0.857368</td>\n",
       "      <td>-0.429989</td>\n",
       "      <td>-0.391378</td>\n",
       "      <td>-0.981162</td>\n",
       "      <td>0.981162</td>\n",
       "      <td>-0.646469</td>\n",
       "      <td>2.181388</td>\n",
       "      <td>-0.770443</td>\n",
       "      <td>-0.43500</td>\n",
       "    </tr>\n",
       "    <tr>\n",
       "      <th>3</th>\n",
       "      <td>-1.861682</td>\n",
       "      <td>-0.33354</td>\n",
       "      <td>-0.232906</td>\n",
       "      <td>1.214085</td>\n",
       "      <td>-2.047344</td>\n",
       "      <td>0.82969</td>\n",
       "      <td>-0.82969</td>\n",
       "      <td>1.385346</td>\n",
       "      <td>-1.385346</td>\n",
       "      <td>-0.387568</td>\n",
       "      <td>-0.064902</td>\n",
       "      <td>-1.166360</td>\n",
       "      <td>-0.429989</td>\n",
       "      <td>2.555078</td>\n",
       "      <td>-0.981162</td>\n",
       "      <td>0.981162</td>\n",
       "      <td>1.546864</td>\n",
       "      <td>-0.458424</td>\n",
       "      <td>-0.770443</td>\n",
       "      <td>-0.43500</td>\n",
       "    </tr>\n",
       "    <tr>\n",
       "      <th>4</th>\n",
       "      <td>-0.404778</td>\n",
       "      <td>-0.33354</td>\n",
       "      <td>-0.232906</td>\n",
       "      <td>-0.130550</td>\n",
       "      <td>-0.099993</td>\n",
       "      <td>-1.20527</td>\n",
       "      <td>1.20527</td>\n",
       "      <td>-0.721841</td>\n",
       "      <td>0.721841</td>\n",
       "      <td>-0.387568</td>\n",
       "      <td>-0.064902</td>\n",
       "      <td>0.857368</td>\n",
       "      <td>-0.429989</td>\n",
       "      <td>-0.391378</td>\n",
       "      <td>-0.981162</td>\n",
       "      <td>0.981162</td>\n",
       "      <td>-0.646469</td>\n",
       "      <td>-0.458424</td>\n",
       "      <td>-0.770443</td>\n",
       "      <td>2.29885</td>\n",
       "    </tr>\n",
       "  </tbody>\n",
       "</table>\n",
       "</div>"
      ],
      "text/plain": [
       "        age  hypertension  heart_disease  avg_glucose_level       bmi  \\\n",
       "0 -0.493290      -0.33354      -0.232906          -0.292594 -0.163632   \n",
       "1 -1.776710      -0.33354      -0.232906          -0.244763 -0.952754   \n",
       "2 -0.094987      -0.33354      -0.232906          -0.289018  0.090924   \n",
       "3 -1.861682      -0.33354      -0.232906           1.214085 -2.047344   \n",
       "4 -0.404778      -0.33354      -0.232906          -0.130550 -0.099993   \n",
       "\n",
       "   gender_Female  gender_Male  ever_married_No  ever_married_Yes  \\\n",
       "0        0.82969     -0.82969        -0.721841          0.721841   \n",
       "1        0.82969     -0.82969         1.385346         -1.385346   \n",
       "2        0.82969     -0.82969        -0.721841          0.721841   \n",
       "3        0.82969     -0.82969         1.385346         -1.385346   \n",
       "4       -1.20527      1.20527        -0.721841          0.721841   \n",
       "\n",
       "   work_type_Govt_job  work_type_Never_worked  work_type_Private  \\\n",
       "0           -0.387568               -0.064902           0.857368   \n",
       "1           -0.387568               -0.064902          -1.166360   \n",
       "2           -0.387568               -0.064902           0.857368   \n",
       "3           -0.387568               -0.064902          -1.166360   \n",
       "4           -0.387568               -0.064902           0.857368   \n",
       "\n",
       "   work_type_Self-employed  work_type_children  Residence_type_Rural  \\\n",
       "0                -0.429989           -0.391378              1.019200   \n",
       "1                -0.429989            2.555078              1.019200   \n",
       "2                -0.429989           -0.391378             -0.981162   \n",
       "3                -0.429989            2.555078             -0.981162   \n",
       "4                -0.429989           -0.391378             -0.981162   \n",
       "\n",
       "   Residence_type_Urban  smoking_status_Unknown  \\\n",
       "0             -1.019200               -0.646469   \n",
       "1             -1.019200                1.546864   \n",
       "2              0.981162               -0.646469   \n",
       "3              0.981162                1.546864   \n",
       "4              0.981162               -0.646469   \n",
       "\n",
       "   smoking_status_formerly smoked  smoking_status_never smoked  \\\n",
       "0                       -0.458424                    -0.770443   \n",
       "1                       -0.458424                    -0.770443   \n",
       "2                        2.181388                    -0.770443   \n",
       "3                       -0.458424                    -0.770443   \n",
       "4                       -0.458424                    -0.770443   \n",
       "\n",
       "   smoking_status_smokes  \n",
       "0                2.29885  \n",
       "1               -0.43500  \n",
       "2               -0.43500  \n",
       "3               -0.43500  \n",
       "4                2.29885  "
      ]
     },
     "execution_count": 73,
     "metadata": {},
     "output_type": "execute_result"
    }
   ],
   "source": [
    "x_train.head()"
   ]
  },
  {
   "cell_type": "code",
   "execution_count": 74,
   "id": "46ae9ff8",
   "metadata": {},
   "outputs": [
    {
     "data": {
      "text/plain": [
       "(6804,)"
      ]
     },
     "execution_count": 74,
     "metadata": {},
     "output_type": "execute_result"
    }
   ],
   "source": [
    "y_train = y_train_res\n",
    "y_train.shape"
   ]
  },
  {
   "cell_type": "code",
   "execution_count": 75,
   "id": "5a08ca00-7fcc-4729-8b79-c2d996b9936e",
   "metadata": {},
   "outputs": [
    {
     "data": {
      "text/plain": [
       "array([0, 0, 0, ..., 1, 1, 1], dtype=int64)"
      ]
     },
     "execution_count": 75,
     "metadata": {},
     "output_type": "execute_result"
    }
   ],
   "source": [
    "y_train"
   ]
  },
  {
   "cell_type": "markdown",
   "id": "29989777",
   "metadata": {},
   "source": [
    "### 2. Untuk Test"
   ]
  },
  {
   "cell_type": "code",
   "execution_count": 76,
   "id": "3706ec5a",
   "metadata": {},
   "outputs": [
    {
     "data": {
      "text/plain": [
       "(1533, 20)"
      ]
     },
     "execution_count": 76,
     "metadata": {},
     "output_type": "execute_result"
    }
   ],
   "source": [
    "x_test = x_test_scaled\n",
    "x_test.shape"
   ]
  },
  {
   "cell_type": "code",
   "execution_count": 77,
   "id": "fd4dfe7a-78af-404d-b9b6-14b6f572c32f",
   "metadata": {},
   "outputs": [
    {
     "data": {
      "text/html": [
       "<div>\n",
       "<style scoped>\n",
       "    .dataframe tbody tr th:only-of-type {\n",
       "        vertical-align: middle;\n",
       "    }\n",
       "\n",
       "    .dataframe tbody tr th {\n",
       "        vertical-align: top;\n",
       "    }\n",
       "\n",
       "    .dataframe thead th {\n",
       "        text-align: right;\n",
       "    }\n",
       "</style>\n",
       "<table border=\"1\" class=\"dataframe\">\n",
       "  <thead>\n",
       "    <tr style=\"text-align: right;\">\n",
       "      <th></th>\n",
       "      <th>age</th>\n",
       "      <th>hypertension</th>\n",
       "      <th>heart_disease</th>\n",
       "      <th>avg_glucose_level</th>\n",
       "      <th>bmi</th>\n",
       "      <th>gender_Female</th>\n",
       "      <th>gender_Male</th>\n",
       "      <th>ever_married_No</th>\n",
       "      <th>ever_married_Yes</th>\n",
       "      <th>work_type_Govt_job</th>\n",
       "      <th>work_type_Never_worked</th>\n",
       "      <th>work_type_Private</th>\n",
       "      <th>work_type_Self-employed</th>\n",
       "      <th>work_type_children</th>\n",
       "      <th>Residence_type_Rural</th>\n",
       "      <th>Residence_type_Urban</th>\n",
       "      <th>smoking_status_Unknown</th>\n",
       "      <th>smoking_status_formerly smoked</th>\n",
       "      <th>smoking_status_never smoked</th>\n",
       "      <th>smoking_status_smokes</th>\n",
       "    </tr>\n",
       "  </thead>\n",
       "  <tbody>\n",
       "    <tr>\n",
       "      <th>3049</th>\n",
       "      <td>0.378643</td>\n",
       "      <td>-0.317021</td>\n",
       "      <td>-0.252675</td>\n",
       "      <td>0.037157</td>\n",
       "      <td>1.406315</td>\n",
       "      <td>0.866025</td>\n",
       "      <td>-0.866025</td>\n",
       "      <td>-0.727970</td>\n",
       "      <td>0.727970</td>\n",
       "      <td>2.658650</td>\n",
       "      <td>-0.067729</td>\n",
       "      <td>-1.134927</td>\n",
       "      <td>-0.452978</td>\n",
       "      <td>-0.400605</td>\n",
       "      <td>-0.990263</td>\n",
       "      <td>0.990263</td>\n",
       "      <td>-0.685419</td>\n",
       "      <td>2.197475</td>\n",
       "      <td>-0.758643</td>\n",
       "      <td>-0.409335</td>\n",
       "    </tr>\n",
       "    <tr>\n",
       "      <th>2349</th>\n",
       "      <td>0.157856</td>\n",
       "      <td>-0.317021</td>\n",
       "      <td>-0.252675</td>\n",
       "      <td>0.054176</td>\n",
       "      <td>-0.684511</td>\n",
       "      <td>-1.154701</td>\n",
       "      <td>1.154701</td>\n",
       "      <td>1.373683</td>\n",
       "      <td>-1.373683</td>\n",
       "      <td>-0.376131</td>\n",
       "      <td>-0.067729</td>\n",
       "      <td>0.881114</td>\n",
       "      <td>-0.452978</td>\n",
       "      <td>-0.400605</td>\n",
       "      <td>1.009833</td>\n",
       "      <td>-1.009833</td>\n",
       "      <td>-0.685419</td>\n",
       "      <td>-0.455068</td>\n",
       "      <td>1.318143</td>\n",
       "      <td>-0.409335</td>\n",
       "    </tr>\n",
       "    <tr>\n",
       "      <th>3000</th>\n",
       "      <td>-0.769450</td>\n",
       "      <td>-0.317021</td>\n",
       "      <td>-0.252675</td>\n",
       "      <td>-0.419115</td>\n",
       "      <td>-0.397535</td>\n",
       "      <td>-1.154701</td>\n",
       "      <td>1.154701</td>\n",
       "      <td>-0.727970</td>\n",
       "      <td>0.727970</td>\n",
       "      <td>-0.376131</td>\n",
       "      <td>-0.067729</td>\n",
       "      <td>0.881114</td>\n",
       "      <td>-0.452978</td>\n",
       "      <td>-0.400605</td>\n",
       "      <td>-0.990263</td>\n",
       "      <td>0.990263</td>\n",
       "      <td>-0.685419</td>\n",
       "      <td>2.197475</td>\n",
       "      <td>-0.758643</td>\n",
       "      <td>-0.409335</td>\n",
       "    </tr>\n",
       "    <tr>\n",
       "      <th>5003</th>\n",
       "      <td>-1.166866</td>\n",
       "      <td>-0.317021</td>\n",
       "      <td>-0.252675</td>\n",
       "      <td>-0.977067</td>\n",
       "      <td>1.556635</td>\n",
       "      <td>-1.154701</td>\n",
       "      <td>1.154701</td>\n",
       "      <td>1.373683</td>\n",
       "      <td>-1.373683</td>\n",
       "      <td>-0.376131</td>\n",
       "      <td>-0.067729</td>\n",
       "      <td>0.881114</td>\n",
       "      <td>-0.452978</td>\n",
       "      <td>-0.400605</td>\n",
       "      <td>-0.990263</td>\n",
       "      <td>0.990263</td>\n",
       "      <td>1.458962</td>\n",
       "      <td>-0.455068</td>\n",
       "      <td>-0.758643</td>\n",
       "      <td>-0.409335</td>\n",
       "    </tr>\n",
       "    <tr>\n",
       "      <th>733</th>\n",
       "      <td>-1.652598</td>\n",
       "      <td>-0.317021</td>\n",
       "      <td>-0.252675</td>\n",
       "      <td>-0.815498</td>\n",
       "      <td>-1.162804</td>\n",
       "      <td>-1.154701</td>\n",
       "      <td>1.154701</td>\n",
       "      <td>1.373683</td>\n",
       "      <td>-1.373683</td>\n",
       "      <td>-0.376131</td>\n",
       "      <td>-0.067729</td>\n",
       "      <td>-1.134927</td>\n",
       "      <td>-0.452978</td>\n",
       "      <td>2.496224</td>\n",
       "      <td>-0.990263</td>\n",
       "      <td>0.990263</td>\n",
       "      <td>1.458962</td>\n",
       "      <td>-0.455068</td>\n",
       "      <td>-0.758643</td>\n",
       "      <td>-0.409335</td>\n",
       "    </tr>\n",
       "  </tbody>\n",
       "</table>\n",
       "</div>"
      ],
      "text/plain": [
       "           age  hypertension  heart_disease  avg_glucose_level       bmi  \\\n",
       "3049  0.378643     -0.317021      -0.252675           0.037157  1.406315   \n",
       "2349  0.157856     -0.317021      -0.252675           0.054176 -0.684511   \n",
       "3000 -0.769450     -0.317021      -0.252675          -0.419115 -0.397535   \n",
       "5003 -1.166866     -0.317021      -0.252675          -0.977067  1.556635   \n",
       "733  -1.652598     -0.317021      -0.252675          -0.815498 -1.162804   \n",
       "\n",
       "      gender_Female  gender_Male  ever_married_No  ever_married_Yes  \\\n",
       "3049       0.866025    -0.866025        -0.727970          0.727970   \n",
       "2349      -1.154701     1.154701         1.373683         -1.373683   \n",
       "3000      -1.154701     1.154701        -0.727970          0.727970   \n",
       "5003      -1.154701     1.154701         1.373683         -1.373683   \n",
       "733       -1.154701     1.154701         1.373683         -1.373683   \n",
       "\n",
       "      work_type_Govt_job  work_type_Never_worked  work_type_Private  \\\n",
       "3049            2.658650               -0.067729          -1.134927   \n",
       "2349           -0.376131               -0.067729           0.881114   \n",
       "3000           -0.376131               -0.067729           0.881114   \n",
       "5003           -0.376131               -0.067729           0.881114   \n",
       "733            -0.376131               -0.067729          -1.134927   \n",
       "\n",
       "      work_type_Self-employed  work_type_children  Residence_type_Rural  \\\n",
       "3049                -0.452978           -0.400605             -0.990263   \n",
       "2349                -0.452978           -0.400605              1.009833   \n",
       "3000                -0.452978           -0.400605             -0.990263   \n",
       "5003                -0.452978           -0.400605             -0.990263   \n",
       "733                 -0.452978            2.496224             -0.990263   \n",
       "\n",
       "      Residence_type_Urban  smoking_status_Unknown  \\\n",
       "3049              0.990263               -0.685419   \n",
       "2349             -1.009833               -0.685419   \n",
       "3000              0.990263               -0.685419   \n",
       "5003              0.990263                1.458962   \n",
       "733               0.990263                1.458962   \n",
       "\n",
       "      smoking_status_formerly smoked  smoking_status_never smoked  \\\n",
       "3049                        2.197475                    -0.758643   \n",
       "2349                       -0.455068                     1.318143   \n",
       "3000                        2.197475                    -0.758643   \n",
       "5003                       -0.455068                    -0.758643   \n",
       "733                        -0.455068                    -0.758643   \n",
       "\n",
       "      smoking_status_smokes  \n",
       "3049              -0.409335  \n",
       "2349              -0.409335  \n",
       "3000              -0.409335  \n",
       "5003              -0.409335  \n",
       "733               -0.409335  "
      ]
     },
     "execution_count": 77,
     "metadata": {},
     "output_type": "execute_result"
    }
   ],
   "source": [
    "x_test.head()"
   ]
  },
  {
   "cell_type": "code",
   "execution_count": 78,
   "id": "6e91ccd3",
   "metadata": {},
   "outputs": [
    {
     "data": {
      "text/plain": [
       "(1533,)"
      ]
     },
     "execution_count": 78,
     "metadata": {},
     "output_type": "execute_result"
    }
   ],
   "source": [
    "y_test.shape"
   ]
  },
  {
   "cell_type": "code",
   "execution_count": 79,
   "id": "4e8045aa-b07d-47ac-8606-7485e289ec87",
   "metadata": {},
   "outputs": [
    {
     "data": {
      "text/plain": [
       "3049    0\n",
       "2349    0\n",
       "3000    0\n",
       "5003    0\n",
       "733     0\n",
       "       ..\n",
       "1707    0\n",
       "537     0\n",
       "4610    0\n",
       "2443    0\n",
       "5022    0\n",
       "Name: stroke, Length: 1533, dtype: int64"
      ]
     },
     "execution_count": 79,
     "metadata": {},
     "output_type": "execute_result"
    }
   ],
   "source": [
    "y_test"
   ]
  },
  {
   "cell_type": "markdown",
   "id": "df0889e5",
   "metadata": {},
   "source": [
    "## 4.2 Baseline\n",
    "\n",
    "* baseline untuk evaluasi\n",
    "* karena kasus klasifikasi maka ambil proporsi kelas target terbesar\n",
    "* menebak hasil output stroke dengan response \"no\" atau \"0\""
   ]
  },
  {
   "cell_type": "code",
   "execution_count": 80,
   "id": "5721dec7",
   "metadata": {},
   "outputs": [
    {
     "data": {
      "text/plain": [
       "0    95.127202\n",
       "1     4.872798\n",
       "Name: stroke, dtype: float64"
      ]
     },
     "execution_count": 80,
     "metadata": {},
     "output_type": "execute_result"
    }
   ],
   "source": [
    "(dataset.stroke.value_counts(normalize = True))*100"
   ]
  },
  {
   "cell_type": "markdown",
   "id": "f93c4bc2",
   "metadata": {},
   "source": [
    "diketahui bahwa baseline akurasi sekitar 95%"
   ]
  },
  {
   "cell_type": "markdown",
   "id": "a379c3a8",
   "metadata": {},
   "source": [
    "## 4.3 KNeighbors Classifier"
   ]
  },
  {
   "cell_type": "code",
   "execution_count": 81,
   "id": "f5918cdf",
   "metadata": {},
   "outputs": [],
   "source": [
    "from sklearn.neighbors import KNeighborsClassifier\n",
    "from sklearn.metrics import classification_report\n",
    "from sklearn.metrics import ConfusionMatrixDisplay"
   ]
  },
  {
   "cell_type": "code",
   "execution_count": 82,
   "id": "9b76b9d2",
   "metadata": {},
   "outputs": [
    {
     "data": {
      "text/html": [
       "<style>#sk-container-id-1 {color: black;background-color: white;}#sk-container-id-1 pre{padding: 0;}#sk-container-id-1 div.sk-toggleable {background-color: white;}#sk-container-id-1 label.sk-toggleable__label {cursor: pointer;display: block;width: 100%;margin-bottom: 0;padding: 0.3em;box-sizing: border-box;text-align: center;}#sk-container-id-1 label.sk-toggleable__label-arrow:before {content: \"▸\";float: left;margin-right: 0.25em;color: #696969;}#sk-container-id-1 label.sk-toggleable__label-arrow:hover:before {color: black;}#sk-container-id-1 div.sk-estimator:hover label.sk-toggleable__label-arrow:before {color: black;}#sk-container-id-1 div.sk-toggleable__content {max-height: 0;max-width: 0;overflow: hidden;text-align: left;background-color: #f0f8ff;}#sk-container-id-1 div.sk-toggleable__content pre {margin: 0.2em;color: black;border-radius: 0.25em;background-color: #f0f8ff;}#sk-container-id-1 input.sk-toggleable__control:checked~div.sk-toggleable__content {max-height: 200px;max-width: 100%;overflow: auto;}#sk-container-id-1 input.sk-toggleable__control:checked~label.sk-toggleable__label-arrow:before {content: \"▾\";}#sk-container-id-1 div.sk-estimator input.sk-toggleable__control:checked~label.sk-toggleable__label {background-color: #d4ebff;}#sk-container-id-1 div.sk-label input.sk-toggleable__control:checked~label.sk-toggleable__label {background-color: #d4ebff;}#sk-container-id-1 input.sk-hidden--visually {border: 0;clip: rect(1px 1px 1px 1px);clip: rect(1px, 1px, 1px, 1px);height: 1px;margin: -1px;overflow: hidden;padding: 0;position: absolute;width: 1px;}#sk-container-id-1 div.sk-estimator {font-family: monospace;background-color: #f0f8ff;border: 1px dotted black;border-radius: 0.25em;box-sizing: border-box;margin-bottom: 0.5em;}#sk-container-id-1 div.sk-estimator:hover {background-color: #d4ebff;}#sk-container-id-1 div.sk-parallel-item::after {content: \"\";width: 100%;border-bottom: 1px solid gray;flex-grow: 1;}#sk-container-id-1 div.sk-label:hover label.sk-toggleable__label {background-color: #d4ebff;}#sk-container-id-1 div.sk-serial::before {content: \"\";position: absolute;border-left: 1px solid gray;box-sizing: border-box;top: 0;bottom: 0;left: 50%;z-index: 0;}#sk-container-id-1 div.sk-serial {display: flex;flex-direction: column;align-items: center;background-color: white;padding-right: 0.2em;padding-left: 0.2em;position: relative;}#sk-container-id-1 div.sk-item {position: relative;z-index: 1;}#sk-container-id-1 div.sk-parallel {display: flex;align-items: stretch;justify-content: center;background-color: white;position: relative;}#sk-container-id-1 div.sk-item::before, #sk-container-id-1 div.sk-parallel-item::before {content: \"\";position: absolute;border-left: 1px solid gray;box-sizing: border-box;top: 0;bottom: 0;left: 50%;z-index: -1;}#sk-container-id-1 div.sk-parallel-item {display: flex;flex-direction: column;z-index: 1;position: relative;background-color: white;}#sk-container-id-1 div.sk-parallel-item:first-child::after {align-self: flex-end;width: 50%;}#sk-container-id-1 div.sk-parallel-item:last-child::after {align-self: flex-start;width: 50%;}#sk-container-id-1 div.sk-parallel-item:only-child::after {width: 0;}#sk-container-id-1 div.sk-dashed-wrapped {border: 1px dashed gray;margin: 0 0.4em 0.5em 0.4em;box-sizing: border-box;padding-bottom: 0.4em;background-color: white;}#sk-container-id-1 div.sk-label label {font-family: monospace;font-weight: bold;display: inline-block;line-height: 1.2em;}#sk-container-id-1 div.sk-label-container {text-align: center;}#sk-container-id-1 div.sk-container {/* jupyter's `normalize.less` sets `[hidden] { display: none; }` but bootstrap.min.css set `[hidden] { display: none !important; }` so we also need the `!important` here to be able to override the default hidden behavior on the sphinx rendered scikit-learn.org. See: https://github.com/scikit-learn/scikit-learn/issues/21755 */display: inline-block !important;position: relative;}#sk-container-id-1 div.sk-text-repr-fallback {display: none;}</style><div id=\"sk-container-id-1\" class=\"sk-top-container\"><div class=\"sk-text-repr-fallback\"><pre>KNeighborsClassifier()</pre><b>In a Jupyter environment, please rerun this cell to show the HTML representation or trust the notebook. <br />On GitHub, the HTML representation is unable to render, please try loading this page with nbviewer.org.</b></div><div class=\"sk-container\" hidden><div class=\"sk-item\"><div class=\"sk-estimator sk-toggleable\"><input class=\"sk-toggleable__control sk-hidden--visually\" id=\"sk-estimator-id-1\" type=\"checkbox\" checked><label for=\"sk-estimator-id-1\" class=\"sk-toggleable__label sk-toggleable__label-arrow\">KNeighborsClassifier</label><div class=\"sk-toggleable__content\"><pre>KNeighborsClassifier()</pre></div></div></div></div></div>"
      ],
      "text/plain": [
       "KNeighborsClassifier()"
      ]
     },
     "execution_count": 82,
     "metadata": {},
     "output_type": "execute_result"
    }
   ],
   "source": [
    "# Initiate Model\n",
    "knn = KNeighborsClassifier()\n",
    "\n",
    "# Fit the data\n",
    "knn.fit(x_train_res, y_train_res)"
   ]
  },
  {
   "cell_type": "code",
   "execution_count": 83,
   "id": "0042ac61",
   "metadata": {},
   "outputs": [
    {
     "name": "stdout",
     "output_type": "stream",
     "text": [
      "              precision    recall  f1-score   support\n",
      "\n",
      "           0       0.99      0.90      0.94      3402\n",
      "           1       0.91      1.00      0.95      3402\n",
      "\n",
      "    accuracy                           0.95      6804\n",
      "   macro avg       0.95      0.95      0.95      6804\n",
      "weighted avg       0.95      0.95      0.95      6804\n",
      "\n"
     ]
    },
    {
     "data": {
      "image/png": "[encoded data removed]",
      "text/plain": [
       "<Figure size 432x288 with 2 Axes>"
      ]
     },
     "metadata": {
      "needs_background": "light"
     },
     "output_type": "display_data"
    }
   ],
   "source": [
    "# Lakukan Prediksi di Data Train\n",
    "y_pred = knn.predict(x_train)\n",
    "\n",
    "# Classification Report\n",
    "print(classification_report(y_train, y_pred))\n",
    "\n",
    "# # Confusion Matrix\n",
    "# [TN,FN]\n",
    "# [FP,TP]\n",
    "ConfusionMatrixDisplay.from_predictions(y_train, y_pred);"
   ]
  },
  {
   "cell_type": "code",
   "execution_count": 84,
   "id": "48bf57f9",
   "metadata": {},
   "outputs": [
    {
     "data": {
      "text/plain": [
       "{'algorithm': 'auto',\n",
       " 'leaf_size': 30,\n",
       " 'metric': 'minkowski',\n",
       " 'metric_params': None,\n",
       " 'n_jobs': None,\n",
       " 'n_neighbors': 5,\n",
       " 'p': 2,\n",
       " 'weights': 'uniform'}"
      ]
     },
     "execution_count": 84,
     "metadata": {},
     "output_type": "execute_result"
    }
   ],
   "source": [
    "# Get params\n",
    "knn.get_params()"
   ]
  },
  {
   "cell_type": "code",
   "execution_count": 85,
   "id": "93138344",
   "metadata": {},
   "outputs": [
    {
     "data": {
      "text/plain": [
       "{'n_neighbors': 1, 'p': 1, 'weights': 'uniform'}"
      ]
     },
     "execution_count": 85,
     "metadata": {},
     "output_type": "execute_result"
    }
   ],
   "source": [
    "# Tuning Hyperparameter\n",
    "grid = {\"n_neighbors\": [1, 2, 3, 4, 5, 6, 7, 8, 9, 10],\n",
    "        \"p\": [1, 2],\n",
    "        \"weights\": ['uniform', 'distance']}\n",
    "\n",
    "from sklearn.model_selection import GridSearchCV\n",
    "\n",
    "gs_knn = GridSearchCV(estimator=knn,\n",
    "                      param_grid=grid,\n",
    "                      cv=5)\n",
    "\n",
    "gs_knn.fit(x_train, y_train)\n",
    "\n",
    "gs_knn.best_params_"
   ]
  },
  {
   "cell_type": "code",
   "execution_count": 86,
   "id": "f641bdd5",
   "metadata": {},
   "outputs": [
    {
     "name": "stdout",
     "output_type": "stream",
     "text": [
      "              precision    recall  f1-score   support\n",
      "\n",
      "           0       1.00      1.00      1.00      3402\n",
      "           1       1.00      1.00      1.00      3402\n",
      "\n",
      "    accuracy                           1.00      6804\n",
      "   macro avg       1.00      1.00      1.00      6804\n",
      "weighted avg       1.00      1.00      1.00      6804\n",
      "\n"
     ]
    },
    {
     "data": {
      "image/png": "[encoded data removed]",
      "text/plain": [
       "<Figure size 432x288 with 2 Axes>"
      ]
     },
     "metadata": {
      "needs_background": "light"
     },
     "output_type": "display_data"
    }
   ],
   "source": [
    "# Lakukan Prediksi di Data Train\n",
    "gs_y_pred = gs_knn.predict(x_train)\n",
    "\n",
    "# Classification Report\n",
    "print(classification_report(y_train, gs_y_pred))\n",
    "\n",
    "# # Confusion Matrix\n",
    "# [TN,FN]\n",
    "# [FP,TP]\n",
    "ConfusionMatrixDisplay.from_predictions(y_train_res, gs_y_pred);"
   ]
  },
  {
   "cell_type": "markdown",
   "id": "dbf37dde",
   "metadata": {},
   "source": [
    "## 4.4 Decision Tree"
   ]
  },
  {
   "cell_type": "code",
   "execution_count": 87,
   "id": "a80ed7f6",
   "metadata": {},
   "outputs": [],
   "source": [
    "from sklearn.tree import DecisionTreeClassifier"
   ]
  },
  {
   "cell_type": "code",
   "execution_count": 88,
   "id": "b7595917",
   "metadata": {},
   "outputs": [
    {
     "data": {
      "text/html": [
       "<style>#sk-container-id-2 {color: black;background-color: white;}#sk-container-id-2 pre{padding: 0;}#sk-container-id-2 div.sk-toggleable {background-color: white;}#sk-container-id-2 label.sk-toggleable__label {cursor: pointer;display: block;width: 100%;margin-bottom: 0;padding: 0.3em;box-sizing: border-box;text-align: center;}#sk-container-id-2 label.sk-toggleable__label-arrow:before {content: \"▸\";float: left;margin-right: 0.25em;color: #696969;}#sk-container-id-2 label.sk-toggleable__label-arrow:hover:before {color: black;}#sk-container-id-2 div.sk-estimator:hover label.sk-toggleable__label-arrow:before {color: black;}#sk-container-id-2 div.sk-toggleable__content {max-height: 0;max-width: 0;overflow: hidden;text-align: left;background-color: #f0f8ff;}#sk-container-id-2 div.sk-toggleable__content pre {margin: 0.2em;color: black;border-radius: 0.25em;background-color: #f0f8ff;}#sk-container-id-2 input.sk-toggleable__control:checked~div.sk-toggleable__content {max-height: 200px;max-width: 100%;overflow: auto;}#sk-container-id-2 input.sk-toggleable__control:checked~label.sk-toggleable__label-arrow:before {content: \"▾\";}#sk-container-id-2 div.sk-estimator input.sk-toggleable__control:checked~label.sk-toggleable__label {background-color: #d4ebff;}#sk-container-id-2 div.sk-label input.sk-toggleable__control:checked~label.sk-toggleable__label {background-color: #d4ebff;}#sk-container-id-2 input.sk-hidden--visually {border: 0;clip: rect(1px 1px 1px 1px);clip: rect(1px, 1px, 1px, 1px);height: 1px;margin: -1px;overflow: hidden;padding: 0;position: absolute;width: 1px;}#sk-container-id-2 div.sk-estimator {font-family: monospace;background-color: #f0f8ff;border: 1px dotted black;border-radius: 0.25em;box-sizing: border-box;margin-bottom: 0.5em;}#sk-container-id-2 div.sk-estimator:hover {background-color: #d4ebff;}#sk-container-id-2 div.sk-parallel-item::after {content: \"\";width: 100%;border-bottom: 1px solid gray;flex-grow: 1;}#sk-container-id-2 div.sk-label:hover label.sk-toggleable__label {background-color: #d4ebff;}#sk-container-id-2 div.sk-serial::before {content: \"\";position: absolute;border-left: 1px solid gray;box-sizing: border-box;top: 0;bottom: 0;left: 50%;z-index: 0;}#sk-container-id-2 div.sk-serial {display: flex;flex-direction: column;align-items: center;background-color: white;padding-right: 0.2em;padding-left: 0.2em;position: relative;}#sk-container-id-2 div.sk-item {position: relative;z-index: 1;}#sk-container-id-2 div.sk-parallel {display: flex;align-items: stretch;justify-content: center;background-color: white;position: relative;}#sk-container-id-2 div.sk-item::before, #sk-container-id-2 div.sk-parallel-item::before {content: \"\";position: absolute;border-left: 1px solid gray;box-sizing: border-box;top: 0;bottom: 0;left: 50%;z-index: -1;}#sk-container-id-2 div.sk-parallel-item {display: flex;flex-direction: column;z-index: 1;position: relative;background-color: white;}#sk-container-id-2 div.sk-parallel-item:first-child::after {align-self: flex-end;width: 50%;}#sk-container-id-2 div.sk-parallel-item:last-child::after {align-self: flex-start;width: 50%;}#sk-container-id-2 div.sk-parallel-item:only-child::after {width: 0;}#sk-container-id-2 div.sk-dashed-wrapped {border: 1px dashed gray;margin: 0 0.4em 0.5em 0.4em;box-sizing: border-box;padding-bottom: 0.4em;background-color: white;}#sk-container-id-2 div.sk-label label {font-family: monospace;font-weight: bold;display: inline-block;line-height: 1.2em;}#sk-container-id-2 div.sk-label-container {text-align: center;}#sk-container-id-2 div.sk-container {/* jupyter's `normalize.less` sets `[hidden] { display: none; }` but bootstrap.min.css set `[hidden] { display: none !important; }` so we also need the `!important` here to be able to override the default hidden behavior on the sphinx rendered scikit-learn.org. See: https://github.com/scikit-learn/scikit-learn/issues/21755 */display: inline-block !important;position: relative;}#sk-container-id-2 div.sk-text-repr-fallback {display: none;}</style><div id=\"sk-container-id-2\" class=\"sk-top-container\"><div class=\"sk-text-repr-fallback\"><pre>DecisionTreeClassifier()</pre><b>In a Jupyter environment, please rerun this cell to show the HTML representation or trust the notebook. <br />On GitHub, the HTML representation is unable to render, please try loading this page with nbviewer.org.</b></div><div class=\"sk-container\" hidden><div class=\"sk-item\"><div class=\"sk-estimator sk-toggleable\"><input class=\"sk-toggleable__control sk-hidden--visually\" id=\"sk-estimator-id-2\" type=\"checkbox\" checked><label for=\"sk-estimator-id-2\" class=\"sk-toggleable__label sk-toggleable__label-arrow\">DecisionTreeClassifier</label><div class=\"sk-toggleable__content\"><pre>DecisionTreeClassifier()</pre></div></div></div></div></div>"
      ],
      "text/plain": [
       "DecisionTreeClassifier()"
      ]
     },
     "execution_count": 88,
     "metadata": {},
     "output_type": "execute_result"
    }
   ],
   "source": [
    "# Initiate Model\n",
    "dtc = DecisionTreeClassifier()\n",
    "\n",
    "# Fit the data\n",
    "dtc.fit(x_train, y_train)"
   ]
  },
  {
   "cell_type": "code",
   "execution_count": 89,
   "id": "c49ef088",
   "metadata": {},
   "outputs": [
    {
     "name": "stdout",
     "output_type": "stream",
     "text": [
      "              precision    recall  f1-score   support\n",
      "\n",
      "           0       1.00      1.00      1.00      3402\n",
      "           1       1.00      1.00      1.00      3402\n",
      "\n",
      "    accuracy                           1.00      6804\n",
      "   macro avg       1.00      1.00      1.00      6804\n",
      "weighted avg       1.00      1.00      1.00      6804\n",
      "\n"
     ]
    },
    {
     "data": {
      "image/png": "[encoded data removed]",
      "text/plain": [
       "<Figure size 432x288 with 2 Axes>"
      ]
     },
     "metadata": {
      "needs_background": "light"
     },
     "output_type": "display_data"
    }
   ],
   "source": [
    "# Lakukan Prediksi di Data Train\n",
    "y_pred = dtc.predict(x_train)\n",
    "\n",
    "# Classification Report\n",
    "print(classification_report(y_train, y_pred))\n",
    "\n",
    "# # Confusion Matrix\n",
    "# [TN,FN]\n",
    "# [FP,TP]\n",
    "ConfusionMatrixDisplay.from_predictions(y_train, y_pred);"
   ]
  },
  {
   "cell_type": "code",
   "execution_count": 90,
   "id": "8f928876",
   "metadata": {},
   "outputs": [
    {
     "data": {
      "text/plain": [
       "{'ccp_alpha': 0.0,\n",
       " 'class_weight': None,\n",
       " 'criterion': 'gini',\n",
       " 'max_depth': None,\n",
       " 'max_features': None,\n",
       " 'max_leaf_nodes': None,\n",
       " 'min_impurity_decrease': 0.0,\n",
       " 'min_samples_leaf': 1,\n",
       " 'min_samples_split': 2,\n",
       " 'min_weight_fraction_leaf': 0.0,\n",
       " 'random_state': None,\n",
       " 'splitter': 'best'}"
      ]
     },
     "execution_count": 90,
     "metadata": {},
     "output_type": "execute_result"
    }
   ],
   "source": [
    "# Get params\n",
    "dtc.get_params()"
   ]
  },
  {
   "cell_type": "code",
   "execution_count": 91,
   "id": "d19697e9",
   "metadata": {},
   "outputs": [
    {
     "data": {
      "text/plain": [
       "{'criterion': 'log_loss',\n",
       " 'max_depth': 7,\n",
       " 'max_features': 'sqrt',\n",
       " 'splitter': 'best'}"
      ]
     },
     "execution_count": 91,
     "metadata": {},
     "output_type": "execute_result"
    }
   ],
   "source": [
    "# Tuning Hyperparameter\n",
    "grid = {\"criterion\": [\"gini\", \"entropy\", \"log_loss\"],\n",
    "        \"splitter\": [\"best\", \"random\"],\n",
    "        \"max_depth\": [1, 2, 3, 4, 5, 6, 7],\n",
    "        \"max_features\": [\"sqrt\", \"log2\"]}\n",
    "\n",
    "from sklearn.model_selection import GridSearchCV\n",
    "\n",
    "gs_dtc = GridSearchCV(estimator=dtc,\n",
    "                      param_grid=grid,\n",
    "                      cv=5)\n",
    "\n",
    "gs_dtc.fit(x_train, y_train)\n",
    "\n",
    "gs_dtc.best_params_"
   ]
  },
  {
   "cell_type": "code",
   "execution_count": 92,
   "id": "923563d4",
   "metadata": {},
   "outputs": [
    {
     "name": "stdout",
     "output_type": "stream",
     "text": [
      "              precision    recall  f1-score   support\n",
      "\n",
      "           0       0.65      0.92      0.76      3402\n",
      "           1       0.87      0.51      0.64      3402\n",
      "\n",
      "    accuracy                           0.72      6804\n",
      "   macro avg       0.76      0.72      0.70      6804\n",
      "weighted avg       0.76      0.72      0.70      6804\n",
      "\n"
     ]
    },
    {
     "data": {
      "image/png": "[encoded data removed]",
      "text/plain": [
       "<Figure size 432x288 with 2 Axes>"
      ]
     },
     "metadata": {
      "needs_background": "light"
     },
     "output_type": "display_data"
    }
   ],
   "source": [
    "# Lakukan Prediksi di Data Train\n",
    "gs_y_pred = gs_dtc.predict(x_train)\n",
    "\n",
    "# Classification Report\n",
    "print(classification_report(y_train, gs_y_pred))\n",
    "\n",
    "# # Confusion Matrix\n",
    "# [TN,FN]\n",
    "# [FP,TP]\n",
    "ConfusionMatrixDisplay.from_predictions(y_train, gs_y_pred);"
   ]
  },
  {
   "cell_type": "markdown",
   "id": "67ddb86a",
   "metadata": {},
   "source": [
    "## 4.5 Random Forest"
   ]
  },
  {
   "cell_type": "code",
   "execution_count": 93,
   "id": "1426faa4",
   "metadata": {},
   "outputs": [],
   "source": [
    "from sklearn.ensemble import RandomForestClassifier"
   ]
  },
  {
   "cell_type": "code",
   "execution_count": 94,
   "id": "5050408e",
   "metadata": {},
   "outputs": [
    {
     "data": {
      "text/html": [
       "<style>#sk-container-id-3 {color: black;background-color: white;}#sk-container-id-3 pre{padding: 0;}#sk-container-id-3 div.sk-toggleable {background-color: white;}#sk-container-id-3 label.sk-toggleable__label {cursor: pointer;display: block;width: 100%;margin-bottom: 0;padding: 0.3em;box-sizing: border-box;text-align: center;}#sk-container-id-3 label.sk-toggleable__label-arrow:before {content: \"▸\";float: left;margin-right: 0.25em;color: #696969;}#sk-container-id-3 label.sk-toggleable__label-arrow:hover:before {color: black;}#sk-container-id-3 div.sk-estimator:hover label.sk-toggleable__label-arrow:before {color: black;}#sk-container-id-3 div.sk-toggleable__content {max-height: 0;max-width: 0;overflow: hidden;text-align: left;background-color: #f0f8ff;}#sk-container-id-3 div.sk-toggleable__content pre {margin: 0.2em;color: black;border-radius: 0.25em;background-color: #f0f8ff;}#sk-container-id-3 input.sk-toggleable__control:checked~div.sk-toggleable__content {max-height: 200px;max-width: 100%;overflow: auto;}#sk-container-id-3 input.sk-toggleable__control:checked~label.sk-toggleable__label-arrow:before {content: \"▾\";}#sk-container-id-3 div.sk-estimator input.sk-toggleable__control:checked~label.sk-toggleable__label {background-color: #d4ebff;}#sk-container-id-3 div.sk-label input.sk-toggleable__control:checked~label.sk-toggleable__label {background-color: #d4ebff;}#sk-container-id-3 input.sk-hidden--visually {border: 0;clip: rect(1px 1px 1px 1px);clip: rect(1px, 1px, 1px, 1px);height: 1px;margin: -1px;overflow: hidden;padding: 0;position: absolute;width: 1px;}#sk-container-id-3 div.sk-estimator {font-family: monospace;background-color: #f0f8ff;border: 1px dotted black;border-radius: 0.25em;box-sizing: border-box;margin-bottom: 0.5em;}#sk-container-id-3 div.sk-estimator:hover {background-color: #d4ebff;}#sk-container-id-3 div.sk-parallel-item::after {content: \"\";width: 100%;border-bottom: 1px solid gray;flex-grow: 1;}#sk-container-id-3 div.sk-label:hover label.sk-toggleable__label {background-color: #d4ebff;}#sk-container-id-3 div.sk-serial::before {content: \"\";position: absolute;border-left: 1px solid gray;box-sizing: border-box;top: 0;bottom: 0;left: 50%;z-index: 0;}#sk-container-id-3 div.sk-serial {display: flex;flex-direction: column;align-items: center;background-color: white;padding-right: 0.2em;padding-left: 0.2em;position: relative;}#sk-container-id-3 div.sk-item {position: relative;z-index: 1;}#sk-container-id-3 div.sk-parallel {display: flex;align-items: stretch;justify-content: center;background-color: white;position: relative;}#sk-container-id-3 div.sk-item::before, #sk-container-id-3 div.sk-parallel-item::before {content: \"\";position: absolute;border-left: 1px solid gray;box-sizing: border-box;top: 0;bottom: 0;left: 50%;z-index: -1;}#sk-container-id-3 div.sk-parallel-item {display: flex;flex-direction: column;z-index: 1;position: relative;background-color: white;}#sk-container-id-3 div.sk-parallel-item:first-child::after {align-self: flex-end;width: 50%;}#sk-container-id-3 div.sk-parallel-item:last-child::after {align-self: flex-start;width: 50%;}#sk-container-id-3 div.sk-parallel-item:only-child::after {width: 0;}#sk-container-id-3 div.sk-dashed-wrapped {border: 1px dashed gray;margin: 0 0.4em 0.5em 0.4em;box-sizing: border-box;padding-bottom: 0.4em;background-color: white;}#sk-container-id-3 div.sk-label label {font-family: monospace;font-weight: bold;display: inline-block;line-height: 1.2em;}#sk-container-id-3 div.sk-label-container {text-align: center;}#sk-container-id-3 div.sk-container {/* jupyter's `normalize.less` sets `[hidden] { display: none; }` but bootstrap.min.css set `[hidden] { display: none !important; }` so we also need the `!important` here to be able to override the default hidden behavior on the sphinx rendered scikit-learn.org. See: https://github.com/scikit-learn/scikit-learn/issues/21755 */display: inline-block !important;position: relative;}#sk-container-id-3 div.sk-text-repr-fallback {display: none;}</style><div id=\"sk-container-id-3\" class=\"sk-top-container\"><div class=\"sk-text-repr-fallback\"><pre>RandomForestClassifier()</pre><b>In a Jupyter environment, please rerun this cell to show the HTML representation or trust the notebook. <br />On GitHub, the HTML representation is unable to render, please try loading this page with nbviewer.org.</b></div><div class=\"sk-container\" hidden><div class=\"sk-item\"><div class=\"sk-estimator sk-toggleable\"><input class=\"sk-toggleable__control sk-hidden--visually\" id=\"sk-estimator-id-3\" type=\"checkbox\" checked><label for=\"sk-estimator-id-3\" class=\"sk-toggleable__label sk-toggleable__label-arrow\">RandomForestClassifier</label><div class=\"sk-toggleable__content\"><pre>RandomForestClassifier()</pre></div></div></div></div></div>"
      ],
      "text/plain": [
       "RandomForestClassifier()"
      ]
     },
     "execution_count": 94,
     "metadata": {},
     "output_type": "execute_result"
    }
   ],
   "source": [
    "# Initiate Model\n",
    "rfc = RandomForestClassifier()\n",
    "\n",
    "# Fit the data\n",
    "rfc.fit(x_train, y_train)"
   ]
  },
  {
   "cell_type": "code",
   "execution_count": 95,
   "id": "90fd42f4",
   "metadata": {},
   "outputs": [
    {
     "name": "stdout",
     "output_type": "stream",
     "text": [
      "              precision    recall  f1-score   support\n",
      "\n",
      "           0       1.00      1.00      1.00      3402\n",
      "           1       1.00      1.00      1.00      3402\n",
      "\n",
      "    accuracy                           1.00      6804\n",
      "   macro avg       1.00      1.00      1.00      6804\n",
      "weighted avg       1.00      1.00      1.00      6804\n",
      "\n"
     ]
    },
    {
     "data": {
      "image/png": "[encoded data removed]",
      "text/plain": [
       "<Figure size 432x288 with 2 Axes>"
      ]
     },
     "metadata": {
      "needs_background": "light"
     },
     "output_type": "display_data"
    }
   ],
   "source": [
    "# Lakukan Prediksi di Data Train\n",
    "y_pred = rfc.predict(x_train)\n",
    "\n",
    "# Classification Report\n",
    "print(classification_report(y_train, y_pred))\n",
    "\n",
    "# # Confusion Matrix\n",
    "# [TN,FN]\n",
    "# [FP,TP]\n",
    "ConfusionMatrixDisplay.from_predictions(y_train, y_pred);"
   ]
  },
  {
   "cell_type": "code",
   "execution_count": 96,
   "id": "02b82830",
   "metadata": {},
   "outputs": [
    {
     "data": {
      "text/plain": [
       "{'bootstrap': True,\n",
       " 'ccp_alpha': 0.0,\n",
       " 'class_weight': None,\n",
       " 'criterion': 'gini',\n",
       " 'max_depth': None,\n",
       " 'max_features': 'sqrt',\n",
       " 'max_leaf_nodes': None,\n",
       " 'max_samples': None,\n",
       " 'min_impurity_decrease': 0.0,\n",
       " 'min_samples_leaf': 1,\n",
       " 'min_samples_split': 2,\n",
       " 'min_weight_fraction_leaf': 0.0,\n",
       " 'n_estimators': 100,\n",
       " 'n_jobs': None,\n",
       " 'oob_score': False,\n",
       " 'random_state': None,\n",
       " 'verbose': 0,\n",
       " 'warm_start': False}"
      ]
     },
     "execution_count": 96,
     "metadata": {},
     "output_type": "execute_result"
    }
   ],
   "source": [
    "# Get params\n",
    "rfc.get_params()"
   ]
  },
  {
   "cell_type": "code",
   "execution_count": 97,
   "id": "823db06f",
   "metadata": {},
   "outputs": [
    {
     "data": {
      "text/plain": [
       "{'criterion': 'gini', 'max_depth': 7, 'max_features': 'log2'}"
      ]
     },
     "execution_count": 97,
     "metadata": {},
     "output_type": "execute_result"
    }
   ],
   "source": [
    "# Tuning Hyperparameter\n",
    "grid = {\"criterion\": [\"gini\", \"entropy\", \"log_loss\"],\n",
    "        \"max_depth\": [1, 2, 3, 4, 5, 6, 7],\n",
    "        \"max_features\": [\"sqrt\", \"log2\"]}\n",
    "\n",
    "from sklearn.model_selection import GridSearchCV\n",
    "\n",
    "gs_rfc = GridSearchCV(estimator=rfc,\n",
    "                      param_grid=grid,\n",
    "                      cv=5)\n",
    "\n",
    "gs_rfc.fit(x_train, y_train)\n",
    "\n",
    "gs_rfc.best_params_"
   ]
  },
  {
   "cell_type": "code",
   "execution_count": 98,
   "id": "5e1244fb",
   "metadata": {},
   "outputs": [
    {
     "name": "stdout",
     "output_type": "stream",
     "text": [
      "              precision    recall  f1-score   support\n",
      "\n",
      "           0       0.94      0.81      0.87      3402\n",
      "           1       0.83      0.95      0.89      3402\n",
      "\n",
      "    accuracy                           0.88      6804\n",
      "   macro avg       0.89      0.88      0.88      6804\n",
      "weighted avg       0.89      0.88      0.88      6804\n",
      "\n"
     ]
    },
    {
     "data": {
      "image/png": "[encoded data removed]",
      "text/plain": [
       "<Figure size 432x288 with 2 Axes>"
      ]
     },
     "metadata": {
      "needs_background": "light"
     },
     "output_type": "display_data"
    }
   ],
   "source": [
    "# Lakukan Prediksi di Data Train\n",
    "gs_y_pred = gs_rfc.predict(x_train)\n",
    "\n",
    "# Classification Report\n",
    "print(classification_report(y_train, gs_y_pred))\n",
    "\n",
    "# # Confusion Matrix\n",
    "# [TN,FN]\n",
    "# [FP,TP]\n",
    "ConfusionMatrixDisplay.from_predictions(y_train, gs_y_pred);"
   ]
  },
  {
   "cell_type": "markdown",
   "id": "52416ad1",
   "metadata": {},
   "source": [
    "## 4.6 Support Vector Machine"
   ]
  },
  {
   "cell_type": "code",
   "execution_count": 99,
   "id": "a9a34d2e",
   "metadata": {},
   "outputs": [],
   "source": [
    "from sklearn.svm import SVC"
   ]
  },
  {
   "cell_type": "code",
   "execution_count": 100,
   "id": "748b55dc",
   "metadata": {},
   "outputs": [
    {
     "data": {
      "text/html": [
       "<style>#sk-container-id-4 {color: black;background-color: white;}#sk-container-id-4 pre{padding: 0;}#sk-container-id-4 div.sk-toggleable {background-color: white;}#sk-container-id-4 label.sk-toggleable__label {cursor: pointer;display: block;width: 100%;margin-bottom: 0;padding: 0.3em;box-sizing: border-box;text-align: center;}#sk-container-id-4 label.sk-toggleable__label-arrow:before {content: \"▸\";float: left;margin-right: 0.25em;color: #696969;}#sk-container-id-4 label.sk-toggleable__label-arrow:hover:before {color: black;}#sk-container-id-4 div.sk-estimator:hover label.sk-toggleable__label-arrow:before {color: black;}#sk-container-id-4 div.sk-toggleable__content {max-height: 0;max-width: 0;overflow: hidden;text-align: left;background-color: #f0f8ff;}#sk-container-id-4 div.sk-toggleable__content pre {margin: 0.2em;color: black;border-radius: 0.25em;background-color: #f0f8ff;}#sk-container-id-4 input.sk-toggleable__control:checked~div.sk-toggleable__content {max-height: 200px;max-width: 100%;overflow: auto;}#sk-container-id-4 input.sk-toggleable__control:checked~label.sk-toggleable__label-arrow:before {content: \"▾\";}#sk-container-id-4 div.sk-estimator input.sk-toggleable__control:checked~label.sk-toggleable__label {background-color: #d4ebff;}#sk-container-id-4 div.sk-label input.sk-toggleable__control:checked~label.sk-toggleable__label {background-color: #d4ebff;}#sk-container-id-4 input.sk-hidden--visually {border: 0;clip: rect(1px 1px 1px 1px);clip: rect(1px, 1px, 1px, 1px);height: 1px;margin: -1px;overflow: hidden;padding: 0;position: absolute;width: 1px;}#sk-container-id-4 div.sk-estimator {font-family: monospace;background-color: #f0f8ff;border: 1px dotted black;border-radius: 0.25em;box-sizing: border-box;margin-bottom: 0.5em;}#sk-container-id-4 div.sk-estimator:hover {background-color: #d4ebff;}#sk-container-id-4 div.sk-parallel-item::after {content: \"\";width: 100%;border-bottom: 1px solid gray;flex-grow: 1;}#sk-container-id-4 div.sk-label:hover label.sk-toggleable__label {background-color: #d4ebff;}#sk-container-id-4 div.sk-serial::before {content: \"\";position: absolute;border-left: 1px solid gray;box-sizing: border-box;top: 0;bottom: 0;left: 50%;z-index: 0;}#sk-container-id-4 div.sk-serial {display: flex;flex-direction: column;align-items: center;background-color: white;padding-right: 0.2em;padding-left: 0.2em;position: relative;}#sk-container-id-4 div.sk-item {position: relative;z-index: 1;}#sk-container-id-4 div.sk-parallel {display: flex;align-items: stretch;justify-content: center;background-color: white;position: relative;}#sk-container-id-4 div.sk-item::before, #sk-container-id-4 div.sk-parallel-item::before {content: \"\";position: absolute;border-left: 1px solid gray;box-sizing: border-box;top: 0;bottom: 0;left: 50%;z-index: -1;}#sk-container-id-4 div.sk-parallel-item {display: flex;flex-direction: column;z-index: 1;position: relative;background-color: white;}#sk-container-id-4 div.sk-parallel-item:first-child::after {align-self: flex-end;width: 50%;}#sk-container-id-4 div.sk-parallel-item:last-child::after {align-self: flex-start;width: 50%;}#sk-container-id-4 div.sk-parallel-item:only-child::after {width: 0;}#sk-container-id-4 div.sk-dashed-wrapped {border: 1px dashed gray;margin: 0 0.4em 0.5em 0.4em;box-sizing: border-box;padding-bottom: 0.4em;background-color: white;}#sk-container-id-4 div.sk-label label {font-family: monospace;font-weight: bold;display: inline-block;line-height: 1.2em;}#sk-container-id-4 div.sk-label-container {text-align: center;}#sk-container-id-4 div.sk-container {/* jupyter's `normalize.less` sets `[hidden] { display: none; }` but bootstrap.min.css set `[hidden] { display: none !important; }` so we also need the `!important` here to be able to override the default hidden behavior on the sphinx rendered scikit-learn.org. See: https://github.com/scikit-learn/scikit-learn/issues/21755 */display: inline-block !important;position: relative;}#sk-container-id-4 div.sk-text-repr-fallback {display: none;}</style><div id=\"sk-container-id-4\" class=\"sk-top-container\"><div class=\"sk-text-repr-fallback\"><pre>SVC()</pre><b>In a Jupyter environment, please rerun this cell to show the HTML representation or trust the notebook. <br />On GitHub, the HTML representation is unable to render, please try loading this page with nbviewer.org.</b></div><div class=\"sk-container\" hidden><div class=\"sk-item\"><div class=\"sk-estimator sk-toggleable\"><input class=\"sk-toggleable__control sk-hidden--visually\" id=\"sk-estimator-id-4\" type=\"checkbox\" checked><label for=\"sk-estimator-id-4\" class=\"sk-toggleable__label sk-toggleable__label-arrow\">SVC</label><div class=\"sk-toggleable__content\"><pre>SVC()</pre></div></div></div></div></div>"
      ],
      "text/plain": [
       "SVC()"
      ]
     },
     "execution_count": 100,
     "metadata": {},
     "output_type": "execute_result"
    }
   ],
   "source": [
    "# Initiate Model\n",
    "svc = SVC()\n",
    "\n",
    "# Fit the data\n",
    "svc.fit(x_train, y_train)"
   ]
  },
  {
   "cell_type": "code",
   "execution_count": 101,
   "id": "69382c9b",
   "metadata": {},
   "outputs": [
    {
     "name": "stdout",
     "output_type": "stream",
     "text": [
      "              precision    recall  f1-score   support\n",
      "\n",
      "           0       0.95      0.85      0.90      3402\n",
      "           1       0.86      0.95      0.91      3402\n",
      "\n",
      "    accuracy                           0.90      6804\n",
      "   macro avg       0.91      0.90      0.90      6804\n",
      "weighted avg       0.91      0.90      0.90      6804\n",
      "\n"
     ]
    },
    {
     "data": {
      "image/png": "[encoded data removed]",
      "text/plain": [
       "<Figure size 432x288 with 2 Axes>"
      ]
     },
     "metadata": {
      "needs_background": "light"
     },
     "output_type": "display_data"
    }
   ],
   "source": [
    "# Lakukan Prediksi di Data Test\n",
    "y_pred = svc.predict(x_train)\n",
    "\n",
    "# Classification Report\n",
    "print(classification_report(y_train, y_pred))\n",
    "\n",
    "# # Confusion Matrix\n",
    "# [TN,FN]\n",
    "# [FP,TP]\n",
    "ConfusionMatrixDisplay.from_predictions(y_train, y_pred);"
   ]
  },
  {
   "cell_type": "code",
   "execution_count": 102,
   "id": "42af2316",
   "metadata": {},
   "outputs": [
    {
     "data": {
      "text/plain": [
       "{'C': 1.0,\n",
       " 'break_ties': False,\n",
       " 'cache_size': 200,\n",
       " 'class_weight': None,\n",
       " 'coef0': 0.0,\n",
       " 'decision_function_shape': 'ovr',\n",
       " 'degree': 3,\n",
       " 'gamma': 'scale',\n",
       " 'kernel': 'rbf',\n",
       " 'max_iter': -1,\n",
       " 'probability': False,\n",
       " 'random_state': None,\n",
       " 'shrinking': True,\n",
       " 'tol': 0.001,\n",
       " 'verbose': False}"
      ]
     },
     "execution_count": 102,
     "metadata": {},
     "output_type": "execute_result"
    }
   ],
   "source": [
    "# Get params\n",
    "svc.get_params()"
   ]
  },
  {
   "cell_type": "code",
   "execution_count": 103,
   "id": "9296038c",
   "metadata": {},
   "outputs": [
    {
     "data": {
      "text/plain": [
       "{'C': 5, 'kernel': 'rbf'}"
      ]
     },
     "execution_count": 103,
     "metadata": {},
     "output_type": "execute_result"
    }
   ],
   "source": [
    "# Tuning Hyperparameter\n",
    "grid = {\"C\": [1, 5],\n",
    "        \"kernel\": [\"linear\", \"poly\", \"rbf\", \"sigmoid\"]}\n",
    "\n",
    "from sklearn.model_selection import GridSearchCV\n",
    "\n",
    "gs_svc = GridSearchCV(estimator=svc,\n",
    "                      param_grid=grid,\n",
    "                      cv=5)\n",
    "\n",
    "gs_svc.fit(x_train, y_train)\n",
    "\n",
    "gs_svc.best_params_"
   ]
  },
  {
   "cell_type": "code",
   "execution_count": 104,
   "id": "ae0d229c",
   "metadata": {},
   "outputs": [
    {
     "name": "stdout",
     "output_type": "stream",
     "text": [
      "              precision    recall  f1-score   support\n",
      "\n",
      "           0       0.96      0.90      0.93      3402\n",
      "           1       0.90      0.96      0.93      3402\n",
      "\n",
      "    accuracy                           0.93      6804\n",
      "   macro avg       0.93      0.93      0.93      6804\n",
      "weighted avg       0.93      0.93      0.93      6804\n",
      "\n"
     ]
    },
    {
     "data": {
      "image/png": "[encoded data removed]",
      "text/plain": [
       "<Figure size 432x288 with 2 Axes>"
      ]
     },
     "metadata": {
      "needs_background": "light"
     },
     "output_type": "display_data"
    }
   ],
   "source": [
    "# Lakukan Prediksi di Data Train\n",
    "gs_y_pred = gs_svc.predict(x_train)\n",
    "\n",
    "# Classification Report\n",
    "print(classification_report(y_train, gs_y_pred))\n",
    "\n",
    "# # Confusion Matrix\n",
    "# [TN,FN]\n",
    "# [FP,TP]\n",
    "ConfusionMatrixDisplay.from_predictions(y_train, gs_y_pred);"
   ]
  },
  {
   "cell_type": "markdown",
   "id": "65b94f73",
   "metadata": {},
   "source": [
    "## 4.7 Adaboost"
   ]
  },
  {
   "cell_type": "code",
   "execution_count": 105,
   "id": "f80efb65",
   "metadata": {},
   "outputs": [],
   "source": [
    "from sklearn.ensemble import AdaBoostClassifier"
   ]
  },
  {
   "cell_type": "code",
   "execution_count": 106,
   "id": "5ddbfca9",
   "metadata": {},
   "outputs": [
    {
     "data": {
      "text/html": [
       "<style>#sk-container-id-5 {color: black;background-color: white;}#sk-container-id-5 pre{padding: 0;}#sk-container-id-5 div.sk-toggleable {background-color: white;}#sk-container-id-5 label.sk-toggleable__label {cursor: pointer;display: block;width: 100%;margin-bottom: 0;padding: 0.3em;box-sizing: border-box;text-align: center;}#sk-container-id-5 label.sk-toggleable__label-arrow:before {content: \"▸\";float: left;margin-right: 0.25em;color: #696969;}#sk-container-id-5 label.sk-toggleable__label-arrow:hover:before {color: black;}#sk-container-id-5 div.sk-estimator:hover label.sk-toggleable__label-arrow:before {color: black;}#sk-container-id-5 div.sk-toggleable__content {max-height: 0;max-width: 0;overflow: hidden;text-align: left;background-color: #f0f8ff;}#sk-container-id-5 div.sk-toggleable__content pre {margin: 0.2em;color: black;border-radius: 0.25em;background-color: #f0f8ff;}#sk-container-id-5 input.sk-toggleable__control:checked~div.sk-toggleable__content {max-height: 200px;max-width: 100%;overflow: auto;}#sk-container-id-5 input.sk-toggleable__control:checked~label.sk-toggleable__label-arrow:before {content: \"▾\";}#sk-container-id-5 div.sk-estimator input.sk-toggleable__control:checked~label.sk-toggleable__label {background-color: #d4ebff;}#sk-container-id-5 div.sk-label input.sk-toggleable__control:checked~label.sk-toggleable__label {background-color: #d4ebff;}#sk-container-id-5 input.sk-hidden--visually {border: 0;clip: rect(1px 1px 1px 1px);clip: rect(1px, 1px, 1px, 1px);height: 1px;margin: -1px;overflow: hidden;padding: 0;position: absolute;width: 1px;}#sk-container-id-5 div.sk-estimator {font-family: monospace;background-color: #f0f8ff;border: 1px dotted black;border-radius: 0.25em;box-sizing: border-box;margin-bottom: 0.5em;}#sk-container-id-5 div.sk-estimator:hover {background-color: #d4ebff;}#sk-container-id-5 div.sk-parallel-item::after {content: \"\";width: 100%;border-bottom: 1px solid gray;flex-grow: 1;}#sk-container-id-5 div.sk-label:hover label.sk-toggleable__label {background-color: #d4ebff;}#sk-container-id-5 div.sk-serial::before {content: \"\";position: absolute;border-left: 1px solid gray;box-sizing: border-box;top: 0;bottom: 0;left: 50%;z-index: 0;}#sk-container-id-5 div.sk-serial {display: flex;flex-direction: column;align-items: center;background-color: white;padding-right: 0.2em;padding-left: 0.2em;position: relative;}#sk-container-id-5 div.sk-item {position: relative;z-index: 1;}#sk-container-id-5 div.sk-parallel {display: flex;align-items: stretch;justify-content: center;background-color: white;position: relative;}#sk-container-id-5 div.sk-item::before, #sk-container-id-5 div.sk-parallel-item::before {content: \"\";position: absolute;border-left: 1px solid gray;box-sizing: border-box;top: 0;bottom: 0;left: 50%;z-index: -1;}#sk-container-id-5 div.sk-parallel-item {display: flex;flex-direction: column;z-index: 1;position: relative;background-color: white;}#sk-container-id-5 div.sk-parallel-item:first-child::after {align-self: flex-end;width: 50%;}#sk-container-id-5 div.sk-parallel-item:last-child::after {align-self: flex-start;width: 50%;}#sk-container-id-5 div.sk-parallel-item:only-child::after {width: 0;}#sk-container-id-5 div.sk-dashed-wrapped {border: 1px dashed gray;margin: 0 0.4em 0.5em 0.4em;box-sizing: border-box;padding-bottom: 0.4em;background-color: white;}#sk-container-id-5 div.sk-label label {font-family: monospace;font-weight: bold;display: inline-block;line-height: 1.2em;}#sk-container-id-5 div.sk-label-container {text-align: center;}#sk-container-id-5 div.sk-container {/* jupyter's `normalize.less` sets `[hidden] { display: none; }` but bootstrap.min.css set `[hidden] { display: none !important; }` so we also need the `!important` here to be able to override the default hidden behavior on the sphinx rendered scikit-learn.org. See: https://github.com/scikit-learn/scikit-learn/issues/21755 */display: inline-block !important;position: relative;}#sk-container-id-5 div.sk-text-repr-fallback {display: none;}</style><div id=\"sk-container-id-5\" class=\"sk-top-container\"><div class=\"sk-text-repr-fallback\"><pre>AdaBoostClassifier()</pre><b>In a Jupyter environment, please rerun this cell to show the HTML representation or trust the notebook. <br />On GitHub, the HTML representation is unable to render, please try loading this page with nbviewer.org.</b></div><div class=\"sk-container\" hidden><div class=\"sk-item\"><div class=\"sk-estimator sk-toggleable\"><input class=\"sk-toggleable__control sk-hidden--visually\" id=\"sk-estimator-id-5\" type=\"checkbox\" checked><label for=\"sk-estimator-id-5\" class=\"sk-toggleable__label sk-toggleable__label-arrow\">AdaBoostClassifier</label><div class=\"sk-toggleable__content\"><pre>AdaBoostClassifier()</pre></div></div></div></div></div>"
      ],
      "text/plain": [
       "AdaBoostClassifier()"
      ]
     },
     "execution_count": 106,
     "metadata": {},
     "output_type": "execute_result"
    }
   ],
   "source": [
    "# Initiate Model\n",
    "ada = AdaBoostClassifier()\n",
    "\n",
    "# Fit the data\n",
    "ada.fit(x_train, y_train)"
   ]
  },
  {
   "cell_type": "code",
   "execution_count": 107,
   "id": "748b8790",
   "metadata": {},
   "outputs": [
    {
     "name": "stdout",
     "output_type": "stream",
     "text": [
      "              precision    recall  f1-score   support\n",
      "\n",
      "           0       0.89      0.79      0.83      3402\n",
      "           1       0.81      0.90      0.85      3402\n",
      "\n",
      "    accuracy                           0.84      6804\n",
      "   macro avg       0.85      0.84      0.84      6804\n",
      "weighted avg       0.85      0.84      0.84      6804\n",
      "\n"
     ]
    },
    {
     "data": {
      "image/png": "[encoded data removed]",
      "text/plain": [
       "<Figure size 432x288 with 2 Axes>"
      ]
     },
     "metadata": {
      "needs_background": "light"
     },
     "output_type": "display_data"
    }
   ],
   "source": [
    "# Lakukan Prediksi di Data Test\n",
    "y_pred = ada.predict(x_train)\n",
    "\n",
    "# Classification Report\n",
    "print(classification_report(y_train, y_pred))\n",
    "\n",
    "# # Confusion Matrix\n",
    "# [TN,FN]\n",
    "# [FP,TP]\n",
    "ConfusionMatrixDisplay.from_predictions(y_train, y_pred);"
   ]
  },
  {
   "cell_type": "code",
   "execution_count": 108,
   "id": "80563d5b",
   "metadata": {},
   "outputs": [
    {
     "data": {
      "text/plain": [
       "{'algorithm': 'SAMME.R',\n",
       " 'base_estimator': None,\n",
       " 'learning_rate': 1.0,\n",
       " 'n_estimators': 50,\n",
       " 'random_state': None}"
      ]
     },
     "execution_count": 108,
     "metadata": {},
     "output_type": "execute_result"
    }
   ],
   "source": [
    "# Get params\n",
    "ada.get_params()"
   ]
  },
  {
   "cell_type": "code",
   "execution_count": 109,
   "id": "4a778f0f",
   "metadata": {},
   "outputs": [
    {
     "data": {
      "text/plain": [
       "{'learning_rate': 1, 'n_estimators': 100}"
      ]
     },
     "execution_count": 109,
     "metadata": {},
     "output_type": "execute_result"
    }
   ],
   "source": [
    "# Tuning Hyperparameter\n",
    "grid = {\"learning_rate\": [0.1, 0.5, 1, 5],\n",
    "        \"n_estimators\": [50, 100]}\n",
    "\n",
    "from sklearn.model_selection import GridSearchCV\n",
    "\n",
    "gs_ada = GridSearchCV(estimator=ada,\n",
    "                      param_grid=grid,\n",
    "                      cv=5)\n",
    "\n",
    "gs_ada.fit(x_train, y_train)\n",
    "\n",
    "gs_ada.best_params_"
   ]
  },
  {
   "cell_type": "code",
   "execution_count": 110,
   "id": "c564f494",
   "metadata": {},
   "outputs": [
    {
     "name": "stdout",
     "output_type": "stream",
     "text": [
      "              precision    recall  f1-score   support\n",
      "\n",
      "           0       0.88      0.84      0.86      3402\n",
      "           1       0.85      0.89      0.87      3402\n",
      "\n",
      "    accuracy                           0.87      6804\n",
      "   macro avg       0.87      0.87      0.87      6804\n",
      "weighted avg       0.87      0.87      0.87      6804\n",
      "\n"
     ]
    },
    {
     "data": {
      "image/png": "[encoded data removed]",
      "text/plain": [
       "<Figure size 432x288 with 2 Axes>"
      ]
     },
     "metadata": {
      "needs_background": "light"
     },
     "output_type": "display_data"
    }
   ],
   "source": [
    "# Lakukan Prediksi di Data Train\n",
    "gs_y_pred = gs_ada.predict(x_train)\n",
    "\n",
    "# Classification Report\n",
    "print(classification_report(y_train, gs_y_pred))\n",
    "\n",
    "# # Confusion Matrix\n",
    "# [TN,FN]\n",
    "# [FP,TP]\n",
    "ConfusionMatrixDisplay.from_predictions(y_train, gs_y_pred);"
   ]
  },
  {
   "cell_type": "markdown",
   "id": "573ea502-80c6-40f8-a87d-1b80b38e6c5c",
   "metadata": {},
   "source": [
    "Dari hasil pengetesan performa di Data Train didapatkan model yang memiliki performa bagus ada di:\n",
    "* `Model KNearestNeighbor (KNN)`\n",
    "* `Support Vector Machine (SVC)`\n",
    "\n",
    "Untuk lebih meyakinkan performa prediksinya maka dilakukan Sanity Check di Data Test"
   ]
  },
  {
   "cell_type": "markdown",
   "id": "0bb67eb8",
   "metadata": {},
   "source": [
    "# 5. Sanity Check menggunakan Data Test"
   ]
  },
  {
   "cell_type": "markdown",
   "id": "6cd1229e",
   "metadata": {},
   "source": [
    "## 5.1 Model KNN"
   ]
  },
  {
   "cell_type": "code",
   "execution_count": 111,
   "id": "023ca865",
   "metadata": {},
   "outputs": [
    {
     "name": "stdout",
     "output_type": "stream",
     "text": [
      "              precision    recall  f1-score   support\n",
      "\n",
      "           0       0.95      0.92      0.94      1458\n",
      "           1       0.05      0.08      0.06        75\n",
      "\n",
      "    accuracy                           0.88      1533\n",
      "   macro avg       0.50      0.50      0.50      1533\n",
      "weighted avg       0.91      0.88      0.89      1533\n",
      "\n"
     ]
    },
    {
     "data": {
      "image/png": "[encoded data removed]",
      "text/plain": [
       "<Figure size 432x288 with 2 Axes>"
      ]
     },
     "metadata": {
      "needs_background": "light"
     },
     "output_type": "display_data"
    }
   ],
   "source": [
    "# Lakukan Prediksi di Data Test\n",
    "y_test_pred_knn = gs_knn.predict(x_test)\n",
    "\n",
    "# Classification Report\n",
    "print(classification_report(y_test, y_test_pred_knn))\n",
    "\n",
    "# # Confusion Matrix\n",
    "# [TN,FN]\n",
    "# [FP,TP]\n",
    "ConfusionMatrixDisplay.from_predictions(y_test, y_test_pred_knn);"
   ]
  },
  {
   "cell_type": "markdown",
   "id": "e88b63eb-e562-47b6-aeb2-dde533b6c3c8",
   "metadata": {},
   "source": [
    "## 5.2 Model Decision Tree"
   ]
  },
  {
   "cell_type": "code",
   "execution_count": 112,
   "id": "3e0ddd14-51b7-4ce2-838e-5b2c5f5bfb3e",
   "metadata": {},
   "outputs": [
    {
     "name": "stdout",
     "output_type": "stream",
     "text": [
      "              precision    recall  f1-score   support\n",
      "\n",
      "           0       0.96      0.14      0.24      1458\n",
      "           1       0.05      0.88      0.09        75\n",
      "\n",
      "    accuracy                           0.18      1533\n",
      "   macro avg       0.50      0.51      0.17      1533\n",
      "weighted avg       0.91      0.18      0.24      1533\n",
      "\n"
     ]
    },
    {
     "data": {
      "image/png": "[encoded data removed]",
      "text/plain": [
       "<Figure size 432x288 with 2 Axes>"
      ]
     },
     "metadata": {
      "needs_background": "light"
     },
     "output_type": "display_data"
    }
   ],
   "source": [
    "# Lakukan Prediksi di Data Test\n",
    "y_test_pred_dtc = gs_dtc.predict(x_test)\n",
    "\n",
    "# Classification Report\n",
    "print(classification_report(y_test, y_test_pred_dtc))\n",
    "\n",
    "# # Confusion Matrix\n",
    "# [TN,FN]\n",
    "# [FP,TP]\n",
    "ConfusionMatrixDisplay.from_predictions(y_test, y_test_pred_dtc);"
   ]
  },
  {
   "cell_type": "markdown",
   "id": "f1c23128-cdf0-459a-9cb7-64480225b4cd",
   "metadata": {},
   "source": [
    "## 5.3 Model Random Forest"
   ]
  },
  {
   "cell_type": "code",
   "execution_count": 113,
   "id": "438b845b-2399-4cd3-afcb-890a1cff4bff",
   "metadata": {},
   "outputs": [
    {
     "name": "stdout",
     "output_type": "stream",
     "text": [
      "              precision    recall  f1-score   support\n",
      "\n",
      "           0       1.00      0.41      0.58      1458\n",
      "           1       0.08      0.97      0.14        75\n",
      "\n",
      "    accuracy                           0.44      1533\n",
      "   macro avg       0.54      0.69      0.36      1533\n",
      "weighted avg       0.95      0.44      0.56      1533\n",
      "\n"
     ]
    },
    {
     "data": {
      "image/png": "[encoded data removed]",
      "text/plain": [
       "<Figure size 432x288 with 2 Axes>"
      ]
     },
     "metadata": {
      "needs_background": "light"
     },
     "output_type": "display_data"
    }
   ],
   "source": [
    "# Lakukan Prediksi di Data Test\n",
    "y_test_pred_rfc = gs_rfc.predict(x_test)\n",
    "\n",
    "# Classification Report\n",
    "print(classification_report(y_test, y_test_pred_rfc))\n",
    "\n",
    "# # Confusion Matrix\n",
    "# [TN,FN]\n",
    "# [FP,TP]\n",
    "ConfusionMatrixDisplay.from_predictions(y_test, y_test_pred_rfc);"
   ]
  },
  {
   "cell_type": "markdown",
   "id": "7bae05f3-0116-447e-8732-8b45aa98d0f3",
   "metadata": {},
   "source": [
    "## 5.4 Model Support Vector Machine"
   ]
  },
  {
   "cell_type": "code",
   "execution_count": 114,
   "id": "8eb04136-8e1b-4cad-8df9-3b15c4467eab",
   "metadata": {},
   "outputs": [
    {
     "name": "stdout",
     "output_type": "stream",
     "text": [
      "              precision    recall  f1-score   support\n",
      "\n",
      "           0       0.96      0.88      0.92      1458\n",
      "           1       0.10      0.25      0.14        75\n",
      "\n",
      "    accuracy                           0.85      1533\n",
      "   macro avg       0.53      0.57      0.53      1533\n",
      "weighted avg       0.92      0.85      0.88      1533\n",
      "\n"
     ]
    },
    {
     "data": {
      "image/png": "[encoded data removed]",
      "text/plain": [
       "<Figure size 432x288 with 2 Axes>"
      ]
     },
     "metadata": {
      "needs_background": "light"
     },
     "output_type": "display_data"
    }
   ],
   "source": [
    "# Lakukan Prediksi di Data Test\n",
    "y_test_pred_svc = gs_svc.predict(x_test)\n",
    "\n",
    "# Classification Report\n",
    "print(classification_report(y_test, y_test_pred_svc))\n",
    "\n",
    "# # Confusion Matrix\n",
    "# [TN,FN]\n",
    "# [FP,TP]\n",
    "ConfusionMatrixDisplay.from_predictions(y_test, y_test_pred_svc);"
   ]
  },
  {
   "cell_type": "markdown",
   "id": "f06d3b1f-9f38-4dcd-a1fe-12684bca0cda",
   "metadata": {},
   "source": [
    "## 5.5 Model Adaboost"
   ]
  },
  {
   "cell_type": "code",
   "execution_count": 115,
   "id": "eedc8576-c47b-469e-9c71-40daba3f74f4",
   "metadata": {},
   "outputs": [
    {
     "name": "stdout",
     "output_type": "stream",
     "text": [
      "              precision    recall  f1-score   support\n",
      "\n",
      "           0       1.00      0.07      0.14      1458\n",
      "           1       0.05      1.00      0.10        75\n",
      "\n",
      "    accuracy                           0.12      1533\n",
      "   macro avg       0.53      0.54      0.12      1533\n",
      "weighted avg       0.95      0.12      0.13      1533\n",
      "\n"
     ]
    },
    {
     "data": {
      "image/png": "[encoded data removed]",
      "text/plain": [
       "<Figure size 432x288 with 2 Axes>"
      ]
     },
     "metadata": {
      "needs_background": "light"
     },
     "output_type": "display_data"
    }
   ],
   "source": [
    "# Lakukan Prediksi di Data Test\n",
    "y_test_pred_ada = gs_ada.predict(x_test)\n",
    "\n",
    "# Classification Report\n",
    "print(classification_report(y_test, y_test_pred_ada))\n",
    "\n",
    "# # Confusion Matrix\n",
    "# [TN,FN]\n",
    "# [FP,TP]\n",
    "ConfusionMatrixDisplay.from_predictions(y_test, y_test_pred_ada);"
   ]
  },
  {
   "cell_type": "markdown",
   "id": "5dd304ad-0839-4c32-9aad-e5289cdb548d",
   "metadata": {},
   "source": [
    "Dari hasil pengetesan performa di Data Test (Sanity Check) didapatkan model yang memiliki performa bagus ada di:\n",
    "* `Model KNearestNeighbor (KNN)`\n",
    "* `Support Vector Machine (SVC)`\n",
    "\n",
    "Dengan begitu dikesimpulan akan dijabarkan perbedaan performa diantara kedua model tersebut"
   ]
  },
  {
   "cell_type": "markdown",
   "id": "eb4af97a-3fdd-451f-99ca-4a12b081d248",
   "metadata": {},
   "source": [
    "# 6. Kesimpulan"
   ]
  },
  {
   "cell_type": "code",
   "execution_count": 116,
   "id": "dac254e3-7e66-471e-8fbd-5ddf501a3173",
   "metadata": {},
   "outputs": [
    {
     "data": {
      "text/plain": [
       "{'0': {'precision': 0.9513055751587862,\n",
       "  'recall': 0.9245541838134431,\n",
       "  'f1-score': 0.9377391304347827,\n",
       "  'support': 1458},\n",
       " '1': {'precision': 0.05172413793103448,\n",
       "  'recall': 0.08,\n",
       "  'f1-score': 0.06282722513089005,\n",
       "  'support': 75},\n",
       " 'accuracy': 0.883235485975212,\n",
       " 'macro avg': {'precision': 0.5015148565449103,\n",
       "  'recall': 0.5022770919067215,\n",
       "  'f1-score': 0.5002831777828364,\n",
       "  'support': 1533},\n",
       " 'weighted avg': {'precision': 0.9072947416349237,\n",
       "  'recall': 0.883235485975212,\n",
       "  'f1-score': 0.8949352211733398,\n",
       "  'support': 1533}}"
      ]
     },
     "execution_count": 116,
     "metadata": {},
     "output_type": "execute_result"
    }
   ],
   "source": [
    "report_knn = classification_report(y_test, y_test_pred_knn, output_dict=True)\n",
    "report_knn"
   ]
  },
  {
   "cell_type": "code",
   "execution_count": 117,
   "id": "ad48c509-84fc-4018-a7f9-8546138bbc2d",
   "metadata": {},
   "outputs": [
    {
     "data": {
      "text/html": [
       "<div>\n",
       "<style scoped>\n",
       "    .dataframe tbody tr th:only-of-type {\n",
       "        vertical-align: middle;\n",
       "    }\n",
       "\n",
       "    .dataframe tbody tr th {\n",
       "        vertical-align: top;\n",
       "    }\n",
       "\n",
       "    .dataframe thead th {\n",
       "        text-align: right;\n",
       "    }\n",
       "</style>\n",
       "<table border=\"1\" class=\"dataframe\">\n",
       "  <thead>\n",
       "    <tr style=\"text-align: right;\">\n",
       "      <th></th>\n",
       "      <th>precision</th>\n",
       "      <th>recall</th>\n",
       "      <th>f1-score</th>\n",
       "      <th>support</th>\n",
       "    </tr>\n",
       "  </thead>\n",
       "  <tbody>\n",
       "    <tr>\n",
       "      <th>0</th>\n",
       "      <td>0.95</td>\n",
       "      <td>0.92</td>\n",
       "      <td>0.94</td>\n",
       "      <td>1458.00</td>\n",
       "    </tr>\n",
       "    <tr>\n",
       "      <th>1</th>\n",
       "      <td>0.05</td>\n",
       "      <td>0.08</td>\n",
       "      <td>0.06</td>\n",
       "      <td>75.00</td>\n",
       "    </tr>\n",
       "    <tr>\n",
       "      <th>accuracy</th>\n",
       "      <td>0.88</td>\n",
       "      <td>0.88</td>\n",
       "      <td>0.88</td>\n",
       "      <td>0.88</td>\n",
       "    </tr>\n",
       "    <tr>\n",
       "      <th>macro avg</th>\n",
       "      <td>0.50</td>\n",
       "      <td>0.50</td>\n",
       "      <td>0.50</td>\n",
       "      <td>1533.00</td>\n",
       "    </tr>\n",
       "    <tr>\n",
       "      <th>weighted avg</th>\n",
       "      <td>0.91</td>\n",
       "      <td>0.88</td>\n",
       "      <td>0.89</td>\n",
       "      <td>1533.00</td>\n",
       "    </tr>\n",
       "  </tbody>\n",
       "</table>\n",
       "</div>"
      ],
      "text/plain": [
       "              precision  recall  f1-score  support\n",
       "0                  0.95    0.92      0.94  1458.00\n",
       "1                  0.05    0.08      0.06    75.00\n",
       "accuracy           0.88    0.88      0.88     0.88\n",
       "macro avg          0.50    0.50      0.50  1533.00\n",
       "weighted avg       0.91    0.88      0.89  1533.00"
      ]
     },
     "execution_count": 117,
     "metadata": {},
     "output_type": "execute_result"
    }
   ],
   "source": [
    "df = pd.DataFrame(report_knn).transpose()\n",
    "round(df,2)"
   ]
  },
  {
   "cell_type": "code",
   "execution_count": 118,
   "id": "43ee25c0-91ba-4bc5-8244-5f0026e6946e",
   "metadata": {},
   "outputs": [
    {
     "data": {
      "text/plain": [
       "{'0': {'precision': 0.958364312267658,\n",
       "  'recall': 0.8840877914951989,\n",
       "  'f1-score': 0.9197288619336424,\n",
       "  'support': 1458},\n",
       " '1': {'precision': 0.10106382978723404,\n",
       "  'recall': 0.25333333333333335,\n",
       "  'f1-score': 0.1444866920152091,\n",
       "  'support': 75},\n",
       " 'accuracy': 0.8532289628180039,\n",
       " 'macro avg': {'precision': 0.5297140710274459,\n",
       "  'recall': 0.5687105624142661,\n",
       "  'f1-score': 0.5321077769744258,\n",
       "  'support': 1533},\n",
       " 'weighted avg': {'precision': 0.916422018604232,\n",
       "  'recall': 0.8532289628180039,\n",
       "  'f1-score': 0.8818011628182593,\n",
       "  'support': 1533}}"
      ]
     },
     "execution_count": 118,
     "metadata": {},
     "output_type": "execute_result"
    }
   ],
   "source": [
    "report_svc = classification_report(y_test, y_test_pred_svc, output_dict=True)\n",
    "report_svc"
   ]
  },
  {
   "cell_type": "code",
   "execution_count": 119,
   "id": "8aaaff0d-6795-4a32-965a-249c11b581f5",
   "metadata": {},
   "outputs": [
    {
     "data": {
      "text/html": [
       "<div>\n",
       "<style scoped>\n",
       "    .dataframe tbody tr th:only-of-type {\n",
       "        vertical-align: middle;\n",
       "    }\n",
       "\n",
       "    .dataframe tbody tr th {\n",
       "        vertical-align: top;\n",
       "    }\n",
       "\n",
       "    .dataframe thead th {\n",
       "        text-align: right;\n",
       "    }\n",
       "</style>\n",
       "<table border=\"1\" class=\"dataframe\">\n",
       "  <thead>\n",
       "    <tr style=\"text-align: right;\">\n",
       "      <th></th>\n",
       "      <th>precision</th>\n",
       "      <th>recall</th>\n",
       "      <th>f1-score</th>\n",
       "      <th>support</th>\n",
       "    </tr>\n",
       "  </thead>\n",
       "  <tbody>\n",
       "    <tr>\n",
       "      <th>0</th>\n",
       "      <td>0.96</td>\n",
       "      <td>0.88</td>\n",
       "      <td>0.92</td>\n",
       "      <td>1458.00</td>\n",
       "    </tr>\n",
       "    <tr>\n",
       "      <th>1</th>\n",
       "      <td>0.10</td>\n",
       "      <td>0.25</td>\n",
       "      <td>0.14</td>\n",
       "      <td>75.00</td>\n",
       "    </tr>\n",
       "    <tr>\n",
       "      <th>accuracy</th>\n",
       "      <td>0.85</td>\n",
       "      <td>0.85</td>\n",
       "      <td>0.85</td>\n",
       "      <td>0.85</td>\n",
       "    </tr>\n",
       "    <tr>\n",
       "      <th>macro avg</th>\n",
       "      <td>0.53</td>\n",
       "      <td>0.57</td>\n",
       "      <td>0.53</td>\n",
       "      <td>1533.00</td>\n",
       "    </tr>\n",
       "    <tr>\n",
       "      <th>weighted avg</th>\n",
       "      <td>0.92</td>\n",
       "      <td>0.85</td>\n",
       "      <td>0.88</td>\n",
       "      <td>1533.00</td>\n",
       "    </tr>\n",
       "  </tbody>\n",
       "</table>\n",
       "</div>"
      ],
      "text/plain": [
       "              precision  recall  f1-score  support\n",
       "0                  0.96    0.88      0.92  1458.00\n",
       "1                  0.10    0.25      0.14    75.00\n",
       "accuracy           0.85    0.85      0.85     0.85\n",
       "macro avg          0.53    0.57      0.53  1533.00\n",
       "weighted avg       0.92    0.85      0.88  1533.00"
      ]
     },
     "execution_count": 119,
     "metadata": {},
     "output_type": "execute_result"
    }
   ],
   "source": [
    "df = pd.DataFrame(report_svc).transpose()\n",
    "round(df,2)"
   ]
  },
  {
   "cell_type": "markdown",
   "id": "3b990bd8-4a55-4e92-aee0-62f9831defa0",
   "metadata": {},
   "source": [
    "Dikarenakan kasus kita adalah memprediksi apakah pasien akan mengalami stroke atau tidak, jika kita mempertimbangkan akurasi maka:\n",
    "\n",
    "* Model yang dipilih adalah `Model KNN`\n",
    "\n",
    "Jika yang dipertimbangkan adalah meminimilkan risiko pasien salah prediksi ketika pasien tidak stroke namun diprediksi stroke (False Positive) maka:\n",
    "\n",
    "* Model yang dipilih adalah `Model SVC`\n",
    "\n",
    "Namun karena Weighted Average dari `Model SVC` dengan `Model KNN` berbeda tipis dan mempertimbangkan akurasi yang lebih optimal maka model yang akan digunakan adalah `Model KNN`"
   ]
  },
  {
   "cell_type": "markdown",
   "id": "253ef080-1dc6-4dfb-805f-a32fe4705dea",
   "metadata": {},
   "source": [
    "## 7. Simpan dan Test Model"
   ]
  },
  {
   "cell_type": "code",
   "execution_count": 120,
   "id": "0fcd5a58-fba3-460c-9e01-e75bf70c2d72",
   "metadata": {},
   "outputs": [],
   "source": [
    "import pickle"
   ]
  },
  {
   "cell_type": "code",
   "execution_count": 121,
   "id": "205410da-cac4-4d85-a786-a3bb15a1ae29",
   "metadata": {},
   "outputs": [],
   "source": [
    "pickle.dump(gs_knn, open(\"gs_knn_model.pkl\",\"wb\"))"
   ]
  },
  {
   "cell_type": "code",
   "execution_count": 122,
   "id": "f471f51a-bf09-4d15-9dd4-df082529551b",
   "metadata": {},
   "outputs": [],
   "source": [
    "# Load saved Model\n",
    "load_pickle_model = pickle.load(open(\"gs_knn_model.pkl\",\"rb\"))"
   ]
  },
  {
   "cell_type": "code",
   "execution_count": 123,
   "id": "daf90ad3-a7f7-4054-a3a2-42d2548278ad",
   "metadata": {},
   "outputs": [
    {
     "name": "stdout",
     "output_type": "stream",
     "text": [
      "              precision    recall  f1-score   support\n",
      "\n",
      "           0       0.92      0.95      0.94      1417\n",
      "           1       0.08      0.05      0.06       116\n",
      "\n",
      "    accuracy                           0.88      1533\n",
      "   macro avg       0.50      0.50      0.50      1533\n",
      "weighted avg       0.86      0.88      0.87      1533\n",
      "\n"
     ]
    }
   ],
   "source": [
    "# Make some Prediction\n",
    "pickle_y_preds = load_pickle_model.predict(x_test)\n",
    "print(classification_report(pickle_y_preds, y_test))"
   ]
  },
  {
   "cell_type": "code",
   "execution_count": 124,
   "id": "1c96922f-97bd-47aa-a1fd-3d9c89d3cf3b",
   "metadata": {},
   "outputs": [],
   "source": [
    "pickle.dump(gs_svc, open(\"gs_svc_model.pkl\",\"wb\"))"
   ]
  },
  {
   "cell_type": "code",
   "execution_count": 125,
   "id": "92f61c49-62a8-47dc-9d88-cce522d3d6c5",
   "metadata": {},
   "outputs": [],
   "source": [
    "# Load saved Model\n",
    "load_pickle_model = pickle.load(open(\"gs_svc_model.pkl\",\"rb\"))"
   ]
  },
  {
   "cell_type": "code",
   "execution_count": 126,
   "id": "a03f8e44-178e-4198-b589-1c1c7c7f84a3",
   "metadata": {},
   "outputs": [
    {
     "name": "stdout",
     "output_type": "stream",
     "text": [
      "              precision    recall  f1-score   support\n",
      "\n",
      "           0       0.88      0.96      0.92      1345\n",
      "           1       0.25      0.10      0.14       188\n",
      "\n",
      "    accuracy                           0.85      1533\n",
      "   macro avg       0.57      0.53      0.53      1533\n",
      "weighted avg       0.81      0.85      0.82      1533\n",
      "\n"
     ]
    }
   ],
   "source": [
    "# Make some Prediction\n",
    "pickle_y_preds = load_pickle_model.predict(x_test)\n",
    "print(classification_report(pickle_y_preds, y_test))"
   ]
  },
  {
   "cell_type": "markdown",
   "id": "0a6bbf9c-f69d-40bf-a82c-132e3fdf15d9",
   "metadata": {},
   "source": [
    "# 8. Test Prediction"
   ]
  },
  {
   "cell_type": "code",
   "execution_count": 127,
   "id": "dee150a6-8245-4b8a-9700-aaf5427427ae",
   "metadata": {},
   "outputs": [
    {
     "name": "stdout",
     "output_type": "stream",
     "text": [
      "[0]\n",
      "person is not stroke\n"
     ]
    },
    {
     "name": "stderr",
     "output_type": "stream",
     "text": [
      "C:\\Users\\akbar\\anaconda3\\lib\\site-packages\\sklearn\\base.py:450: UserWarning: X does not have valid feature names, but SVC was fitted with feature names\n",
      "  warnings.warn(\n"
     ]
    }
   ],
   "source": [
    "input_data = [25, 0, 0, 120, 25, 0, 1, 0, 1, 0, 0, 0, 1, 0, 0, 1, 0, 0, 1, 0]\n",
    "\n",
    "# changing the input_data to numpy array\n",
    "input_data_as_numpy_array = np.asarray(input_data)\n",
    "\n",
    "# reshape the array as we are predicting for one instance\n",
    "input_data_reshaped = input_data_as_numpy_array.reshape(1,-1)\n",
    "\n",
    "prediction = load_pickle_model.predict(input_data_reshaped)\n",
    "print(prediction)\n",
    "\n",
    "if (prediction[0] == 0):\n",
    "    print(\"person is not stroke\")\n",
    "else:\n",
    "    print(\"The person is stroke\")"
   ]
  }
 ],
 "metadata": {
  "kernelspec": {
   "display_name": "Python 3 (ipykernel)",
   "language": "python",
   "name": "python3"
  },
  "language_info": {
   "codemirror_mode": {
    "name": "ipython",
    "version": 3
   },
   "file_extension": ".py",
   "mimetype": "text/x-python",
   "name": "python",
   "nbconvert_exporter": "python",
   "pygments_lexer": "ipython3",
   "version": "3.9.12"
  },
  "toc": {
   "base_numbering": 1,
   "nav_menu": {},
   "number_sections": true,
   "sideBar": true,
   "skip_h1_title": false,
   "title_cell": "Table of Contents",
   "title_sidebar": "Contents",
   "toc_cell": false,
   "toc_position": {
    "height": "calc(100% - 180px)",
    "left": "10px",
    "top": "150px",
    "width": "305.225px"
   },
   "toc_section_display": true,
   "toc_window_display": false
  }
 },
 "nbformat": 4,
 "nbformat_minor": 5
}
